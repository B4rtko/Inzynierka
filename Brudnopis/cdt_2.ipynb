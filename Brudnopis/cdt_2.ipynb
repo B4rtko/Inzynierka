{
 "cells": [
  {
   "cell_type": "code",
   "execution_count": 1,
   "metadata": {},
   "outputs": [
    {
     "name": "stderr",
     "output_type": "stream",
     "text": [
      "2023-03-25 12:55:27.325962: I tensorflow/core/platform/cpu_feature_guard.cc:193] This TensorFlow binary is optimized with oneAPI Deep Neural Network Library (oneDNN) to use the following CPU instructions in performance-critical operations:  AVX2 FMA\n",
      "To enable them in other operations, rebuild TensorFlow with the appropriate compiler flags.\n",
      "2023-03-25 12:55:27.522327: W tensorflow/compiler/xla/stream_executor/platform/default/dso_loader.cc:64] Could not load dynamic library 'libcudart.so.11.0'; dlerror: libcudart.so.11.0: cannot open shared object file: No such file or directory\n",
      "2023-03-25 12:55:27.522355: I tensorflow/compiler/xla/stream_executor/cuda/cudart_stub.cc:29] Ignore above cudart dlerror if you do not have a GPU set up on your machine.\n",
      "2023-03-25 12:55:28.950499: W tensorflow/compiler/xla/stream_executor/platform/default/dso_loader.cc:64] Could not load dynamic library 'libnvinfer.so.7'; dlerror: libnvinfer.so.7: cannot open shared object file: No such file or directory\n",
      "2023-03-25 12:55:28.950676: W tensorflow/compiler/xla/stream_executor/platform/default/dso_loader.cc:64] Could not load dynamic library 'libnvinfer_plugin.so.7'; dlerror: libnvinfer_plugin.so.7: cannot open shared object file: No such file or directory\n",
      "2023-03-25 12:55:28.950702: W tensorflow/compiler/tf2tensorrt/utils/py_utils.cc:38] TF-TRT Warning: Cannot dlopen some TensorRT libraries. If you would like to use Nvidia GPU with TensorRT, please make sure the missing libraries mentioned above are installed properly.\n"
     ]
    }
   ],
   "source": [
    "import pandas as pd\n",
    "import numpy as np\n",
    "import tensorflow as tf\n",
    "from keras.callbacks import EarlyStopping, ModelCheckpoint\n",
    "from sklearn.metrics import confusion_matrix\n",
    "from sklearn.preprocessing import StandardScaler\n",
    "from keras import backend as K\n",
    "\n",
    "import os\n",
    "os.chdir(\"..\")\n",
    "from src import *\n"
   ]
  },
  {
   "cell_type": "code",
   "execution_count": 2,
   "metadata": {},
   "outputs": [],
   "source": [
    "def recall_m(y_true, y_pred):\n",
    "    true_positives = K.sum(K.round(K.clip(y_true * y_pred, 0, 1)))\n",
    "    possible_positives = K.sum(K.round(K.clip(y_true, 0, 1)))\n",
    "    recall = true_positives / (possible_positives + K.epsilon())\n",
    "    return recall\n",
    "\n",
    "def precision_m(y_true, y_pred):\n",
    "    true_positives = K.sum(K.round(K.clip(y_true * y_pred, 0, 1)))\n",
    "    predicted_positives = K.sum(K.round(K.clip(y_pred, 0, 1)))\n",
    "    precision = true_positives / (predicted_positives + K.epsilon())\n",
    "    return precision\n",
    "\n",
    "def f1_m(y_true, y_pred):\n",
    "    precision = precision_m(y_true, y_pred)\n",
    "    recall = recall_m(y_true, y_pred)\n",
    "    return 2*((precision*recall)/(precision+recall+K.epsilon()))\n"
   ]
  },
  {
   "cell_type": "markdown",
   "metadata": {},
   "source": [
    "## Load data"
   ]
  },
  {
   "cell_type": "code",
   "execution_count": 3,
   "metadata": {},
   "outputs": [
    {
     "data": {
      "text/plain": "         Data  Otwarcie  Najwyzszy  Najnizszy  Zamkniecie    Wolumen\n0  1997-02-06    1717.2     1779.8     1717.2      1779.8  4435886.0\n1  1997-02-07    1778.2     1808.7     1778.2      1799.0  5448243.0\n2  1997-02-10    1797.4     1797.4     1780.3      1783.3  6513315.0\n3  1997-02-11    1803.3     1832.2     1803.3      1832.0  5146340.0\n4  1997-02-12    1824.6     1824.6     1804.9      1810.2  5748398.0",
      "text/html": "<div>\n<style scoped>\n    .dataframe tbody tr th:only-of-type {\n        vertical-align: middle;\n    }\n\n    .dataframe tbody tr th {\n        vertical-align: top;\n    }\n\n    .dataframe thead th {\n        text-align: right;\n    }\n</style>\n<table border=\"1\" class=\"dataframe\">\n  <thead>\n    <tr style=\"text-align: right;\">\n      <th></th>\n      <th>Data</th>\n      <th>Otwarcie</th>\n      <th>Najwyzszy</th>\n      <th>Najnizszy</th>\n      <th>Zamkniecie</th>\n      <th>Wolumen</th>\n    </tr>\n  </thead>\n  <tbody>\n    <tr>\n      <th>0</th>\n      <td>1997-02-06</td>\n      <td>1717.2</td>\n      <td>1779.8</td>\n      <td>1717.2</td>\n      <td>1779.8</td>\n      <td>4435886.0</td>\n    </tr>\n    <tr>\n      <th>1</th>\n      <td>1997-02-07</td>\n      <td>1778.2</td>\n      <td>1808.7</td>\n      <td>1778.2</td>\n      <td>1799.0</td>\n      <td>5448243.0</td>\n    </tr>\n    <tr>\n      <th>2</th>\n      <td>1997-02-10</td>\n      <td>1797.4</td>\n      <td>1797.4</td>\n      <td>1780.3</td>\n      <td>1783.3</td>\n      <td>6513315.0</td>\n    </tr>\n    <tr>\n      <th>3</th>\n      <td>1997-02-11</td>\n      <td>1803.3</td>\n      <td>1832.2</td>\n      <td>1803.3</td>\n      <td>1832.0</td>\n      <td>5146340.0</td>\n    </tr>\n    <tr>\n      <th>4</th>\n      <td>1997-02-12</td>\n      <td>1824.6</td>\n      <td>1824.6</td>\n      <td>1804.9</td>\n      <td>1810.2</td>\n      <td>5748398.0</td>\n    </tr>\n  </tbody>\n</table>\n</div>"
     },
     "execution_count": 3,
     "metadata": {},
     "output_type": "execute_result"
    }
   ],
   "source": [
    "_df = pd.read_csv(\"Data/wig20_d.csv\")\n",
    "# df = pd.read_csv(\"Data/mwig40_d.csv\")\n",
    "# df = pd.read_csv(\"Data/swig80_d.csv\")\n",
    "\n",
    "_df.drop(range(1000), inplace=True)\n",
    "_df.reset_index(inplace=True, drop=True)\n",
    "_df.head()"
   ]
  },
  {
   "cell_type": "code",
   "execution_count": 4,
   "metadata": {},
   "outputs": [
    {
     "data": {
      "text/plain": "(5, 6429)"
     },
     "execution_count": 4,
     "metadata": {},
     "output_type": "execute_result"
    }
   ],
   "source": [
    "data = _df.drop(columns=[\"Data\"]).values.transpose()\n",
    "data.shape"
   ]
  },
  {
   "cell_type": "markdown",
   "metadata": {},
   "source": [
    "## Process and split data"
   ]
  },
  {
   "cell_type": "code",
   "execution_count": 8,
   "metadata": {},
   "outputs": [],
   "source": [
    "thr_fall, thr_rise = (-0.005270574305918364, 0.004968199728502841)\n",
    "\n",
    "data_pipeline = DataProcess(\n",
    "    data, test_ratio=0.2, validation_ratio=0.2, batch_size=32,\n",
    "    threshold_fall=thr_fall, threshold_rise=thr_rise,\n",
    "    feature_to_predict_num=3,\n",
    "    balance_training_dataset=True\n",
    ")\n",
    "data_pipeline.run()\n",
    "_x_train, _y_train, _x_validation, _y_validation, _x_test, _y_test = data_pipeline.get_data()\n",
    "_y_test_ind, _y_validation_ind = np.argmax(_y_test, axis=1), np.argmax(_y_validation, axis=1)\n"
   ]
  },
  {
   "cell_type": "code",
   "execution_count": 9,
   "metadata": {},
   "outputs": [
    {
     "data": {
      "text/plain": "                           x          y\ntrain       (3336, 5, 32, 2)  (3336, 3)\ntest        (1254, 5, 32, 2)  (1254, 3)\nvalidation  (1742, 5, 32, 2)  (1742, 3)",
      "text/html": "<div>\n<style scoped>\n    .dataframe tbody tr th:only-of-type {\n        vertical-align: middle;\n    }\n\n    .dataframe tbody tr th {\n        vertical-align: top;\n    }\n\n    .dataframe thead th {\n        text-align: right;\n    }\n</style>\n<table border=\"1\" class=\"dataframe\">\n  <thead>\n    <tr style=\"text-align: right;\">\n      <th></th>\n      <th>x</th>\n      <th>y</th>\n    </tr>\n  </thead>\n  <tbody>\n    <tr>\n      <th>train</th>\n      <td>(3336, 5, 32, 2)</td>\n      <td>(3336, 3)</td>\n    </tr>\n    <tr>\n      <th>test</th>\n      <td>(1254, 5, 32, 2)</td>\n      <td>(1254, 3)</td>\n    </tr>\n    <tr>\n      <th>validation</th>\n      <td>(1742, 5, 32, 2)</td>\n      <td>(1742, 3)</td>\n    </tr>\n  </tbody>\n</table>\n</div>"
     },
     "execution_count": 9,
     "metadata": {},
     "output_type": "execute_result"
    }
   ],
   "source": [
    "pd.DataFrame(\n",
    "    {\n",
    "        \"x\": [_x_train.shape, _x_test.shape, _x_validation.shape],\n",
    "        \"y\": [_y_train.shape, _y_test.shape, _y_validation.shape]\n",
    "    },\n",
    "    index = [\"train\", \"test\", \"validation\"]\n",
    ")\n"
   ]
  },
  {
   "cell_type": "code",
   "execution_count": 10,
   "outputs": [
    {
     "name": "stdout",
     "output_type": "stream",
     "text": [
      "Train dataset classes value counts:\n"
     ]
    },
    {
     "data": {
      "text/plain": "array([1112, 1112, 1112])"
     },
     "execution_count": 10,
     "metadata": {},
     "output_type": "execute_result"
    }
   ],
   "source": [
    "print(\"Train dataset classes value counts:\")\n",
    "_y_train.sum(axis=0)\n",
    "# pd.DataFrame(\n",
    "#     {\n",
    "#         str(key): val for (key, val) in zip(*np.unique(np.argmax(_y_train, axis=1), return_counts=True))\n",
    "#     },\n",
    "#     index = [\"count\"]\n",
    "# )"
   ],
   "metadata": {
    "collapsed": false
   }
  },
  {
   "cell_type": "code",
   "execution_count": 7,
   "outputs": [],
   "source": [],
   "metadata": {
    "collapsed": false
   }
  },
  {
   "cell_type": "markdown",
   "metadata": {},
   "source": [
    "## Model"
   ]
  },
  {
   "cell_type": "markdown",
   "metadata": {},
   "source": [
    "### Building"
   ]
  },
  {
   "cell_type": "code",
   "execution_count": 8,
   "metadata": {},
   "outputs": [
    {
     "name": "stderr",
     "output_type": "stream",
     "text": [
      "2023-03-17 00:05:56.543123: W tensorflow/compiler/xla/stream_executor/platform/default/dso_loader.cc:64] Could not load dynamic library 'libcuda.so.1'; dlerror: libcuda.so.1: cannot open shared object file: No such file or directory\n",
      "2023-03-17 00:05:56.543176: W tensorflow/compiler/xla/stream_executor/cuda/cuda_driver.cc:265] failed call to cuInit: UNKNOWN ERROR (303)\n",
      "2023-03-17 00:05:56.543200: I tensorflow/compiler/xla/stream_executor/cuda/cuda_diagnostics.cc:156] kernel driver does not appear to be running on this host (banjaro): /proc/driver/nvidia/version does not exist\n",
      "2023-03-17 00:05:56.543495: I tensorflow/core/platform/cpu_feature_guard.cc:193] This TensorFlow binary is optimized with oneAPI Deep Neural Network Library (oneDNN) to use the following CPU instructions in performance-critical operations:  AVX2 FMA\n",
      "To enable them in other operations, rebuild TensorFlow with the appropriate compiler flags.\n"
     ]
    }
   ],
   "source": [
    "model = tf.keras.Sequential()\n",
    "\n",
    "model.add(tf.keras.Input(shape=_x_train.shape[1:]))\n",
    "for i in range(7):\n",
    "    model.add(tf.keras.layers.Conv2D(2, (1, 3), 1, padding=\"same\"))\n",
    "    model.add(tf.keras.layers.MaxPooling2D(pool_size=(1, 3), strides=(1, 3), padding='same'))\n",
    "\n",
    "model.add(tf.keras.layers.Flatten())\n",
    "model.add(tf.keras.layers.Dense(12))\n",
    "model.add(tf.keras.layers.Dense(7))\n",
    "model.add(tf.keras.layers.Dense(3, activation=\"softmax\"))\n"
   ]
  },
  {
   "cell_type": "code",
   "execution_count": 9,
   "metadata": {},
   "outputs": [],
   "source": [
    "model.build(input_shape=_x_train.shape[1:])"
   ]
  },
  {
   "cell_type": "code",
   "execution_count": 10,
   "metadata": {},
   "outputs": [
    {
     "name": "stdout",
     "output_type": "stream",
     "text": [
      "Model: \"sequential\"\n",
      "_________________________________________________________________\n",
      " Layer (type)                Output Shape              Param #   \n",
      "=================================================================\n",
      " conv2d (Conv2D)             (None, 5, 32, 2)          14        \n",
      "                                                                 \n",
      " max_pooling2d (MaxPooling2D  (None, 5, 11, 2)         0         \n",
      " )                                                               \n",
      "                                                                 \n",
      " conv2d_1 (Conv2D)           (None, 5, 11, 2)          14        \n",
      "                                                                 \n",
      " max_pooling2d_1 (MaxPooling  (None, 5, 4, 2)          0         \n",
      " 2D)                                                             \n",
      "                                                                 \n",
      " conv2d_2 (Conv2D)           (None, 5, 4, 2)           14        \n",
      "                                                                 \n",
      " max_pooling2d_2 (MaxPooling  (None, 5, 2, 2)          0         \n",
      " 2D)                                                             \n",
      "                                                                 \n",
      " conv2d_3 (Conv2D)           (None, 5, 2, 2)           14        \n",
      "                                                                 \n",
      " max_pooling2d_3 (MaxPooling  (None, 5, 1, 2)          0         \n",
      " 2D)                                                             \n",
      "                                                                 \n",
      " conv2d_4 (Conv2D)           (None, 5, 1, 2)           14        \n",
      "                                                                 \n",
      " max_pooling2d_4 (MaxPooling  (None, 5, 1, 2)          0         \n",
      " 2D)                                                             \n",
      "                                                                 \n",
      " conv2d_5 (Conv2D)           (None, 5, 1, 2)           14        \n",
      "                                                                 \n",
      " max_pooling2d_5 (MaxPooling  (None, 5, 1, 2)          0         \n",
      " 2D)                                                             \n",
      "                                                                 \n",
      " conv2d_6 (Conv2D)           (None, 5, 1, 2)           14        \n",
      "                                                                 \n",
      " max_pooling2d_6 (MaxPooling  (None, 5, 1, 2)          0         \n",
      " 2D)                                                             \n",
      "                                                                 \n",
      " flatten (Flatten)           (None, 10)                0         \n",
      "                                                                 \n",
      " dense (Dense)               (None, 12)                132       \n",
      "                                                                 \n",
      " dense_1 (Dense)             (None, 7)                 91        \n",
      "                                                                 \n",
      " dense_2 (Dense)             (None, 3)                 24        \n",
      "                                                                 \n",
      "=================================================================\n",
      "Total params: 345\n",
      "Trainable params: 345\n",
      "Non-trainable params: 0\n",
      "_________________________________________________________________\n"
     ]
    }
   ],
   "source": [
    "model.summary()"
   ]
  },
  {
   "cell_type": "code",
   "execution_count": 11,
   "metadata": {},
   "outputs": [],
   "source": [
    "model.compile(optimizer=tf.keras.optimizers.Adam(learning_rate=1e-5),\n",
    "              loss=tf.keras.losses.CategoricalCrossentropy(),\n",
    "              # metrics=f1_m\n",
    "              )\n"
   ]
  },
  {
   "cell_type": "code",
   "execution_count": 12,
   "metadata": {
    "scrolled": true
   },
   "outputs": [
    {
     "name": "stdout",
     "output_type": "stream",
     "text": [
      "Epoch 1/100\n",
      " 37/120 [========>.....................] - ETA: 0s - loss: 1.1080"
     ]
    },
    {
     "name": "stderr",
     "output_type": "stream",
     "text": [
      "2023-03-17 00:05:58.554802: W tensorflow/tsl/framework/cpu_allocator_impl.cc:82] Allocation of 21947040 exceeds 10% of free system memory.\n",
      "2023-03-17 00:05:58.554842: W tensorflow/tsl/framework/cpu_allocator_impl.cc:82] Allocation of 21947040 exceeds 10% of free system memory.\n",
      "2023-03-17 00:05:58.555021: W tensorflow/tsl/framework/cpu_allocator_impl.cc:82] Allocation of 22966680 exceeds 10% of free system memory.\n",
      "2023-03-17 00:05:58.555035: W tensorflow/tsl/framework/cpu_allocator_impl.cc:82] Allocation of 22966680 exceeds 10% of free system memory.\n",
      "2023-03-17 00:05:58.555350: W tensorflow/tsl/framework/cpu_allocator_impl.cc:82] Allocation of 23374080 exceeds 10% of free system memory.\n"
     ]
    },
    {
     "name": "stdout",
     "output_type": "stream",
     "text": [
      "120/120 [==============================] - 2s 5ms/step - loss: 1.1084\n",
      "Epoch 2/100\n",
      "120/120 [==============================] - 1s 4ms/step - loss: 1.1061\n",
      "Epoch 3/100\n",
      "120/120 [==============================] - 0s 4ms/step - loss: 1.1044\n",
      "Epoch 4/100\n",
      "120/120 [==============================] - 0s 4ms/step - loss: 1.1030\n",
      "Epoch 5/100\n",
      "120/120 [==============================] - 0s 4ms/step - loss: 1.1020\n",
      "Epoch 6/100\n",
      "120/120 [==============================] - 0s 4ms/step - loss: 1.1012\n",
      "Epoch 7/100\n",
      "120/120 [==============================] - 0s 4ms/step - loss: 1.1005\n",
      "Epoch 8/100\n",
      "120/120 [==============================] - 0s 4ms/step - loss: 1.0999\n",
      "Epoch 9/100\n",
      "120/120 [==============================] - 0s 4ms/step - loss: 1.0995\n",
      "Epoch 10/100\n",
      "120/120 [==============================] - 0s 4ms/step - loss: 1.0991\n",
      "Epoch 11/100\n",
      "120/120 [==============================] - 0s 4ms/step - loss: 1.0988\n",
      "Epoch 12/100\n",
      "120/120 [==============================] - 0s 4ms/step - loss: 1.0985\n",
      "Epoch 13/100\n",
      "120/120 [==============================] - 0s 4ms/step - loss: 1.0983\n",
      "Epoch 14/100\n",
      "120/120 [==============================] - 0s 4ms/step - loss: 1.0980\n",
      "Epoch 15/100\n",
      "120/120 [==============================] - 0s 4ms/step - loss: 1.0979\n",
      "Epoch 16/100\n",
      "120/120 [==============================] - 0s 4ms/step - loss: 1.0977\n",
      "Epoch 17/100\n",
      "120/120 [==============================] - 0s 4ms/step - loss: 1.0975\n",
      "Epoch 18/100\n",
      "120/120 [==============================] - 0s 4ms/step - loss: 1.0974\n",
      "Epoch 19/100\n",
      "120/120 [==============================] - 0s 4ms/step - loss: 1.0973\n",
      "Epoch 20/100\n",
      "120/120 [==============================] - 0s 4ms/step - loss: 1.0971\n",
      "Epoch 21/100\n",
      "120/120 [==============================] - 0s 4ms/step - loss: 1.0970\n",
      "Epoch 22/100\n",
      "120/120 [==============================] - 0s 4ms/step - loss: 1.0969\n",
      "Epoch 23/100\n",
      "120/120 [==============================] - 0s 4ms/step - loss: 1.0968\n",
      "Epoch 24/100\n",
      "120/120 [==============================] - 1s 4ms/step - loss: 1.0967\n",
      "Epoch 25/100\n",
      "120/120 [==============================] - 0s 4ms/step - loss: 1.0966\n",
      "Epoch 26/100\n",
      "120/120 [==============================] - 0s 4ms/step - loss: 1.0965\n",
      "Epoch 27/100\n",
      "120/120 [==============================] - 0s 4ms/step - loss: 1.0964\n",
      "Epoch 28/100\n",
      "120/120 [==============================] - 0s 4ms/step - loss: 1.0963\n",
      "Epoch 29/100\n",
      "120/120 [==============================] - 0s 4ms/step - loss: 1.0963\n",
      "Epoch 30/100\n",
      "120/120 [==============================] - 0s 4ms/step - loss: 1.0962\n",
      "Epoch 31/100\n",
      "120/120 [==============================] - 0s 4ms/step - loss: 1.0961\n",
      "Epoch 32/100\n",
      "120/120 [==============================] - 0s 4ms/step - loss: 1.0960\n",
      "Epoch 33/100\n",
      "120/120 [==============================] - 0s 4ms/step - loss: 1.0960\n",
      "Epoch 34/100\n",
      "120/120 [==============================] - 0s 4ms/step - loss: 1.0959\n",
      "Epoch 35/100\n",
      "120/120 [==============================] - 0s 4ms/step - loss: 1.0958\n",
      "Epoch 36/100\n",
      "120/120 [==============================] - 0s 4ms/step - loss: 1.0957\n",
      "Epoch 37/100\n",
      "120/120 [==============================] - 0s 4ms/step - loss: 1.0957\n",
      "Epoch 38/100\n",
      "120/120 [==============================] - 0s 4ms/step - loss: 1.0956\n",
      "Epoch 39/100\n",
      "120/120 [==============================] - 0s 4ms/step - loss: 1.0956\n",
      "Epoch 40/100\n",
      "120/120 [==============================] - 0s 4ms/step - loss: 1.0955\n",
      "Epoch 41/100\n",
      "120/120 [==============================] - 0s 4ms/step - loss: 1.0954\n",
      "Epoch 42/100\n",
      "120/120 [==============================] - 0s 4ms/step - loss: 1.0954\n",
      "Epoch 43/100\n",
      "120/120 [==============================] - 0s 4ms/step - loss: 1.0953\n",
      "Epoch 44/100\n",
      "120/120 [==============================] - 0s 4ms/step - loss: 1.0953\n",
      "Epoch 45/100\n",
      "120/120 [==============================] - 0s 4ms/step - loss: 1.0952\n",
      "Epoch 46/100\n",
      "120/120 [==============================] - 0s 4ms/step - loss: 1.0952\n",
      "Epoch 47/100\n",
      "120/120 [==============================] - 0s 4ms/step - loss: 1.0951\n",
      "Epoch 48/100\n",
      "120/120 [==============================] - 0s 4ms/step - loss: 1.0951\n",
      "Epoch 49/100\n",
      "120/120 [==============================] - 0s 4ms/step - loss: 1.0950\n",
      "Epoch 50/100\n",
      "120/120 [==============================] - 0s 4ms/step - loss: 1.0950\n",
      "Epoch 51/100\n",
      "120/120 [==============================] - 0s 4ms/step - loss: 1.0949\n",
      "Epoch 52/100\n",
      "120/120 [==============================] - 1s 5ms/step - loss: 1.0949\n",
      "Epoch 53/100\n",
      "120/120 [==============================] - 0s 4ms/step - loss: 1.0949\n",
      "Epoch 54/100\n",
      "120/120 [==============================] - 0s 4ms/step - loss: 1.0948\n",
      "Epoch 55/100\n",
      "120/120 [==============================] - 0s 4ms/step - loss: 1.0948\n",
      "Epoch 56/100\n",
      "120/120 [==============================] - 0s 4ms/step - loss: 1.0947\n",
      "Epoch 57/100\n",
      "120/120 [==============================] - 0s 4ms/step - loss: 1.0947\n",
      "Epoch 58/100\n",
      "120/120 [==============================] - 0s 4ms/step - loss: 1.0947\n",
      "Epoch 59/100\n",
      "120/120 [==============================] - 0s 4ms/step - loss: 1.0946\n",
      "Epoch 60/100\n",
      "120/120 [==============================] - 1s 4ms/step - loss: 1.0946\n",
      "Epoch 61/100\n",
      "120/120 [==============================] - 0s 4ms/step - loss: 1.0946\n",
      "Epoch 62/100\n",
      "120/120 [==============================] - 1s 4ms/step - loss: 1.0946\n",
      "Epoch 63/100\n",
      "120/120 [==============================] - 0s 4ms/step - loss: 1.0945\n",
      "Epoch 64/100\n",
      "120/120 [==============================] - 0s 4ms/step - loss: 1.0945\n",
      "Epoch 65/100\n",
      "120/120 [==============================] - 1s 4ms/step - loss: 1.0945\n",
      "Epoch 66/100\n",
      "120/120 [==============================] - 1s 4ms/step - loss: 1.0945\n",
      "Epoch 67/100\n",
      "120/120 [==============================] - 1s 4ms/step - loss: 1.0944\n",
      "Epoch 68/100\n",
      "120/120 [==============================] - 0s 4ms/step - loss: 1.0944\n",
      "Epoch 69/100\n",
      "120/120 [==============================] - 1s 4ms/step - loss: 1.0944\n",
      "Epoch 70/100\n",
      "120/120 [==============================] - 1s 4ms/step - loss: 1.0944\n",
      "Epoch 71/100\n",
      "120/120 [==============================] - 0s 4ms/step - loss: 1.0943\n",
      "Epoch 72/100\n",
      "120/120 [==============================] - 1s 4ms/step - loss: 1.0943\n",
      "Epoch 73/100\n",
      "120/120 [==============================] - 1s 4ms/step - loss: 1.0943\n",
      "Epoch 74/100\n",
      "120/120 [==============================] - 1s 4ms/step - loss: 1.0943\n",
      "Epoch 75/100\n",
      "120/120 [==============================] - 1s 4ms/step - loss: 1.0943\n",
      "Epoch 76/100\n",
      "120/120 [==============================] - 0s 4ms/step - loss: 1.0943\n",
      "Epoch 77/100\n",
      "120/120 [==============================] - 0s 4ms/step - loss: 1.0943\n",
      "Epoch 78/100\n",
      "120/120 [==============================] - 0s 4ms/step - loss: 1.0942\n",
      "Epoch 79/100\n",
      "120/120 [==============================] - 1s 4ms/step - loss: 1.0942\n",
      "Epoch 80/100\n",
      "120/120 [==============================] - 1s 5ms/step - loss: 1.0942\n",
      "Epoch 81/100\n",
      "120/120 [==============================] - 1s 4ms/step - loss: 1.0942\n",
      "Epoch 82/100\n",
      "120/120 [==============================] - 1s 4ms/step - loss: 1.0942\n",
      "Epoch 83/100\n",
      "120/120 [==============================] - 1s 4ms/step - loss: 1.0942\n",
      "Epoch 84/100\n",
      "120/120 [==============================] - 1s 5ms/step - loss: 1.0941\n",
      "Epoch 85/100\n",
      "120/120 [==============================] - 1s 4ms/step - loss: 1.0941\n",
      "Epoch 86/100\n",
      "120/120 [==============================] - 0s 4ms/step - loss: 1.0941\n",
      "Epoch 87/100\n",
      "120/120 [==============================] - 0s 4ms/step - loss: 1.0941\n",
      "Epoch 88/100\n",
      "120/120 [==============================] - 0s 4ms/step - loss: 1.0941\n",
      "Epoch 89/100\n",
      "120/120 [==============================] - 0s 4ms/step - loss: 1.0941\n",
      "Epoch 90/100\n",
      "120/120 [==============================] - 0s 4ms/step - loss: 1.0941\n",
      "Epoch 91/100\n",
      "120/120 [==============================] - 0s 4ms/step - loss: 1.0941\n",
      "Epoch 92/100\n",
      "120/120 [==============================] - 0s 4ms/step - loss: 1.0941\n",
      "Epoch 93/100\n",
      "120/120 [==============================] - 0s 4ms/step - loss: 1.0941\n",
      "Epoch 94/100\n",
      "120/120 [==============================] - 0s 4ms/step - loss: 1.0941\n",
      "Epoch 95/100\n",
      "120/120 [==============================] - 0s 4ms/step - loss: 1.0940\n",
      "Epoch 96/100\n",
      "120/120 [==============================] - 1s 5ms/step - loss: 1.0940\n",
      "Epoch 97/100\n",
      "120/120 [==============================] - 1s 5ms/step - loss: 1.0940\n",
      "Epoch 98/100\n",
      "120/120 [==============================] - 1s 4ms/step - loss: 1.0940\n",
      "Epoch 99/100\n",
      "120/120 [==============================] - 1s 4ms/step - loss: 1.0940\n",
      "Epoch 100/100\n",
      "120/120 [==============================] - 1s 4ms/step - loss: 1.0940\n"
     ]
    }
   ],
   "source": [
    "# es = tf.keras.callbacks.EarlyStopping(monitor='val_f1_m',\n",
    "#                                       mode='max',\n",
    "#                                       min_delta=1e-3,\n",
    "#                                       patience=20,\n",
    "#                                       start_from_epoch=200,\n",
    "#                                       )\n",
    "# mc = tf.keras.callbacks.ModelCheckpoint('Models/cdt_2/best_model.h5',\n",
    "#                                         monitor='val_f1_m',\n",
    "#                                         mode='max'\n",
    "#                                         )\n",
    "\n",
    "history = model.fit(_x_train, _y_train,\n",
    "                    epochs=100,\n",
    "                    # callbacks=[es, mc],\n",
    "                    # validation_data=(_x_test, _y_test)\n",
    "                    )\n"
   ]
  },
  {
   "cell_type": "code",
   "execution_count": 13,
   "metadata": {},
   "outputs": [],
   "source": [
    "# model.save(\"Models/cdt_2\")"
   ]
  },
  {
   "cell_type": "markdown",
   "metadata": {},
   "source": [
    "### Evaluating"
   ]
  },
  {
   "cell_type": "markdown",
   "metadata": {},
   "source": [
    "### Test"
   ]
  },
  {
   "cell_type": "code",
   "execution_count": 14,
   "metadata": {},
   "outputs": [
    {
     "name": "stdout",
     "output_type": "stream",
     "text": [
      "40/40 [==============================] - 0s 2ms/step - loss: 1.0997\n"
     ]
    },
    {
     "data": {
      "text/plain": "1.0996538400650024"
     },
     "execution_count": 14,
     "metadata": {},
     "output_type": "execute_result"
    }
   ],
   "source": [
    "model.evaluate(_x_test, _y_test)"
   ]
  },
  {
   "cell_type": "code",
   "execution_count": 15,
   "metadata": {},
   "outputs": [
    {
     "name": "stdout",
     "output_type": "stream",
     "text": [
      "40/40 [==============================] - 0s 3ms/step\n"
     ]
    }
   ],
   "source": [
    "pred_test = model.predict(_x_test)\n",
    "pred_test_ind = np.argmax(pred_test, axis=1)"
   ]
  },
  {
   "cell_type": "code",
   "execution_count": 16,
   "metadata": {},
   "outputs": [
    {
     "name": "stdout",
     "output_type": "stream",
     "text": [
      "Test correct: 400\n",
      "Test accuracy: 0.3189792663476874\n"
     ]
    }
   ],
   "source": [
    "print(\"Test correct:\", np.sum(pred_test_ind == _y_test_ind))\n",
    "print(\"Test accuracy:\", np.sum(pred_test_ind == _y_test_ind)/pred_test_ind.shape[0])"
   ]
  },
  {
   "cell_type": "code",
   "execution_count": 17,
   "metadata": {},
   "outputs": [
    {
     "data": {
      "text/plain": "array([[ 27,   0, 396],\n       [ 20,   0, 403],\n       [ 35,   0, 373]])"
     },
     "execution_count": 17,
     "metadata": {},
     "output_type": "execute_result"
    }
   ],
   "source": [
    "confusion_matrix(_y_test_ind, pred_test_ind)"
   ]
  },
  {
   "cell_type": "markdown",
   "metadata": {},
   "source": [
    "### Valitation"
   ]
  },
  {
   "cell_type": "code",
   "execution_count": 18,
   "metadata": {},
   "outputs": [
    {
     "name": "stdout",
     "output_type": "stream",
     "text": [
      "40/40 [==============================] - 0s 2ms/step - loss: 1.1093\n"
     ]
    },
    {
     "data": {
      "text/plain": "1.1093082427978516"
     },
     "execution_count": 18,
     "metadata": {},
     "output_type": "execute_result"
    }
   ],
   "source": [
    "model.evaluate(_x_validation, _y_validation)"
   ]
  },
  {
   "cell_type": "code",
   "execution_count": 19,
   "metadata": {},
   "outputs": [
    {
     "name": "stdout",
     "output_type": "stream",
     "text": [
      "40/40 [==============================] - 0s 3ms/step\n"
     ]
    }
   ],
   "source": [
    "pred_validation = model.predict(_x_validation)\n",
    "pred_validation_ind = np.argmax(pred_validation, axis=1)"
   ]
  },
  {
   "cell_type": "code",
   "execution_count": 20,
   "metadata": {},
   "outputs": [
    {
     "name": "stdout",
     "output_type": "stream",
     "text": [
      "Validation correct: 367\n",
      "Validation accuracy: 0.2926634768740032\n"
     ]
    }
   ],
   "source": [
    "print(\"Validation correct:\", np.sum(pred_validation_ind == _y_validation_ind))\n",
    "print(\"Validation accuracy:\", np.sum(pred_validation_ind == _y_validation_ind)/pred_validation_ind.shape[0])"
   ]
  },
  {
   "cell_type": "code",
   "execution_count": 21,
   "metadata": {},
   "outputs": [
    {
     "data": {
      "text/plain": "array([[  0,   0, 337],\n       [  0,   0, 550],\n       [  0,   0, 367]])"
     },
     "execution_count": 21,
     "metadata": {},
     "output_type": "execute_result"
    }
   ],
   "source": [
    "confusion_matrix(_y_validation_ind, pred_validation_ind)"
   ]
  },
  {
   "cell_type": "code",
   "execution_count": 21,
   "metadata": {},
   "outputs": [],
   "source": []
  },
  {
   "cell_type": "code",
   "execution_count": 21,
   "metadata": {},
   "outputs": [],
   "source": []
  },
  {
   "cell_type": "code",
   "execution_count": 21,
   "outputs": [],
   "source": [],
   "metadata": {
    "collapsed": false
   }
  },
  {
   "cell_type": "markdown",
   "source": [
    "# Draft"
   ],
   "metadata": {
    "collapsed": false
   }
  },
  {
   "cell_type": "code",
   "execution_count": 22,
   "outputs": [],
   "source": [
    "a = np.broadcast_to(np.arange(10).reshape((1, 1, -1, 1)), (50, 1, 10, 2))\n"
   ],
   "metadata": {
    "collapsed": false
   }
  },
  {
   "cell_type": "code",
   "execution_count": 22,
   "outputs": [],
   "source": [],
   "metadata": {
    "collapsed": false
   }
  }
 ],
 "metadata": {
  "kernelspec": {
   "display_name": "inzynierka",
   "language": "python",
   "name": "inzynierka"
  },
  "language_info": {
   "codemirror_mode": {
    "name": "ipython",
    "version": 3
   },
   "file_extension": ".py",
   "mimetype": "text/x-python",
   "name": "python",
   "nbconvert_exporter": "python",
   "pygments_lexer": "ipython3",
   "version": "3.10.9"
  }
 },
 "nbformat": 4,
 "nbformat_minor": 1
}

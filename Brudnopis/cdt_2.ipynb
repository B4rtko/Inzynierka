{
 "cells": [
  {
   "cell_type": "code",
   "execution_count": 1,
   "outputs": [
    {
     "name": "stderr",
     "output_type": "stream",
     "text": [
      "2023-02-24 19:41:46.102441: I tensorflow/core/platform/cpu_feature_guard.cc:193] This TensorFlow binary is optimized with oneAPI Deep Neural Network Library (oneDNN) to use the following CPU instructions in performance-critical operations:  AVX2 FMA\n",
      "To enable them in other operations, rebuild TensorFlow with the appropriate compiler flags.\n",
      "2023-02-24 19:41:46.255882: W tensorflow/stream_executor/platform/default/dso_loader.cc:64] Could not load dynamic library 'libcudart.so.11.0'; dlerror: libcudart.so.11.0: cannot open shared object file: No such file or directory\n",
      "2023-02-24 19:41:46.255902: I tensorflow/stream_executor/cuda/cudart_stub.cc:29] Ignore above cudart dlerror if you do not have a GPU set up on your machine.\n",
      "2023-02-24 19:41:46.290337: E tensorflow/stream_executor/cuda/cuda_blas.cc:2981] Unable to register cuBLAS factory: Attempting to register factory for plugin cuBLAS when one has already been registered\n",
      "2023-02-24 19:41:47.160369: W tensorflow/stream_executor/platform/default/dso_loader.cc:64] Could not load dynamic library 'libnvinfer.so.7'; dlerror: libnvinfer.so.7: cannot open shared object file: No such file or directory\n",
      "2023-02-24 19:41:47.160473: W tensorflow/stream_executor/platform/default/dso_loader.cc:64] Could not load dynamic library 'libnvinfer_plugin.so.7'; dlerror: libnvinfer_plugin.so.7: cannot open shared object file: No such file or directory\n",
      "2023-02-24 19:41:47.160482: W tensorflow/compiler/tf2tensorrt/utils/py_utils.cc:38] TF-TRT Warning: Cannot dlopen some TensorRT libraries. If you would like to use Nvidia GPU with TensorRT, please make sure the missing libraries mentioned above are installed properly.\n"
     ]
    }
   ],
   "source": [
    "import pandas as pd\n",
    "import numpy as np\n",
    "import tensorflow as tf\n",
    "#from keras.layers import LSTM, Dropout, Dense, Layer, Conv1D\n",
    "from keras.models import Sequential\n"
   ],
   "metadata": {
    "collapsed": false
   }
  },
  {
   "cell_type": "code",
   "execution_count": 2,
   "outputs": [],
   "source": [
    "import os\n",
    "os.chdir(\"..\")\n",
    "from src import *\n"
   ],
   "metadata": {
    "collapsed": false
   }
  },
  {
   "cell_type": "code",
   "execution_count": 3,
   "outputs": [
    {
     "data": {
      "text/plain": "         Data  Otwarcie  Najwyzszy  Najnizszy  Zamkniecie    Wolumen\n0  1997-02-06    1717.2     1779.8     1717.2      1779.8  4435886.0\n1  1997-02-07    1778.2     1808.7     1778.2      1799.0  5448243.0\n2  1997-02-10    1797.4     1797.4     1780.3      1783.3  6513315.0\n3  1997-02-11    1803.3     1832.2     1803.3      1832.0  5146340.0\n4  1997-02-12    1824.6     1824.6     1804.9      1810.2  5748398.0",
      "text/html": "<div>\n<style scoped>\n    .dataframe tbody tr th:only-of-type {\n        vertical-align: middle;\n    }\n\n    .dataframe tbody tr th {\n        vertical-align: top;\n    }\n\n    .dataframe thead th {\n        text-align: right;\n    }\n</style>\n<table border=\"1\" class=\"dataframe\">\n  <thead>\n    <tr style=\"text-align: right;\">\n      <th></th>\n      <th>Data</th>\n      <th>Otwarcie</th>\n      <th>Najwyzszy</th>\n      <th>Najnizszy</th>\n      <th>Zamkniecie</th>\n      <th>Wolumen</th>\n    </tr>\n  </thead>\n  <tbody>\n    <tr>\n      <th>0</th>\n      <td>1997-02-06</td>\n      <td>1717.2</td>\n      <td>1779.8</td>\n      <td>1717.2</td>\n      <td>1779.8</td>\n      <td>4435886.0</td>\n    </tr>\n    <tr>\n      <th>1</th>\n      <td>1997-02-07</td>\n      <td>1778.2</td>\n      <td>1808.7</td>\n      <td>1778.2</td>\n      <td>1799.0</td>\n      <td>5448243.0</td>\n    </tr>\n    <tr>\n      <th>2</th>\n      <td>1997-02-10</td>\n      <td>1797.4</td>\n      <td>1797.4</td>\n      <td>1780.3</td>\n      <td>1783.3</td>\n      <td>6513315.0</td>\n    </tr>\n    <tr>\n      <th>3</th>\n      <td>1997-02-11</td>\n      <td>1803.3</td>\n      <td>1832.2</td>\n      <td>1803.3</td>\n      <td>1832.0</td>\n      <td>5146340.0</td>\n    </tr>\n    <tr>\n      <th>4</th>\n      <td>1997-02-12</td>\n      <td>1824.6</td>\n      <td>1824.6</td>\n      <td>1804.9</td>\n      <td>1810.2</td>\n      <td>5748398.0</td>\n    </tr>\n  </tbody>\n</table>\n</div>"
     },
     "execution_count": 3,
     "metadata": {},
     "output_type": "execute_result"
    }
   ],
   "source": [
    "_df = pd.read_csv(\"Data/wig20_d.csv\")\n",
    "# df = pd.read_csv(\"Data/mwig40_d.csv\")\n",
    "# df = pd.read_csv(\"Data/swig80_d.csv\")\n",
    "\n",
    "_df.drop(range(1000), inplace=True)\n",
    "_df.reset_index(inplace=True, drop=True)\n",
    "_df.head()"
   ],
   "metadata": {
    "collapsed": false
   }
  },
  {
   "cell_type": "code",
   "execution_count": 4,
   "outputs": [
    {
     "name": "stdout",
     "output_type": "stream",
     "text": [
      "<class 'pandas.core.frame.DataFrame'>\n",
      "RangeIndex: 6429 entries, 0 to 6428\n",
      "Data columns (total 6 columns):\n",
      " #   Column      Non-Null Count  Dtype  \n",
      "---  ------      --------------  -----  \n",
      " 0   Data        6429 non-null   object \n",
      " 1   Otwarcie    6429 non-null   float64\n",
      " 2   Najwyzszy   6429 non-null   float64\n",
      " 3   Najnizszy   6429 non-null   float64\n",
      " 4   Zamkniecie  6429 non-null   float64\n",
      " 5   Wolumen     6429 non-null   float64\n",
      "dtypes: float64(5), object(1)\n",
      "memory usage: 301.5+ KB\n"
     ]
    }
   ],
   "source": [
    "_df.info()"
   ],
   "metadata": {
    "collapsed": false
   }
  },
  {
   "cell_type": "code",
   "execution_count": 5,
   "outputs": [
    {
     "data": {
      "text/plain": "Index(['Data', 'Otwarcie', 'Najwyzszy', 'Najnizszy', 'Zamkniecie', 'Wolumen'], dtype='object')"
     },
     "execution_count": 5,
     "metadata": {},
     "output_type": "execute_result"
    }
   ],
   "source": [
    "_df.columns"
   ],
   "metadata": {
    "collapsed": false
   }
  },
  {
   "cell_type": "code",
   "execution_count": 6,
   "outputs": [],
   "source": [
    "data = _df.drop(columns=[\"Data\"]).values.transpose()"
   ],
   "metadata": {
    "collapsed": false
   }
  },
  {
   "cell_type": "code",
   "execution_count": 7,
   "outputs": [
    {
     "data": {
      "text/plain": "(5, 6429)"
     },
     "execution_count": 7,
     "metadata": {},
     "output_type": "execute_result"
    }
   ],
   "source": [
    "data.shape"
   ],
   "metadata": {
    "collapsed": false
   }
  },
  {
   "cell_type": "code",
   "execution_count": 8,
   "outputs": [
    {
     "name": "stdout",
     "output_type": "stream",
     "text": [
      "train\n",
      "test\n",
      "validation\n"
     ]
    }
   ],
   "source": [
    "_x_train, _y_train, _x_test, _y_test, _x_validation, _y_validation = data_prepare_to_model_2d(data, test_ratio=0.2, validation_ratio=0.2, batch_size=32)"
   ],
   "metadata": {
    "collapsed": false
   }
  },
  {
   "cell_type": "code",
   "execution_count": 9,
   "outputs": [
    {
     "name": "stdout",
     "output_type": "stream",
     "text": [
      "train (3825, 5, 32, 2)\n",
      "test (1254, 5, 32, 2)\n",
      "validation (1254, 5, 32, 2)\n"
     ]
    }
   ],
   "source": [
    "print(\"train\", _x_train.shape)\n",
    "print(\"test\", _x_test.shape)\n",
    "print(\"validation\", _x_validation.shape)\n"
   ],
   "metadata": {
    "collapsed": false
   }
  },
  {
   "cell_type": "code",
   "execution_count": 10,
   "outputs": [
    {
     "name": "stdout",
     "output_type": "stream",
     "text": [
      "train (3825, 5, 1, 2)\n",
      "test (1254, 5, 1, 2)\n",
      "validation (1254, 5, 1, 2)\n"
     ]
    }
   ],
   "source": [
    "print(\"train\", _y_train.shape)\n",
    "print(\"test\", _y_test.shape)\n",
    "print(\"validation\", _y_validation.shape)\n"
   ],
   "metadata": {
    "collapsed": false
   }
  },
  {
   "cell_type": "code",
   "execution_count": 21,
   "outputs": [],
   "source": [],
   "metadata": {
    "collapsed": false
   }
  },
  {
   "cell_type": "code",
   "execution_count": 11,
   "outputs": [
    {
     "name": "stderr",
     "output_type": "stream",
     "text": [
      "2023-02-24 19:43:31.767251: W tensorflow/stream_executor/platform/default/dso_loader.cc:64] Could not load dynamic library 'libcuda.so.1'; dlerror: libcuda.so.1: cannot open shared object file: No such file or directory\n",
      "2023-02-24 19:43:31.767287: W tensorflow/stream_executor/cuda/cuda_driver.cc:263] failed call to cuInit: UNKNOWN ERROR (303)\n",
      "2023-02-24 19:43:31.767319: I tensorflow/stream_executor/cuda/cuda_diagnostics.cc:156] kernel driver does not appear to be running on this host (banjaro): /proc/driver/nvidia/version does not exist\n",
      "2023-02-24 19:43:31.768386: I tensorflow/core/platform/cpu_feature_guard.cc:193] This TensorFlow binary is optimized with oneAPI Deep Neural Network Library (oneDNN) to use the following CPU instructions in performance-critical operations:  AVX2 FMA\n",
      "To enable them in other operations, rebuild TensorFlow with the appropriate compiler flags.\n"
     ]
    }
   ],
   "source": [
    "model = tf.keras.Sequential()\n",
    "\n",
    "model.add(tf.keras.Input(shape=_x_train.shape[1:]))\n",
    "for i in range(7):\n",
    "    model.add(tf.keras.layers.Conv2D(2, (1, 3), 1, padding=\"same\"))\n",
    "    model.add(tf.keras.layers.MaxPooling2D(pool_size=(1, 3), strides=(1, 3), padding='same'))\n",
    "\n",
    "model.add(tf.keras.layers.Dense(12))\n",
    "model.add(tf.keras.layers.Dense(7))\n",
    "model.add(tf.keras.layers.Dense(3, activation=\"softmax\"))\n",
    "model.add(tf.keras.layers.Dense(2))\n"
   ],
   "metadata": {
    "collapsed": false
   }
  },
  {
   "cell_type": "code",
   "execution_count": 12,
   "outputs": [],
   "source": [
    "model.build(input_shape=_x_train.shape[1:])"
   ],
   "metadata": {
    "collapsed": false
   }
  },
  {
   "cell_type": "code",
   "execution_count": 13,
   "outputs": [
    {
     "name": "stdout",
     "output_type": "stream",
     "text": [
      "Model: \"sequential\"\n",
      "_________________________________________________________________\n",
      " Layer (type)                Output Shape              Param #   \n",
      "=================================================================\n",
      " conv2d (Conv2D)             (None, 5, 32, 2)          14        \n",
      "                                                                 \n",
      " max_pooling2d (MaxPooling2D  (None, 5, 11, 2)         0         \n",
      " )                                                               \n",
      "                                                                 \n",
      " conv2d_1 (Conv2D)           (None, 5, 11, 2)          14        \n",
      "                                                                 \n",
      " max_pooling2d_1 (MaxPooling  (None, 5, 4, 2)          0         \n",
      " 2D)                                                             \n",
      "                                                                 \n",
      " conv2d_2 (Conv2D)           (None, 5, 4, 2)           14        \n",
      "                                                                 \n",
      " max_pooling2d_2 (MaxPooling  (None, 5, 2, 2)          0         \n",
      " 2D)                                                             \n",
      "                                                                 \n",
      " conv2d_3 (Conv2D)           (None, 5, 2, 2)           14        \n",
      "                                                                 \n",
      " max_pooling2d_3 (MaxPooling  (None, 5, 1, 2)          0         \n",
      " 2D)                                                             \n",
      "                                                                 \n",
      " conv2d_4 (Conv2D)           (None, 5, 1, 2)           14        \n",
      "                                                                 \n",
      " max_pooling2d_4 (MaxPooling  (None, 5, 1, 2)          0         \n",
      " 2D)                                                             \n",
      "                                                                 \n",
      " conv2d_5 (Conv2D)           (None, 5, 1, 2)           14        \n",
      "                                                                 \n",
      " max_pooling2d_5 (MaxPooling  (None, 5, 1, 2)          0         \n",
      " 2D)                                                             \n",
      "                                                                 \n",
      " conv2d_6 (Conv2D)           (None, 5, 1, 2)           14        \n",
      "                                                                 \n",
      " max_pooling2d_6 (MaxPooling  (None, 5, 1, 2)          0         \n",
      " 2D)                                                             \n",
      "                                                                 \n",
      " dense (Dense)               (None, 5, 1, 12)          36        \n",
      "                                                                 \n",
      " dense_1 (Dense)             (None, 5, 1, 7)           91        \n",
      "                                                                 \n",
      " dense_2 (Dense)             (None, 5, 1, 3)           24        \n",
      "                                                                 \n",
      " dense_3 (Dense)             (None, 5, 1, 2)           8         \n",
      "                                                                 \n",
      "=================================================================\n",
      "Total params: 257\n",
      "Trainable params: 257\n",
      "Non-trainable params: 0\n",
      "_________________________________________________________________\n"
     ]
    }
   ],
   "source": [
    "model.summary()"
   ],
   "metadata": {
    "collapsed": false
   }
  },
  {
   "cell_type": "code",
   "execution_count": 12,
   "outputs": [],
   "source": [
    "# model = tf.keras.Sequential()\n",
    "#\n",
    "# for i in range(7):\n",
    "#     model.add(Cdt1dLayer())\n",
    "#     model.add(tf.keras.layers.MaxPooling2D(pool_size=(1, 3), strides=(1, 3), padding='same'))\n",
    "#\n",
    "# model.add(tf.keras.layers.Dense(12))\n",
    "# model.add(tf.keras.layers.Dense(7))\n",
    "# model.add(tf.keras.layers.Dense(3, activation=\"softmax\"))\n",
    "# model.add(tf.keras.layers.Dense(2))\n"
   ],
   "metadata": {
    "collapsed": false
   }
  },
  {
   "cell_type": "code",
   "execution_count": 13,
   "outputs": [],
   "source": [
    "# model.build(input_shape=_x_train.shape)"
   ],
   "metadata": {
    "collapsed": false
   }
  },
  {
   "cell_type": "code",
   "execution_count": 14,
   "outputs": [],
   "source": [
    "# model.summary()"
   ],
   "metadata": {
    "collapsed": false
   }
  },
  {
   "cell_type": "code",
   "execution_count": 14,
   "outputs": [],
   "source": [
    "# model.compile(optimizer=tf.keras.optimizers.Adam(learning_rate=1e-3),\n",
    "#               loss=tf.keras.losses.BinaryCrossentropy())\n",
    "model.compile(optimizer=tf.keras.optimizers.Adam(learning_rate=1e-3),\n",
    "              loss='mean_squared_error')\n"
   ],
   "metadata": {
    "collapsed": false
   }
  },
  {
   "cell_type": "code",
   "execution_count": 15,
   "outputs": [
    {
     "name": "stdout",
     "output_type": "stream",
     "text": [
      "(3825, 5, 32, 2) (3825, 5, 1, 2)\n"
     ]
    }
   ],
   "source": [
    "print(_x_train.shape, _y_train.shape)"
   ],
   "metadata": {
    "collapsed": false
   }
  },
  {
   "cell_type": "code",
   "execution_count": 17,
   "outputs": [],
   "source": [
    "# b_size = 32\n",
    "# model.fit(_x_train[:b_size, :, :, :], _y_train[:b_size, :, :, :])"
   ],
   "metadata": {
    "collapsed": false
   }
  },
  {
   "cell_type": "code",
   "execution_count": 16,
   "outputs": [
    {
     "name": "stdout",
     "output_type": "stream",
     "text": [
      "Epoch 1/10\n",
      "120/120 [==============================] - 1s 4ms/step - loss: 140415156092928.0000\n",
      "Epoch 2/10\n",
      "120/120 [==============================] - 1s 4ms/step - loss: 140415164481536.0000\n",
      "Epoch 3/10\n",
      "120/120 [==============================] - 1s 4ms/step - loss: 140415172870144.0000\n",
      "Epoch 4/10\n",
      "120/120 [==============================] - 1s 5ms/step - loss: 140415206424576.0000\n",
      "Epoch 5/10\n",
      "120/120 [==============================] - 1s 4ms/step - loss: 140415139315712.0000\n",
      "Epoch 6/10\n",
      "120/120 [==============================] - 1s 5ms/step - loss: 140415156092928.0000\n",
      "Epoch 7/10\n",
      "120/120 [==============================] - 1s 4ms/step - loss: 140415172870144.0000\n",
      "Epoch 8/10\n",
      "120/120 [==============================] - 1s 4ms/step - loss: 140415139315712.0000\n",
      "Epoch 9/10\n",
      "120/120 [==============================] - 0s 4ms/step - loss: 140415156092928.0000\n",
      "Epoch 10/10\n",
      "120/120 [==============================] - 0s 4ms/step - loss: 140415147704320.0000\n"
     ]
    },
    {
     "data": {
      "text/plain": "<keras.callbacks.History at 0x7f06b777b550>"
     },
     "execution_count": 16,
     "metadata": {},
     "output_type": "execute_result"
    }
   ],
   "source": [
    "model.fit(_x_train, _y_train, epochs=10)"
   ],
   "metadata": {
    "collapsed": false
   }
  },
  {
   "cell_type": "code",
   "execution_count": 18,
   "outputs": [
    {
     "name": "stdout",
     "output_type": "stream",
     "text": [
      "40/40 [==============================] - 0s 3ms/step - loss: 190619188199424.0000\n"
     ]
    },
    {
     "data": {
      "text/plain": "190619188199424.0"
     },
     "execution_count": 18,
     "metadata": {},
     "output_type": "execute_result"
    }
   ],
   "source": [
    "model.evaluate(_x_test, _y_test)"
   ],
   "metadata": {
    "collapsed": false
   }
  },
  {
   "cell_type": "code",
   "execution_count": 19,
   "outputs": [
    {
     "name": "stderr",
     "output_type": "stream",
     "text": [
      "WARNING:absl:Found untraced functions such as _jit_compiled_convolution_op, _jit_compiled_convolution_op, _jit_compiled_convolution_op, _jit_compiled_convolution_op, _jit_compiled_convolution_op while saving (showing 5 of 7). These functions will not be directly callable after loading.\n"
     ]
    },
    {
     "name": "stdout",
     "output_type": "stream",
     "text": [
      "INFO:tensorflow:Assets written to: Models/cdt_2/assets\n"
     ]
    },
    {
     "name": "stderr",
     "output_type": "stream",
     "text": [
      "INFO:tensorflow:Assets written to: Models/cdt_2/assets\n"
     ]
    }
   ],
   "source": [
    "model.save(\"Models/cdt_2\")"
   ],
   "metadata": {
    "collapsed": false
   }
  },
  {
   "cell_type": "code",
   "execution_count": null,
   "outputs": [],
   "source": [],
   "metadata": {
    "collapsed": false
   }
  },
  {
   "cell_type": "code",
   "execution_count": 20,
   "outputs": [
    {
     "data": {
      "text/plain": "array([[[[1.7172000e+03, 1.7172000e+03],\n         [1.7782000e+03, 1.7782000e+03],\n         [1.7974000e+03, 1.7974000e+03],\n         ...,\n         [2.3735000e+03, 2.3735000e+03],\n         [2.2916599e+03, 2.2916599e+03],\n         [2.2837200e+03, 2.2837200e+03]],\n\n        [[1.7798000e+03, 1.7798000e+03],\n         [1.8087000e+03, 1.8087000e+03],\n         [1.7974000e+03, 1.7974000e+03],\n         ...,\n         [2.3801001e+03, 2.3801001e+03],\n         [2.3078601e+03, 2.3078601e+03],\n         [2.3203701e+03, 2.3203701e+03]],\n\n        [[1.7172000e+03, 1.7172000e+03],\n         [1.7782000e+03, 1.7782000e+03],\n         [1.7803000e+03, 1.7803000e+03],\n         ...,\n         [2.3103899e+03, 2.3103899e+03],\n         [2.2851599e+03, 2.2851599e+03],\n         [2.2734900e+03, 2.2734900e+03]],\n\n        [[1.7798000e+03, 1.7798000e+03],\n         [1.7990000e+03, 1.7990000e+03],\n         [1.7833000e+03, 1.7833000e+03],\n         ...,\n         [2.3402400e+03, 2.3402400e+03],\n         [2.3025300e+03, 2.3025300e+03],\n         [2.3165500e+03, 2.3165500e+03]],\n\n        [[4.4358860e+06, 4.4358860e+06],\n         [5.4482430e+06, 5.4482430e+06],\n         [6.5133150e+06, 6.5133150e+06],\n         ...,\n         [1.2389812e+07, 1.2389812e+07],\n         [9.3857590e+06, 9.3857590e+06],\n         [7.6901080e+06, 7.6901080e+06]]],\n\n\n       [[[1.7782000e+03, 1.7782000e+03],\n         [1.7974000e+03, 1.7974000e+03],\n         [1.8033000e+03, 1.8033000e+03],\n         ...,\n         [2.2916599e+03, 2.2916599e+03],\n         [2.2837200e+03, 2.2837200e+03],\n         [2.3341899e+03, 2.3341899e+03]],\n\n        [[1.8087000e+03, 1.8087000e+03],\n         [1.7974000e+03, 1.7974000e+03],\n         [1.8322000e+03, 1.8322000e+03],\n         ...,\n         [2.3078601e+03, 2.3078601e+03],\n         [2.3203701e+03, 2.3203701e+03],\n         [2.3615801e+03, 2.3615801e+03]],\n\n        [[1.7782000e+03, 1.7782000e+03],\n         [1.7803000e+03, 1.7803000e+03],\n         [1.8033000e+03, 1.8033000e+03],\n         ...,\n         [2.2851599e+03, 2.2851599e+03],\n         [2.2734900e+03, 2.2734900e+03],\n         [2.3297100e+03, 2.3297100e+03]],\n\n        [[1.7990000e+03, 1.7990000e+03],\n         [1.7833000e+03, 1.7833000e+03],\n         [1.8320000e+03, 1.8320000e+03],\n         ...,\n         [2.3025300e+03, 2.3025300e+03],\n         [2.3165500e+03, 2.3165500e+03],\n         [2.3392800e+03, 2.3392800e+03]],\n\n        [[5.4482430e+06, 5.4482430e+06],\n         [6.5133150e+06, 6.5133150e+06],\n         [5.1463400e+06, 5.1463400e+06],\n         ...,\n         [9.3857590e+06, 9.3857590e+06],\n         [7.6901080e+06, 7.6901080e+06],\n         [6.3113390e+06, 6.3113390e+06]]],\n\n\n       [[[1.7974000e+03, 1.7974000e+03],\n         [1.8033000e+03, 1.8033000e+03],\n         [1.8246000e+03, 1.8246000e+03],\n         ...,\n         [2.2837200e+03, 2.2837200e+03],\n         [2.3341899e+03, 2.3341899e+03],\n         [2.3815100e+03, 2.3815100e+03]],\n\n        [[1.7974000e+03, 1.7974000e+03],\n         [1.8322000e+03, 1.8322000e+03],\n         [1.8246000e+03, 1.8246000e+03],\n         ...,\n         [2.3203701e+03, 2.3203701e+03],\n         [2.3615801e+03, 2.3615801e+03],\n         [2.4157900e+03, 2.4157900e+03]],\n\n        [[1.7803000e+03, 1.7803000e+03],\n         [1.8033000e+03, 1.8033000e+03],\n         [1.8049000e+03, 1.8049000e+03],\n         ...,\n         [2.2734900e+03, 2.2734900e+03],\n         [2.3297100e+03, 2.3297100e+03],\n         [2.3705801e+03, 2.3705801e+03]],\n\n        [[1.7833000e+03, 1.7833000e+03],\n         [1.8320000e+03, 1.8320000e+03],\n         [1.8102000e+03, 1.8102000e+03],\n         ...,\n         [2.3165500e+03, 2.3165500e+03],\n         [2.3392800e+03, 2.3392800e+03],\n         [2.4157900e+03, 2.4157900e+03]],\n\n        [[6.5133150e+06, 6.5133150e+06],\n         [5.1463400e+06, 5.1463400e+06],\n         [5.7483980e+06, 5.7483980e+06],\n         ...,\n         [7.6901080e+06, 7.6901080e+06],\n         [6.3113390e+06, 6.3113390e+06],\n         [9.8846470e+06, 9.8846470e+06]]],\n\n\n       ...,\n\n\n       [[[3.6296899e+03, 3.6296899e+03],\n         [3.6331201e+03, 3.6331201e+03],\n         [3.6342100e+03, 3.6342100e+03],\n         ...,\n         [1.8989301e+03, 1.8989301e+03],\n         [1.8908700e+03, 1.8908700e+03],\n         [1.8651700e+03, 1.8651700e+03]],\n\n        [[3.6560400e+03, 3.6560400e+03],\n         [3.6526599e+03, 3.6526599e+03],\n         [3.6413301e+03, 3.6413301e+03],\n         ...,\n         [1.9141200e+03, 1.9141200e+03],\n         [1.8934000e+03, 1.8934000e+03],\n         [1.8651700e+03, 1.8651700e+03]],\n\n        [[3.6192500e+03, 3.6192500e+03],\n         [3.5969399e+03, 3.5969399e+03],\n         [3.5308799e+03, 3.5308799e+03],\n         ...,\n         [1.8905900e+03, 1.8905900e+03],\n         [1.8596801e+03, 1.8596801e+03],\n         [1.8360100e+03, 1.8360100e+03]],\n\n        [[3.6274900e+03, 3.6274900e+03],\n         [3.6257000e+03, 3.6257000e+03],\n         [3.5649800e+03, 3.5649800e+03],\n         ...,\n         [1.8997200e+03, 1.8997200e+03],\n         [1.8652500e+03, 1.8652500e+03],\n         [1.8377100e+03, 1.8377100e+03]],\n\n        [[1.7531074e+07, 1.7531074e+07],\n         [2.0803068e+07, 2.0803068e+07],\n         [1.7139372e+07, 1.7139372e+07],\n         ...,\n         [6.9815300e+06, 6.9815300e+06],\n         [2.9677624e+07, 2.9677624e+07],\n         [1.8263348e+07, 1.8263348e+07]]],\n\n\n       [[[3.6331201e+03, 3.6331201e+03],\n         [3.6342100e+03, 3.6342100e+03],\n         [3.4660801e+03, 3.4660801e+03],\n         ...,\n         [1.8908700e+03, 1.8908700e+03],\n         [1.8651700e+03, 1.8651700e+03],\n         [1.8388300e+03, 1.8388300e+03]],\n\n        [[3.6526599e+03, 3.6526599e+03],\n         [3.6413301e+03, 3.6413301e+03],\n         [3.5194199e+03, 3.5194199e+03],\n         ...,\n         [1.8934000e+03, 1.8934000e+03],\n         [1.8651700e+03, 1.8651700e+03],\n         [1.8604200e+03, 1.8604200e+03]],\n\n        [[3.5969399e+03, 3.5969399e+03],\n         [3.5308799e+03, 3.5308799e+03],\n         [3.4503301e+03, 3.4503301e+03],\n         ...,\n         [1.8596801e+03, 1.8596801e+03],\n         [1.8360100e+03, 1.8360100e+03],\n         [1.8274200e+03, 1.8274200e+03]],\n\n        [[3.6257000e+03, 3.6257000e+03],\n         [3.5649800e+03, 3.5649800e+03],\n         [3.4608601e+03, 3.4608601e+03],\n         ...,\n         [1.8652500e+03, 1.8652500e+03],\n         [1.8377100e+03, 1.8377100e+03],\n         [1.8527100e+03, 1.8527100e+03]],\n\n        [[2.0803068e+07, 2.0803068e+07],\n         [1.7139372e+07, 1.7139372e+07],\n         [2.3865460e+07, 2.3865460e+07],\n         ...,\n         [2.9677624e+07, 2.9677624e+07],\n         [1.8263348e+07, 1.8263348e+07],\n         [2.0075988e+07, 2.0075988e+07]]],\n\n\n       [[[3.6342100e+03, 3.6342100e+03],\n         [3.4660801e+03, 3.4660801e+03],\n         [3.4885200e+03, 3.4885200e+03],\n         ...,\n         [1.8651700e+03, 1.8651700e+03],\n         [1.8388300e+03, 1.8388300e+03],\n         [1.8598400e+03, 1.8598400e+03]],\n\n        [[3.6413301e+03, 3.6413301e+03],\n         [3.5194199e+03, 3.5194199e+03],\n         [3.5621599e+03, 3.5621599e+03],\n         ...,\n         [1.8651700e+03, 1.8651700e+03],\n         [1.8604200e+03, 1.8604200e+03],\n         [1.8611700e+03, 1.8611700e+03]],\n\n        [[3.5308799e+03, 3.5308799e+03],\n         [3.4503301e+03, 3.4503301e+03],\n         [3.4885200e+03, 3.4885200e+03],\n         ...,\n         [1.8360100e+03, 1.8360100e+03],\n         [1.8274200e+03, 1.8274200e+03],\n         [1.8457400e+03, 1.8457400e+03]],\n\n        [[3.5649800e+03, 3.5649800e+03],\n         [3.4608601e+03, 3.4608601e+03],\n         [3.5579500e+03, 3.5579500e+03],\n         ...,\n         [1.8377100e+03, 1.8377100e+03],\n         [1.8527100e+03, 1.8527100e+03],\n         [1.8484500e+03, 1.8484500e+03]],\n\n        [[1.7139372e+07, 1.7139372e+07],\n         [2.3865460e+07, 2.3865460e+07],\n         [2.5013820e+07, 2.5013820e+07],\n         ...,\n         [1.8263348e+07, 1.8263348e+07],\n         [2.0075988e+07, 2.0075988e+07],\n         [2.1198632e+07, 2.1198632e+07]]]], dtype=float32)"
     },
     "execution_count": 20,
     "metadata": {},
     "output_type": "execute_result"
    }
   ],
   "source": [
    "_x_train"
   ],
   "metadata": {
    "collapsed": false
   }
  },
  {
   "cell_type": "code",
   "execution_count": null,
   "outputs": [],
   "source": [],
   "metadata": {
    "collapsed": false
   }
  },
  {
   "cell_type": "code",
   "execution_count": null,
   "outputs": [],
   "source": [],
   "metadata": {
    "collapsed": false
   }
  },
  {
   "cell_type": "code",
   "execution_count": 3,
   "outputs": [
    {
     "name": "stderr",
     "output_type": "stream",
     "text": [
      "2022-12-20 23:05:10.978727: W tensorflow/stream_executor/platform/default/dso_loader.cc:64] Could not load dynamic library 'libcuda.so.1'; dlerror: libcuda.so.1: cannot open shared object file: No such file or directory\n",
      "2022-12-20 23:05:10.978749: W tensorflow/stream_executor/cuda/cuda_driver.cc:263] failed call to cuInit: UNKNOWN ERROR (303)\n",
      "2022-12-20 23:05:10.978766: I tensorflow/stream_executor/cuda/cuda_diagnostics.cc:156] kernel driver does not appear to be running on this host (banjaro): /proc/driver/nvidia/version does not exist\n",
      "2022-12-20 23:05:10.978956: I tensorflow/core/platform/cpu_feature_guard.cc:193] This TensorFlow binary is optimized with oneAPI Deep Neural Network Library (oneDNN) to use the following CPU instructions in performance-critical operations:  AVX2 FMA\n",
      "To enable them in other operations, rebuild TensorFlow with the appropriate compiler flags.\n"
     ]
    }
   ],
   "source": [
    "res = Cdt1dLayer()(\n",
    "    np.broadcast_to(\n",
    "        np.moveaxis(\n",
    "            np.arange(20).reshape([1, 1, 4, 5]).astype(\"float32\"),\n",
    "            0, 3),\n",
    "        [1, 4, 5, 2]\n",
    "    )\n",
    ")"
   ],
   "metadata": {
    "collapsed": false
   }
  },
  {
   "cell_type": "code",
   "execution_count": 4,
   "outputs": [
    {
     "data": {
      "text/plain": "(1, 4, 5, 2)"
     },
     "execution_count": 4,
     "metadata": {},
     "output_type": "execute_result"
    }
   ],
   "source": [
    "res.shape"
   ],
   "metadata": {
    "collapsed": false
   }
  },
  {
   "cell_type": "code",
   "execution_count": 5,
   "outputs": [
    {
     "data": {
      "text/plain": "array([[ 1.,  3.,  6.,  9.,  7.],\n       [11., 18., 21., 24., 17.],\n       [21., 33., 36., 39., 27.],\n       [31., 48., 51., 54., 37.]])"
     },
     "execution_count": 5,
     "metadata": {},
     "output_type": "execute_result"
    }
   ],
   "source": [
    "res[0,:,:,0]"
   ],
   "metadata": {
    "collapsed": false
   }
  },
  {
   "cell_type": "code",
   "execution_count": 6,
   "outputs": [
    {
     "data": {
      "text/plain": "array([[ 0.5,  1.5,  3. ,  4.5,  3.5],\n       [ 5.5,  9. , 10.5, 12. ,  8.5],\n       [10.5, 16.5, 18. , 19.5, 13.5],\n       [15.5, 24. , 25.5, 27. , 18.5]])"
     },
     "execution_count": 6,
     "metadata": {},
     "output_type": "execute_result"
    }
   ],
   "source": [
    "res[0,:,:,1]"
   ],
   "metadata": {
    "collapsed": false
   }
  },
  {
   "cell_type": "code",
   "execution_count": null,
   "outputs": [],
   "source": [],
   "metadata": {
    "collapsed": false
   }
  },
  {
   "cell_type": "code",
   "execution_count": 3,
   "outputs": [
    {
     "name": "stderr",
     "output_type": "stream",
     "text": [
      "2022-12-23 19:47:15.601358: W tensorflow/stream_executor/platform/default/dso_loader.cc:64] Could not load dynamic library 'libcuda.so.1'; dlerror: libcuda.so.1: cannot open shared object file: No such file or directory\n",
      "2022-12-23 19:47:15.601387: W tensorflow/stream_executor/cuda/cuda_driver.cc:263] failed call to cuInit: UNKNOWN ERROR (303)\n",
      "2022-12-23 19:47:15.601412: I tensorflow/stream_executor/cuda/cuda_diagnostics.cc:156] kernel driver does not appear to be running on this host (banjaro): /proc/driver/nvidia/version does not exist\n",
      "2022-12-23 19:47:15.601707: I tensorflow/core/platform/cpu_feature_guard.cc:193] This TensorFlow binary is optimized with oneAPI Deep Neural Network Library (oneDNN) to use the following CPU instructions in performance-critical operations:  AVX2 FMA\n",
      "To enable them in other operations, rebuild TensorFlow with the appropriate compiler flags.\n"
     ]
    }
   ],
   "source": [
    "model = tf.keras.Sequential()\n",
    "\n",
    "for i in range(7):\n",
    "    model.add(Cdt1dLayer())\n",
    "    model.add(tf.keras.layers.MaxPooling1D(pool_size=3, strides=3, padding='same'))\n",
    "\n",
    "model.add(tf.keras.layers.Dense(12))\n",
    "model.add(tf.keras.layers.Dense(7))\n",
    "model.add(tf.keras.layers.Dense(3))\n"
   ],
   "metadata": {
    "collapsed": false
   }
  },
  {
   "cell_type": "code",
   "execution_count": 4,
   "outputs": [
    {
     "ename": "AttributeError",
     "evalue": "Exception encountered when calling layer \"cdt1d_layer\" \"                 f\"(type Cdt1dLayer).\n\nin user code:\n\n    File \"/home/bartko/Repozytoria/inzynierka/src/CDT_1D_CNN/cdt_1d_layer.py\", line 69, in call  *\n        inputs = inputs.numpy()\n\n    AttributeError: 'Tensor' object has no attribute 'numpy'\n\n\nCall arguments received by layer \"cdt1d_layer\" \"                 f\"(type Cdt1dLayer):\n  • inputs=tf.Tensor(shape=(1, 5, 1600, 2), dtype=float32)\n  • kwargs={'training': 'None'}",
     "output_type": "error",
     "traceback": [
      "\u001B[0;31m---------------------------------------------------------------------------\u001B[0m",
      "\u001B[0;31mAttributeError\u001B[0m                            Traceback (most recent call last)",
      "Cell \u001B[0;32mIn [4], line 1\u001B[0m\n\u001B[0;32m----> 1\u001B[0m \u001B[43mmodel\u001B[49m\u001B[38;5;241;43m.\u001B[39;49m\u001B[43mbuild\u001B[49m\u001B[43m(\u001B[49m\u001B[43minput_shape\u001B[49m\u001B[38;5;241;43m=\u001B[39;49m\u001B[43m(\u001B[49m\u001B[38;5;241;43m1\u001B[39;49m\u001B[43m,\u001B[49m\u001B[43m \u001B[49m\u001B[38;5;241;43m5\u001B[39;49m\u001B[43m,\u001B[49m\u001B[43m \u001B[49m\u001B[38;5;241;43m1600\u001B[39;49m\u001B[43m,\u001B[49m\u001B[43m \u001B[49m\u001B[38;5;241;43m2\u001B[39;49m\u001B[43m)\u001B[49m\u001B[43m)\u001B[49m\n",
      "File \u001B[0;32m~/Environments/financial_market_predictor/lib/python3.10/site-packages/keras/engine/sequential.py:381\u001B[0m, in \u001B[0;36mSequential.build\u001B[0;34m(self, input_shape)\u001B[0m\n\u001B[1;32m    379\u001B[0m         input_shape \u001B[38;5;241m=\u001B[39m \u001B[38;5;28mtuple\u001B[39m(input_shape)\n\u001B[1;32m    380\u001B[0m         \u001B[38;5;28mself\u001B[39m\u001B[38;5;241m.\u001B[39m_build_input_shape \u001B[38;5;241m=\u001B[39m input_shape\n\u001B[0;32m--> 381\u001B[0m         \u001B[38;5;28;43msuper\u001B[39;49m\u001B[43m(\u001B[49m\u001B[43m)\u001B[49m\u001B[38;5;241;43m.\u001B[39;49m\u001B[43mbuild\u001B[49m\u001B[43m(\u001B[49m\u001B[43minput_shape\u001B[49m\u001B[43m)\u001B[49m\n\u001B[1;32m    382\u001B[0m \u001B[38;5;28mself\u001B[39m\u001B[38;5;241m.\u001B[39mbuilt \u001B[38;5;241m=\u001B[39m \u001B[38;5;28;01mTrue\u001B[39;00m\n",
      "File \u001B[0;32m~/Environments/financial_market_predictor/lib/python3.10/site-packages/keras/engine/training.py:509\u001B[0m, in \u001B[0;36mModel.build\u001B[0;34m(self, input_shape)\u001B[0m\n\u001B[1;32m    504\u001B[0m     \u001B[38;5;28;01mraise\u001B[39;00m \u001B[38;5;167;01mValueError\u001B[39;00m(\n\u001B[1;32m    505\u001B[0m         \u001B[38;5;124m\"\u001B[39m\u001B[38;5;124mYou can only call `build()` on a model if its \u001B[39m\u001B[38;5;124m\"\u001B[39m\n\u001B[1;32m    506\u001B[0m         \u001B[38;5;124m\"\u001B[39m\u001B[38;5;124m`call()` method accepts an `inputs` argument.\u001B[39m\u001B[38;5;124m\"\u001B[39m\n\u001B[1;32m    507\u001B[0m     )\n\u001B[1;32m    508\u001B[0m \u001B[38;5;28;01mtry\u001B[39;00m:\n\u001B[0;32m--> 509\u001B[0m     \u001B[38;5;28;43mself\u001B[39;49m\u001B[38;5;241;43m.\u001B[39;49m\u001B[43mcall\u001B[49m\u001B[43m(\u001B[49m\u001B[43mx\u001B[49m\u001B[43m,\u001B[49m\u001B[43m \u001B[49m\u001B[38;5;241;43m*\u001B[39;49m\u001B[38;5;241;43m*\u001B[39;49m\u001B[43mkwargs\u001B[49m\u001B[43m)\u001B[49m\n\u001B[1;32m    510\u001B[0m \u001B[38;5;28;01mexcept\u001B[39;00m (tf\u001B[38;5;241m.\u001B[39merrors\u001B[38;5;241m.\u001B[39mInvalidArgumentError, \u001B[38;5;167;01mTypeError\u001B[39;00m) \u001B[38;5;28;01mas\u001B[39;00m e:\n\u001B[1;32m    511\u001B[0m     \u001B[38;5;28;01mraise\u001B[39;00m \u001B[38;5;167;01mValueError\u001B[39;00m(\n\u001B[1;32m    512\u001B[0m         \u001B[38;5;124m\"\u001B[39m\u001B[38;5;124mYou cannot build your model by calling `build` \u001B[39m\u001B[38;5;124m\"\u001B[39m\n\u001B[1;32m    513\u001B[0m         \u001B[38;5;124m\"\u001B[39m\u001B[38;5;124mif your layers do not support float type inputs. \u001B[39m\u001B[38;5;124m\"\u001B[39m\n\u001B[0;32m   (...)\u001B[0m\n\u001B[1;32m    517\u001B[0m         \u001B[38;5;124mf\u001B[39m\u001B[38;5;124m\"\u001B[39m\u001B[38;5;124m`call` is: \u001B[39m\u001B[38;5;132;01m{\u001B[39;00me\u001B[38;5;132;01m}\u001B[39;00m\u001B[38;5;124m.\u001B[39m\u001B[38;5;124m\"\u001B[39m\n\u001B[1;32m    518\u001B[0m     )\n",
      "File \u001B[0;32m~/Environments/financial_market_predictor/lib/python3.10/site-packages/keras/engine/sequential.py:425\u001B[0m, in \u001B[0;36mSequential.call\u001B[0;34m(self, inputs, training, mask)\u001B[0m\n\u001B[1;32m    422\u001B[0m \u001B[38;5;28;01mif\u001B[39;00m \u001B[38;5;124m\"\u001B[39m\u001B[38;5;124mtraining\u001B[39m\u001B[38;5;124m\"\u001B[39m \u001B[38;5;129;01min\u001B[39;00m argspec:\n\u001B[1;32m    423\u001B[0m     kwargs[\u001B[38;5;124m\"\u001B[39m\u001B[38;5;124mtraining\u001B[39m\u001B[38;5;124m\"\u001B[39m] \u001B[38;5;241m=\u001B[39m training\n\u001B[0;32m--> 425\u001B[0m outputs \u001B[38;5;241m=\u001B[39m \u001B[43mlayer\u001B[49m\u001B[43m(\u001B[49m\u001B[43minputs\u001B[49m\u001B[43m,\u001B[49m\u001B[43m \u001B[49m\u001B[38;5;241;43m*\u001B[39;49m\u001B[38;5;241;43m*\u001B[39;49m\u001B[43mkwargs\u001B[49m\u001B[43m)\u001B[49m\n\u001B[1;32m    427\u001B[0m \u001B[38;5;28;01mif\u001B[39;00m \u001B[38;5;28mlen\u001B[39m(tf\u001B[38;5;241m.\u001B[39mnest\u001B[38;5;241m.\u001B[39mflatten(outputs)) \u001B[38;5;241m!=\u001B[39m \u001B[38;5;241m1\u001B[39m:\n\u001B[1;32m    428\u001B[0m     \u001B[38;5;28;01mraise\u001B[39;00m \u001B[38;5;167;01mValueError\u001B[39;00m(SINGLE_LAYER_OUTPUT_ERROR_MSG)\n",
      "File \u001B[0;32m~/Environments/financial_market_predictor/lib/python3.10/site-packages/keras/utils/traceback_utils.py:70\u001B[0m, in \u001B[0;36mfilter_traceback.<locals>.error_handler\u001B[0;34m(*args, **kwargs)\u001B[0m\n\u001B[1;32m     67\u001B[0m     filtered_tb \u001B[38;5;241m=\u001B[39m _process_traceback_frames(e\u001B[38;5;241m.\u001B[39m__traceback__)\n\u001B[1;32m     68\u001B[0m     \u001B[38;5;66;03m# To get the full stack trace, call:\u001B[39;00m\n\u001B[1;32m     69\u001B[0m     \u001B[38;5;66;03m# `tf.debugging.disable_traceback_filtering()`\u001B[39;00m\n\u001B[0;32m---> 70\u001B[0m     \u001B[38;5;28;01mraise\u001B[39;00m e\u001B[38;5;241m.\u001B[39mwith_traceback(filtered_tb) \u001B[38;5;28;01mfrom\u001B[39;00m \u001B[38;5;28mNone\u001B[39m\n\u001B[1;32m     71\u001B[0m \u001B[38;5;28;01mfinally\u001B[39;00m:\n\u001B[1;32m     72\u001B[0m     \u001B[38;5;28;01mdel\u001B[39;00m filtered_tb\n",
      "File \u001B[0;32m/tmp/__autograph_generated_filesbhc8tyl.py:16\u001B[0m, in \u001B[0;36mouter_factory.<locals>.inner_factory.<locals>.tf__call\u001B[0;34m(self, inputs, **kwargs)\u001B[0m\n\u001B[1;32m     14\u001B[0m retval_ \u001B[38;5;241m=\u001B[39m ag__\u001B[38;5;241m.\u001B[39mUndefinedReturnValue()\n\u001B[1;32m     15\u001B[0m debug \u001B[38;5;241m=\u001B[39m \u001B[38;5;28;01mFalse\u001B[39;00m\n\u001B[0;32m---> 16\u001B[0m inputs \u001B[38;5;241m=\u001B[39m ag__\u001B[38;5;241m.\u001B[39mconverted_call(\u001B[43mag__\u001B[49m\u001B[38;5;241;43m.\u001B[39;49m\u001B[43mld\u001B[49m\u001B[43m(\u001B[49m\u001B[43minputs\u001B[49m\u001B[43m)\u001B[49m\u001B[38;5;241;43m.\u001B[39;49m\u001B[43mnumpy\u001B[49m, (), \u001B[38;5;28;01mNone\u001B[39;00m, fscope)\n\u001B[1;32m     17\u001B[0m inputs_flat \u001B[38;5;241m=\u001B[39m ag__\u001B[38;5;241m.\u001B[39mconverted_call(ag__\u001B[38;5;241m.\u001B[39mld(inputs_flat_with_pad), (ag__\u001B[38;5;241m.\u001B[39mld(inputs),), \u001B[38;5;28;01mNone\u001B[39;00m, fscope)\n\u001B[1;32m     18\u001B[0m filt \u001B[38;5;241m=\u001B[39m ag__\u001B[38;5;241m.\u001B[39mconverted_call(ag__\u001B[38;5;241m.\u001B[39mld(np)\u001B[38;5;241m.\u001B[39mzeors, ([\u001B[38;5;241m3\u001B[39m, \u001B[38;5;241m1\u001B[39m, \u001B[38;5;241m2\u001B[39m],), \u001B[38;5;28;01mNone\u001B[39;00m, fscope)\n",
      "\u001B[0;31mAttributeError\u001B[0m: Exception encountered when calling layer \"cdt1d_layer\" \"                 f\"(type Cdt1dLayer).\n\nin user code:\n\n    File \"/home/bartko/Repozytoria/inzynierka/src/CDT_1D_CNN/cdt_1d_layer.py\", line 69, in call  *\n        inputs = inputs.numpy()\n\n    AttributeError: 'Tensor' object has no attribute 'numpy'\n\n\nCall arguments received by layer \"cdt1d_layer\" \"                 f\"(type Cdt1dLayer):\n  • inputs=tf.Tensor(shape=(1, 5, 1600, 2), dtype=float32)\n  • kwargs={'training': 'None'}"
     ]
    }
   ],
   "source": [
    "model.build(input_shape=(1, 5, 1600, 2))"
   ],
   "metadata": {
    "collapsed": false
   }
  },
  {
   "cell_type": "code",
   "execution_count": null,
   "outputs": [],
   "source": [
    "model.summary()"
   ],
   "metadata": {
    "collapsed": false
   }
  },
  {
   "cell_type": "code",
   "execution_count": 5,
   "outputs": [
    {
     "ename": "AttributeError",
     "evalue": "module 'tensorflow' has no attribute 'enable_eager_execution'",
     "output_type": "error",
     "traceback": [
      "\u001B[0;31m---------------------------------------------------------------------------\u001B[0m",
      "\u001B[0;31mAttributeError\u001B[0m                            Traceback (most recent call last)",
      "Cell \u001B[0;32mIn [5], line 1\u001B[0m\n\u001B[0;32m----> 1\u001B[0m \u001B[43mtf\u001B[49m\u001B[38;5;241;43m.\u001B[39;49m\u001B[43menable_eager_execution\u001B[49m()\n",
      "\u001B[0;31mAttributeError\u001B[0m: module 'tensorflow' has no attribute 'enable_eager_execution'"
     ]
    }
   ],
   "source": [],
   "metadata": {
    "collapsed": false
   }
  },
  {
   "cell_type": "code",
   "execution_count": 13,
   "outputs": [
    {
     "ename": "ValueError",
     "evalue": "Exception encountered when calling layer \"module_wrapper_28\" \"                 f\"(type ModuleWrapper).\n\nin user code:\n\n    File \"/home/bartko/Repozytoria/inzynierka/src/CDT_1D_CNN/cdt_1d_layer.py\", line 57, in call  *\n        inputs_flat = inputs_flat_with_pad(inputs)\n    File \"/home/bartko/Repozytoria/inzynierka/src/CDT_1D_CNN/cdt_1d_layer.py\", line 87, in inputs_flat_with_pad  *\n        dim_batches, dim_y, dim_x = inputs.shape\n\n    ValueError: not enough values to unpack (expected 3, got 2)\n\n\nCall arguments received by layer \"module_wrapper_28\" \"                 f\"(type ModuleWrapper):\n  • args=('tf.Tensor(shape=(10, 20), dtype=float32)',)\n  • kwargs={'training': 'None'}",
     "output_type": "error",
     "traceback": [
      "\u001B[0;31m---------------------------------------------------------------------------\u001B[0m",
      "\u001B[0;31mValueError\u001B[0m                                Traceback (most recent call last)",
      "Cell \u001B[0;32mIn [13], line 17\u001B[0m\n\u001B[1;32m     14\u001B[0m model\u001B[38;5;241m.\u001B[39madd(tf\u001B[38;5;241m.\u001B[39mkeras\u001B[38;5;241m.\u001B[39mlayers\u001B[38;5;241m.\u001B[39mDense(\u001B[38;5;241m7\u001B[39m))\n\u001B[1;32m     15\u001B[0m model\u001B[38;5;241m.\u001B[39madd(tf\u001B[38;5;241m.\u001B[39mkeras\u001B[38;5;241m.\u001B[39mlayers\u001B[38;5;241m.\u001B[39mDense(\u001B[38;5;241m3\u001B[39m, activation\u001B[38;5;241m=\u001B[39m\u001B[38;5;124m\"\u001B[39m\u001B[38;5;124msoftmax\u001B[39m\u001B[38;5;124m\"\u001B[39m))\n\u001B[0;32m---> 17\u001B[0m \u001B[43mmodel\u001B[49m\u001B[38;5;241;43m.\u001B[39;49m\u001B[43mbuild\u001B[49m\u001B[43m(\u001B[49m\u001B[43minput_shape\u001B[49m\u001B[43m)\u001B[49m\n",
      "File \u001B[0;32m~/Environments/financial_market_predictor/lib/python3.10/site-packages/keras/engine/sequential.py:381\u001B[0m, in \u001B[0;36mSequential.build\u001B[0;34m(self, input_shape)\u001B[0m\n\u001B[1;32m    379\u001B[0m         input_shape \u001B[38;5;241m=\u001B[39m \u001B[38;5;28mtuple\u001B[39m(input_shape)\n\u001B[1;32m    380\u001B[0m         \u001B[38;5;28mself\u001B[39m\u001B[38;5;241m.\u001B[39m_build_input_shape \u001B[38;5;241m=\u001B[39m input_shape\n\u001B[0;32m--> 381\u001B[0m         \u001B[38;5;28;43msuper\u001B[39;49m\u001B[43m(\u001B[49m\u001B[43m)\u001B[49m\u001B[38;5;241;43m.\u001B[39;49m\u001B[43mbuild\u001B[49m\u001B[43m(\u001B[49m\u001B[43minput_shape\u001B[49m\u001B[43m)\u001B[49m\n\u001B[1;32m    382\u001B[0m \u001B[38;5;28mself\u001B[39m\u001B[38;5;241m.\u001B[39mbuilt \u001B[38;5;241m=\u001B[39m \u001B[38;5;28;01mTrue\u001B[39;00m\n",
      "File \u001B[0;32m~/Environments/financial_market_predictor/lib/python3.10/site-packages/keras/engine/training.py:509\u001B[0m, in \u001B[0;36mModel.build\u001B[0;34m(self, input_shape)\u001B[0m\n\u001B[1;32m    504\u001B[0m     \u001B[38;5;28;01mraise\u001B[39;00m \u001B[38;5;167;01mValueError\u001B[39;00m(\n\u001B[1;32m    505\u001B[0m         \u001B[38;5;124m\"\u001B[39m\u001B[38;5;124mYou can only call `build()` on a model if its \u001B[39m\u001B[38;5;124m\"\u001B[39m\n\u001B[1;32m    506\u001B[0m         \u001B[38;5;124m\"\u001B[39m\u001B[38;5;124m`call()` method accepts an `inputs` argument.\u001B[39m\u001B[38;5;124m\"\u001B[39m\n\u001B[1;32m    507\u001B[0m     )\n\u001B[1;32m    508\u001B[0m \u001B[38;5;28;01mtry\u001B[39;00m:\n\u001B[0;32m--> 509\u001B[0m     \u001B[38;5;28;43mself\u001B[39;49m\u001B[38;5;241;43m.\u001B[39;49m\u001B[43mcall\u001B[49m\u001B[43m(\u001B[49m\u001B[43mx\u001B[49m\u001B[43m,\u001B[49m\u001B[43m \u001B[49m\u001B[38;5;241;43m*\u001B[39;49m\u001B[38;5;241;43m*\u001B[39;49m\u001B[43mkwargs\u001B[49m\u001B[43m)\u001B[49m\n\u001B[1;32m    510\u001B[0m \u001B[38;5;28;01mexcept\u001B[39;00m (tf\u001B[38;5;241m.\u001B[39merrors\u001B[38;5;241m.\u001B[39mInvalidArgumentError, \u001B[38;5;167;01mTypeError\u001B[39;00m) \u001B[38;5;28;01mas\u001B[39;00m e:\n\u001B[1;32m    511\u001B[0m     \u001B[38;5;28;01mraise\u001B[39;00m \u001B[38;5;167;01mValueError\u001B[39;00m(\n\u001B[1;32m    512\u001B[0m         \u001B[38;5;124m\"\u001B[39m\u001B[38;5;124mYou cannot build your model by calling `build` \u001B[39m\u001B[38;5;124m\"\u001B[39m\n\u001B[1;32m    513\u001B[0m         \u001B[38;5;124m\"\u001B[39m\u001B[38;5;124mif your layers do not support float type inputs. \u001B[39m\u001B[38;5;124m\"\u001B[39m\n\u001B[0;32m   (...)\u001B[0m\n\u001B[1;32m    517\u001B[0m         \u001B[38;5;124mf\u001B[39m\u001B[38;5;124m\"\u001B[39m\u001B[38;5;124m`call` is: \u001B[39m\u001B[38;5;132;01m{\u001B[39;00me\u001B[38;5;132;01m}\u001B[39;00m\u001B[38;5;124m.\u001B[39m\u001B[38;5;124m\"\u001B[39m\n\u001B[1;32m    518\u001B[0m     )\n",
      "File \u001B[0;32m~/Environments/financial_market_predictor/lib/python3.10/site-packages/keras/engine/sequential.py:425\u001B[0m, in \u001B[0;36mSequential.call\u001B[0;34m(self, inputs, training, mask)\u001B[0m\n\u001B[1;32m    422\u001B[0m \u001B[38;5;28;01mif\u001B[39;00m \u001B[38;5;124m\"\u001B[39m\u001B[38;5;124mtraining\u001B[39m\u001B[38;5;124m\"\u001B[39m \u001B[38;5;129;01min\u001B[39;00m argspec:\n\u001B[1;32m    423\u001B[0m     kwargs[\u001B[38;5;124m\"\u001B[39m\u001B[38;5;124mtraining\u001B[39m\u001B[38;5;124m\"\u001B[39m] \u001B[38;5;241m=\u001B[39m training\n\u001B[0;32m--> 425\u001B[0m outputs \u001B[38;5;241m=\u001B[39m \u001B[43mlayer\u001B[49m\u001B[43m(\u001B[49m\u001B[43minputs\u001B[49m\u001B[43m,\u001B[49m\u001B[43m \u001B[49m\u001B[38;5;241;43m*\u001B[39;49m\u001B[38;5;241;43m*\u001B[39;49m\u001B[43mkwargs\u001B[49m\u001B[43m)\u001B[49m\n\u001B[1;32m    427\u001B[0m \u001B[38;5;28;01mif\u001B[39;00m \u001B[38;5;28mlen\u001B[39m(tf\u001B[38;5;241m.\u001B[39mnest\u001B[38;5;241m.\u001B[39mflatten(outputs)) \u001B[38;5;241m!=\u001B[39m \u001B[38;5;241m1\u001B[39m:\n\u001B[1;32m    428\u001B[0m     \u001B[38;5;28;01mraise\u001B[39;00m \u001B[38;5;167;01mValueError\u001B[39;00m(SINGLE_LAYER_OUTPUT_ERROR_MSG)\n",
      "File \u001B[0;32m~/Environments/financial_market_predictor/lib/python3.10/site-packages/keras/utils/traceback_utils.py:70\u001B[0m, in \u001B[0;36mfilter_traceback.<locals>.error_handler\u001B[0;34m(*args, **kwargs)\u001B[0m\n\u001B[1;32m     67\u001B[0m     filtered_tb \u001B[38;5;241m=\u001B[39m _process_traceback_frames(e\u001B[38;5;241m.\u001B[39m__traceback__)\n\u001B[1;32m     68\u001B[0m     \u001B[38;5;66;03m# To get the full stack trace, call:\u001B[39;00m\n\u001B[1;32m     69\u001B[0m     \u001B[38;5;66;03m# `tf.debugging.disable_traceback_filtering()`\u001B[39;00m\n\u001B[0;32m---> 70\u001B[0m     \u001B[38;5;28;01mraise\u001B[39;00m e\u001B[38;5;241m.\u001B[39mwith_traceback(filtered_tb) \u001B[38;5;28;01mfrom\u001B[39;00m \u001B[38;5;28mNone\u001B[39m\n\u001B[1;32m     71\u001B[0m \u001B[38;5;28;01mfinally\u001B[39;00m:\n\u001B[1;32m     72\u001B[0m     \u001B[38;5;28;01mdel\u001B[39;00m filtered_tb\n",
      "File \u001B[0;32m/tmp/__autograph_generated_fileob0p_4a4.py:15\u001B[0m, in \u001B[0;36mouter_factory.<locals>.inner_factory.<locals>.tf__call\u001B[0;34m(self, inputs)\u001B[0m\n\u001B[1;32m     13\u001B[0m do_return \u001B[38;5;241m=\u001B[39m \u001B[38;5;28;01mFalse\u001B[39;00m\n\u001B[1;32m     14\u001B[0m retval_ \u001B[38;5;241m=\u001B[39m ag__\u001B[38;5;241m.\u001B[39mUndefinedReturnValue()\n\u001B[0;32m---> 15\u001B[0m inputs_flat \u001B[38;5;241m=\u001B[39m \u001B[43mag__\u001B[49m\u001B[38;5;241;43m.\u001B[39;49m\u001B[43mconverted_call\u001B[49m\u001B[43m(\u001B[49m\u001B[43mag__\u001B[49m\u001B[38;5;241;43m.\u001B[39;49m\u001B[43mld\u001B[49m\u001B[43m(\u001B[49m\u001B[43minputs_flat_with_pad\u001B[49m\u001B[43m)\u001B[49m\u001B[43m,\u001B[49m\u001B[43m \u001B[49m\u001B[43m(\u001B[49m\u001B[43mag__\u001B[49m\u001B[38;5;241;43m.\u001B[39;49m\u001B[43mld\u001B[49m\u001B[43m(\u001B[49m\u001B[43minputs\u001B[49m\u001B[43m)\u001B[49m\u001B[43m,\u001B[49m\u001B[43m)\u001B[49m\u001B[43m,\u001B[49m\u001B[43m \u001B[49m\u001B[38;5;28;43;01mNone\u001B[39;49;00m\u001B[43m,\u001B[49m\u001B[43m \u001B[49m\u001B[43mfscope\u001B[49m\u001B[43m)\u001B[49m\n\u001B[1;32m     16\u001B[0m filt \u001B[38;5;241m=\u001B[39m ag__\u001B[38;5;241m.\u001B[39mconverted_call(ag__\u001B[38;5;241m.\u001B[39mld(filter_combine), ([\u001B[38;5;241m1\u001B[39m, \u001B[38;5;241m1\u001B[39m, \u001B[38;5;241m1\u001B[39m], [\u001B[38;5;241m0.5\u001B[39m, \u001B[38;5;241m0.5\u001B[39m, \u001B[38;5;241m0.5\u001B[39m]), \u001B[38;5;28mdict\u001B[39m(in_channels\u001B[38;5;241m=\u001B[39mag__\u001B[38;5;241m.\u001B[39mld(inputs_flat)\u001B[38;5;241m.\u001B[39mshape[\u001B[38;5;241m2\u001B[39m]), fscope)\n\u001B[1;32m     17\u001B[0m res \u001B[38;5;241m=\u001B[39m ag__\u001B[38;5;241m.\u001B[39mconverted_call(ag__\u001B[38;5;241m.\u001B[39mconverted_call(ag__\u001B[38;5;241m.\u001B[39mld(tf)\u001B[38;5;241m.\u001B[39mnn\u001B[38;5;241m.\u001B[39mconvolution, (), \u001B[38;5;28mdict\u001B[39m(\u001B[38;5;28minput\u001B[39m\u001B[38;5;241m=\u001B[39mag__\u001B[38;5;241m.\u001B[39mld(inputs_flat), filters\u001B[38;5;241m=\u001B[39mag__\u001B[38;5;241m.\u001B[39mld(filt), padding\u001B[38;5;241m=\u001B[39m\u001B[38;5;124m'\u001B[39m\u001B[38;5;124mSAME\u001B[39m\u001B[38;5;124m'\u001B[39m), fscope)\u001B[38;5;241m.\u001B[39mnumpy, (), \u001B[38;5;28;01mNone\u001B[39;00m, fscope)\n",
      "File \u001B[0;32m/tmp/__autograph_generated_fileb61ceriq.py:15\u001B[0m, in \u001B[0;36mouter_factory.<locals>.inner_factory.<locals>.tf__inputs_flat_with_pad\u001B[0;34m(inputs)\u001B[0m\n\u001B[1;32m     13\u001B[0m do_return \u001B[38;5;241m=\u001B[39m \u001B[38;5;28;01mFalse\u001B[39;00m\n\u001B[1;32m     14\u001B[0m retval_ \u001B[38;5;241m=\u001B[39m ag__\u001B[38;5;241m.\u001B[39mUndefinedReturnValue()\n\u001B[0;32m---> 15\u001B[0m (dim_batches, dim_y, dim_x) \u001B[38;5;241m=\u001B[39m ag__\u001B[38;5;241m.\u001B[39mld(inputs)\u001B[38;5;241m.\u001B[39mshape\n\u001B[1;32m     16\u001B[0m res \u001B[38;5;241m=\u001B[39m ag__\u001B[38;5;241m.\u001B[39mconverted_call(ag__\u001B[38;5;241m.\u001B[39mld(np)\u001B[38;5;241m.\u001B[39mzeros, ((ag__\u001B[38;5;241m.\u001B[39mld(dim_batches), ag__\u001B[38;5;241m.\u001B[39mld(dim_y), ag__\u001B[38;5;241m.\u001B[39mld(dim_x) \u001B[38;5;241m+\u001B[39m \u001B[38;5;241m1\u001B[39m),), \u001B[38;5;28;01mNone\u001B[39;00m, fscope)\n\u001B[1;32m     17\u001B[0m ag__\u001B[38;5;241m.\u001B[39mld(res)[:, :, :\u001B[38;5;241m-\u001B[39m\u001B[38;5;241m1\u001B[39m] \u001B[38;5;241m=\u001B[39m ag__\u001B[38;5;241m.\u001B[39mld(inputs)\n",
      "\u001B[0;31mValueError\u001B[0m: Exception encountered when calling layer \"module_wrapper_28\" \"                 f\"(type ModuleWrapper).\n\nin user code:\n\n    File \"/home/bartko/Repozytoria/inzynierka/src/CDT_1D_CNN/cdt_1d_layer.py\", line 57, in call  *\n        inputs_flat = inputs_flat_with_pad(inputs)\n    File \"/home/bartko/Repozytoria/inzynierka/src/CDT_1D_CNN/cdt_1d_layer.py\", line 87, in inputs_flat_with_pad  *\n        dim_batches, dim_y, dim_x = inputs.shape\n\n    ValueError: not enough values to unpack (expected 3, got 2)\n\n\nCall arguments received by layer \"module_wrapper_28\" \"                 f\"(type ModuleWrapper):\n  • args=('tf.Tensor(shape=(10, 20), dtype=float32)',)\n  • kwargs={'training': 'None'}"
     ]
    }
   ],
   "source": [
    "input_shape = (10,20,)\n",
    "\n",
    "model = keras.Sequential()\n",
    "#model.add(tf.keras.Input(shape=(10, None,)))\n",
    "\n",
    "model.add(Cdt1dLayer(input_shape=input_shape))\n",
    "model.add(tf.keras.layers.MaxPooling1D(pool_size=3, strides=3, padding='same'))\n",
    "\n",
    "for i in range(6):\n",
    "    model.add(Cdt1dLayer())\n",
    "    model.add(tf.keras.layers.MaxPooling1D(pool_size=3, strides=3, padding='same'))\n",
    "\n",
    "model.add(tf.keras.layers.Dense(12))\n",
    "model.add(tf.keras.layers.Dense(7))\n",
    "model.add(tf.keras.layers.Dense(3, activation=\"softmax\"))\n",
    "\n",
    "model.build(input_shape)"
   ],
   "metadata": {
    "collapsed": false
   }
  },
  {
   "cell_type": "code",
   "execution_count": 12,
   "outputs": [
    {
     "ename": "ValueError",
     "evalue": "This model has not yet been built. Build the model first by calling `build()` or by calling the model on a batch of data.",
     "output_type": "error",
     "traceback": [
      "\u001B[0;31m---------------------------------------------------------------------------\u001B[0m",
      "\u001B[0;31mValueError\u001B[0m                                Traceback (most recent call last)",
      "Cell \u001B[0;32mIn [12], line 1\u001B[0m\n\u001B[0;32m----> 1\u001B[0m \u001B[43mmodel\u001B[49m\u001B[38;5;241;43m.\u001B[39;49m\u001B[43msummary\u001B[49m\u001B[43m(\u001B[49m\u001B[43m)\u001B[49m\n",
      "File \u001B[0;32m~/Environments/financial_market_predictor/lib/python3.10/site-packages/keras/engine/training.py:3214\u001B[0m, in \u001B[0;36mModel.summary\u001B[0;34m(self, line_length, positions, print_fn, expand_nested, show_trainable, layer_range)\u001B[0m\n\u001B[1;32m   3184\u001B[0m \u001B[38;5;124;03m\"\"\"Prints a string summary of the network.\u001B[39;00m\n\u001B[1;32m   3185\u001B[0m \n\u001B[1;32m   3186\u001B[0m \u001B[38;5;124;03mArgs:\u001B[39;00m\n\u001B[0;32m   (...)\u001B[0m\n\u001B[1;32m   3211\u001B[0m \u001B[38;5;124;03m    ValueError: if `summary()` is called before the model is built.\u001B[39;00m\n\u001B[1;32m   3212\u001B[0m \u001B[38;5;124;03m\"\"\"\u001B[39;00m\n\u001B[1;32m   3213\u001B[0m \u001B[38;5;28;01mif\u001B[39;00m \u001B[38;5;129;01mnot\u001B[39;00m \u001B[38;5;28mself\u001B[39m\u001B[38;5;241m.\u001B[39mbuilt:\n\u001B[0;32m-> 3214\u001B[0m     \u001B[38;5;28;01mraise\u001B[39;00m \u001B[38;5;167;01mValueError\u001B[39;00m(\n\u001B[1;32m   3215\u001B[0m         \u001B[38;5;124m\"\u001B[39m\u001B[38;5;124mThis model has not yet been built. \u001B[39m\u001B[38;5;124m\"\u001B[39m\n\u001B[1;32m   3216\u001B[0m         \u001B[38;5;124m\"\u001B[39m\u001B[38;5;124mBuild the model first by calling `build()` or by calling \u001B[39m\u001B[38;5;124m\"\u001B[39m\n\u001B[1;32m   3217\u001B[0m         \u001B[38;5;124m\"\u001B[39m\u001B[38;5;124mthe model on a batch of data.\u001B[39m\u001B[38;5;124m\"\u001B[39m\n\u001B[1;32m   3218\u001B[0m     )\n\u001B[1;32m   3219\u001B[0m layer_utils\u001B[38;5;241m.\u001B[39mprint_summary(\n\u001B[1;32m   3220\u001B[0m     \u001B[38;5;28mself\u001B[39m,\n\u001B[1;32m   3221\u001B[0m     line_length\u001B[38;5;241m=\u001B[39mline_length,\n\u001B[0;32m   (...)\u001B[0m\n\u001B[1;32m   3226\u001B[0m     layer_range\u001B[38;5;241m=\u001B[39mlayer_range,\n\u001B[1;32m   3227\u001B[0m )\n",
      "\u001B[0;31mValueError\u001B[0m: This model has not yet been built. Build the model first by calling `build()` or by calling the model on a batch of data."
     ]
    }
   ],
   "source": [
    "model.summary()"
   ],
   "metadata": {
    "collapsed": false
   }
  },
  {
   "cell_type": "code",
   "execution_count": null,
   "outputs": [],
   "source": [],
   "metadata": {
    "collapsed": false
   }
  },
  {
   "cell_type": "code",
   "execution_count": null,
   "outputs": [],
   "source": [],
   "metadata": {
    "collapsed": false
   }
  },
  {
   "cell_type": "code",
   "execution_count": null,
   "outputs": [],
   "source": [],
   "metadata": {
    "collapsed": false
   }
  },
  {
   "cell_type": "code",
   "execution_count": 14,
   "outputs": [],
   "source": [],
   "metadata": {
    "collapsed": false
   }
  },
  {
   "cell_type": "code",
   "execution_count": null,
   "outputs": [],
   "source": [],
   "metadata": {
    "collapsed": false
   }
  },
  {
   "cell_type": "code",
   "execution_count": null,
   "outputs": [],
   "source": [],
   "metadata": {
    "collapsed": false
   }
  },
  {
   "cell_type": "code",
   "execution_count": null,
   "outputs": [],
   "source": [],
   "metadata": {
    "collapsed": false
   }
  },
  {
   "cell_type": "code",
   "execution_count": null,
   "outputs": [],
   "source": [],
   "metadata": {
    "collapsed": false
   }
  },
  {
   "cell_type": "code",
   "execution_count": null,
   "outputs": [],
   "source": [],
   "metadata": {
    "collapsed": false
   }
  },
  {
   "cell_type": "code",
   "execution_count": 18,
   "outputs": [],
   "source": [
    "res_mp = tf.keras.layers.MaxPooling1D(pool_size=3, strides=3, padding='same')(res[:, :, :]).numpy()\n"
   ],
   "metadata": {
    "collapsed": false
   }
  },
  {
   "cell_type": "code",
   "execution_count": null,
   "outputs": [],
   "source": [
    "model = Sequential()\n",
    "\n",
    "model.add(LSTM(units=50, return_sequences=True))\n",
    "model.add(Dropout(0.2))\n",
    "model.add(LSTM(units=50, return_sequences=True))\n",
    "model.add(Dropout(0.2))\n",
    "model.add(LSTM(units=50, return_sequences=True))\n",
    "model.add(Dropout(0.2))\n",
    "model.add(LSTM(units=50))\n",
    "model.add(Dropout(0.2))\n",
    "model.add(Dense(units=y_train.shape[1]))\n",
    "\n",
    "model.compile(optimizer='adam', loss='mean_squared_error')\n",
    "model.fit(X_train, y_train, epochs=60, batch_size=32)"
   ],
   "metadata": {
    "collapsed": false
   }
  },
  {
   "cell_type": "code",
   "execution_count": null,
   "outputs": [],
   "source": [],
   "metadata": {
    "collapsed": false
   }
  },
  {
   "cell_type": "code",
   "execution_count": null,
   "outputs": [],
   "source": [],
   "metadata": {
    "collapsed": false
   }
  },
  {
   "cell_type": "code",
   "execution_count": null,
   "outputs": [],
   "source": [],
   "metadata": {
    "collapsed": false
   }
  },
  {
   "cell_type": "code",
   "execution_count": null,
   "outputs": [],
   "source": [],
   "metadata": {
    "collapsed": false
   }
  },
  {
   "cell_type": "code",
   "execution_count": null,
   "outputs": [],
   "source": [],
   "metadata": {
    "collapsed": false
   }
  }
 ],
 "metadata": {
  "kernelspec": {
   "display_name": "Python 3",
   "language": "python",
   "name": "python3"
  },
  "language_info": {
   "codemirror_mode": {
    "name": "ipython",
    "version": 2
   },
   "file_extension": ".py",
   "mimetype": "text/x-python",
   "name": "python",
   "nbconvert_exporter": "python",
   "pygments_lexer": "ipython2",
   "version": "2.7.6"
  }
 },
 "nbformat": 4,
 "nbformat_minor": 0
}

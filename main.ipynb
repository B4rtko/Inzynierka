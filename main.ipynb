{
 "cells": [
  {
   "cell_type": "code",
   "execution_count": 1,
   "outputs": [
    {
     "name": "stderr",
     "output_type": "stream",
     "text": [
      "2022-10-15 17:11:06.143801: I tensorflow/core/platform/cpu_feature_guard.cc:193] This TensorFlow binary is optimized with oneAPI Deep Neural Network Library (oneDNN) to use the following CPU instructions in performance-critical operations:  AVX2 FMA\n",
      "To enable them in other operations, rebuild TensorFlow with the appropriate compiler flags.\n",
      "2022-10-15 17:11:06.285987: W tensorflow/stream_executor/platform/default/dso_loader.cc:64] Could not load dynamic library 'libcudart.so.11.0'; dlerror: libcudart.so.11.0: cannot open shared object file: No such file or directory\n",
      "2022-10-15 17:11:06.286013: I tensorflow/stream_executor/cuda/cudart_stub.cc:29] Ignore above cudart dlerror if you do not have a GPU set up on your machine.\n",
      "2022-10-15 17:11:06.322425: E tensorflow/stream_executor/cuda/cuda_blas.cc:2981] Unable to register cuBLAS factory: Attempting to register factory for plugin cuBLAS when one has already been registered\n",
      "2022-10-15 17:11:07.287699: W tensorflow/stream_executor/platform/default/dso_loader.cc:64] Could not load dynamic library 'libnvinfer.so.7'; dlerror: libnvinfer.so.7: cannot open shared object file: No such file or directory\n",
      "2022-10-15 17:11:07.287793: W tensorflow/stream_executor/platform/default/dso_loader.cc:64] Could not load dynamic library 'libnvinfer_plugin.so.7'; dlerror: libnvinfer_plugin.so.7: cannot open shared object file: No such file or directory\n",
      "2022-10-15 17:11:07.287801: W tensorflow/compiler/tf2tensorrt/utils/py_utils.cc:38] TF-TRT Warning: Cannot dlopen some TensorRT libraries. If you would like to use Nvidia GPU with TensorRT, please make sure the missing libraries mentioned above are installed properly.\n"
     ]
    }
   ],
   "source": [
    "import pandas as pd\n",
    "import numpy as np\n",
    "import seaborn as sns\n",
    "import matplotlib.pyplot as plt\n",
    "import tensorflow as tf\n",
    "import tensorflow.python.keras as krs\n",
    "from keras.layers import LSTM, Dropout, Dense\n",
    "from keras.models import Sequential"
   ],
   "metadata": {
    "collapsed": false
   }
  },
  {
   "cell_type": "code",
   "execution_count": 2,
   "outputs": [
    {
     "data": {
      "text/plain": "         Data  Otwarcie  Najwyzszy  Najnizszy  Zamkniecie    Wolumen\n0  1997-02-06    1717.2     1779.8     1717.2      1779.8  4435886.0\n1  1997-02-07    1778.2     1808.7     1778.2      1799.0  5448243.0\n2  1997-02-10    1797.4     1797.4     1780.3      1783.3  6513315.0\n3  1997-02-11    1803.3     1832.2     1803.3      1832.0  5146340.0\n4  1997-02-12    1824.6     1824.6     1804.9      1810.2  5748398.0",
      "text/html": "<div>\n<style scoped>\n    .dataframe tbody tr th:only-of-type {\n        vertical-align: middle;\n    }\n\n    .dataframe tbody tr th {\n        vertical-align: top;\n    }\n\n    .dataframe thead th {\n        text-align: right;\n    }\n</style>\n<table border=\"1\" class=\"dataframe\">\n  <thead>\n    <tr style=\"text-align: right;\">\n      <th></th>\n      <th>Data</th>\n      <th>Otwarcie</th>\n      <th>Najwyzszy</th>\n      <th>Najnizszy</th>\n      <th>Zamkniecie</th>\n      <th>Wolumen</th>\n    </tr>\n  </thead>\n  <tbody>\n    <tr>\n      <th>0</th>\n      <td>1997-02-06</td>\n      <td>1717.2</td>\n      <td>1779.8</td>\n      <td>1717.2</td>\n      <td>1779.8</td>\n      <td>4435886.0</td>\n    </tr>\n    <tr>\n      <th>1</th>\n      <td>1997-02-07</td>\n      <td>1778.2</td>\n      <td>1808.7</td>\n      <td>1778.2</td>\n      <td>1799.0</td>\n      <td>5448243.0</td>\n    </tr>\n    <tr>\n      <th>2</th>\n      <td>1997-02-10</td>\n      <td>1797.4</td>\n      <td>1797.4</td>\n      <td>1780.3</td>\n      <td>1783.3</td>\n      <td>6513315.0</td>\n    </tr>\n    <tr>\n      <th>3</th>\n      <td>1997-02-11</td>\n      <td>1803.3</td>\n      <td>1832.2</td>\n      <td>1803.3</td>\n      <td>1832.0</td>\n      <td>5146340.0</td>\n    </tr>\n    <tr>\n      <th>4</th>\n      <td>1997-02-12</td>\n      <td>1824.6</td>\n      <td>1824.6</td>\n      <td>1804.9</td>\n      <td>1810.2</td>\n      <td>5748398.0</td>\n    </tr>\n  </tbody>\n</table>\n</div>"
     },
     "execution_count": 2,
     "metadata": {},
     "output_type": "execute_result"
    }
   ],
   "source": [
    "_df = pd.read_csv(\"Data/wig20_d.csv\")\n",
    "# df = pd.read_csv(\"Data/mwig40_d.csv\")\n",
    "# df = pd.read_csv(\"Data/swig80_d.csv\")\n",
    "\n",
    "_df.drop(range(1000), inplace=True)\n",
    "_df.reset_index(inplace=True, drop=True)\n",
    "_df.head()"
   ],
   "metadata": {
    "collapsed": false
   }
  },
  {
   "cell_type": "code",
   "execution_count": 3,
   "outputs": [
    {
     "data": {
      "text/plain": "         Data  Otwarcie  Najwyzszy  Najnizszy  Zamkniecie    Wolumen\n0  1997-02-06    1717.2     1779.8     1717.2      1779.8  4435886.0\n1  1997-02-07    1778.2     1808.7     1778.2      1799.0  5448243.0\n2  1997-02-10    1797.4     1797.4     1780.3      1783.3  6513315.0\n3  1997-02-11    1803.3     1832.2     1803.3      1832.0  5146340.0\n4  1997-02-12    1824.6     1824.6     1804.9      1810.2  5748398.0",
      "text/html": "<div>\n<style scoped>\n    .dataframe tbody tr th:only-of-type {\n        vertical-align: middle;\n    }\n\n    .dataframe tbody tr th {\n        vertical-align: top;\n    }\n\n    .dataframe thead th {\n        text-align: right;\n    }\n</style>\n<table border=\"1\" class=\"dataframe\">\n  <thead>\n    <tr style=\"text-align: right;\">\n      <th></th>\n      <th>Data</th>\n      <th>Otwarcie</th>\n      <th>Najwyzszy</th>\n      <th>Najnizszy</th>\n      <th>Zamkniecie</th>\n      <th>Wolumen</th>\n    </tr>\n  </thead>\n  <tbody>\n    <tr>\n      <th>0</th>\n      <td>1997-02-06</td>\n      <td>1717.2</td>\n      <td>1779.8</td>\n      <td>1717.2</td>\n      <td>1779.8</td>\n      <td>4435886.0</td>\n    </tr>\n    <tr>\n      <th>1</th>\n      <td>1997-02-07</td>\n      <td>1778.2</td>\n      <td>1808.7</td>\n      <td>1778.2</td>\n      <td>1799.0</td>\n      <td>5448243.0</td>\n    </tr>\n    <tr>\n      <th>2</th>\n      <td>1997-02-10</td>\n      <td>1797.4</td>\n      <td>1797.4</td>\n      <td>1780.3</td>\n      <td>1783.3</td>\n      <td>6513315.0</td>\n    </tr>\n    <tr>\n      <th>3</th>\n      <td>1997-02-11</td>\n      <td>1803.3</td>\n      <td>1832.2</td>\n      <td>1803.3</td>\n      <td>1832.0</td>\n      <td>5146340.0</td>\n    </tr>\n    <tr>\n      <th>4</th>\n      <td>1997-02-12</td>\n      <td>1824.6</td>\n      <td>1824.6</td>\n      <td>1804.9</td>\n      <td>1810.2</td>\n      <td>5748398.0</td>\n    </tr>\n  </tbody>\n</table>\n</div>"
     },
     "execution_count": 3,
     "metadata": {},
     "output_type": "execute_result"
    }
   ],
   "source": [
    "_df.head()"
   ],
   "metadata": {
    "collapsed": false
   }
  },
  {
   "cell_type": "code",
   "execution_count": 4,
   "outputs": [],
   "source": [
    "_data_len = len(_df.index)\n",
    "_train_set_ratio, _test_set_ratio, _validation_set_ratio = .8, .1, .1\n",
    "\n",
    "_train_set_len = int(_data_len * _train_set_ratio)\n",
    "_test_set_len = int(_data_len * _test_set_ratio)\n",
    "_validation_set_len = int(_data_len * _validation_set_ratio)\n",
    "\n",
    "_train_set_end = _train_set_len\n",
    "_test_set_end = _train_set_end + _test_set_len\n",
    "_validation_set_end = _test_set_end + _validation_set_len\n",
    "\n",
    "#assert _train_set_ratio + _test_set_ratio + _validation_set_ratio == 1\n",
    "\n",
    "_data = _df.to_numpy().transpose()\n",
    "colnames = _df.columns.to_numpy()\n",
    "\n",
    "#train_set, test_set, validation_set = _df.iloc[:_train_set_end, :], _df.iloc[_train_set_end:_test_set_end, :], _df.iloc[_test_set_end:_validation_set_end, :]\n",
    "train_set, test_set, validation_set = _data[:, :_train_set_end], _data[:, _train_set_end:_test_set_end], _data[:, _test_set_end:_validation_set_end]\n"
   ],
   "metadata": {
    "collapsed": false
   }
  },
  {
   "cell_type": "code",
   "execution_count": 5,
   "outputs": [
    {
     "data": {
      "text/plain": "array(['Data', 'Otwarcie', 'Najwyzszy', 'Najnizszy', 'Zamkniecie',\n       'Wolumen'], dtype=object)"
     },
     "execution_count": 5,
     "metadata": {},
     "output_type": "execute_result"
    }
   ],
   "source": [
    "colnames"
   ],
   "metadata": {
    "collapsed": false
   }
  },
  {
   "cell_type": "code",
   "execution_count": 6,
   "outputs": [
    {
     "data": {
      "text/plain": "array([['1997-02-06', '1997-02-07', '1997-02-10', '1997-02-11',\n        '1997-02-12', '1997-02-13', '1997-02-14', '1997-02-17',\n        '1997-02-18', '1997-02-19'],\n       [1717.2, 1778.2, 1797.4, 1803.3, 1824.6, 1843.4, 1883.0, 1874.1,\n        1894.9, 1880.7],\n       [1779.8, 1808.7, 1797.4, 1832.2, 1824.6, 1888.3, 1898.3, 1897.6,\n        1908.8, 1892.5],\n       [1717.2, 1778.2, 1780.3, 1803.3, 1804.9, 1843.4, 1870.2, 1874.1,\n        1885.7, 1876.2],\n       [1779.8, 1799.0, 1783.3, 1832.0, 1810.2, 1887.9, 1870.2, 1891.4,\n        1885.7, 1880.1],\n       [4435886.0, 5448243.0, 6513315.0, 5146340.0, 5748398.0, 6054225.0,\n        6470972.0, 5876872.0, 5494772.0, 6051072.0]], dtype=object)"
     },
     "execution_count": 6,
     "metadata": {},
     "output_type": "execute_result"
    }
   ],
   "source": [
    "train_set[:, :10]"
   ],
   "metadata": {
    "collapsed": false
   }
  },
  {
   "cell_type": "code",
   "execution_count": 7,
   "outputs": [
    {
     "data": {
      "text/plain": "array([['2017-08-23', '2017-08-24', '2017-08-25', '2017-08-28',\n        '2017-08-29', '2017-08-30', '2017-08-31', '2017-09-01',\n        '2017-09-04', '2017-09-05'],\n       [2387.52, 2395.3, 2464.81, 2474.13, 2525.41, 2507.29, 2520.23,\n        2512.46, 2513.38, 2521.04],\n       [2395.62, 2456.82, 2481.63, 2534.04, 2525.41, 2537.24, 2532.83,\n        2528.82, 2525.72, 2550.74],\n       [2374.66, 2395.3, 2459.27, 2470.06, 2479.35, 2503.35, 2501.59,\n        2508.86, 2508.27, 2513.24],\n       [2391.06, 2456.27, 2471.74, 2531.31, 2497.58, 2524.57, 2516.26,\n        2527.62, 2519.42, 2517.45],\n       [14965936.0, 28821793.0, 19644957.0, 21492576.0, 23903291.0,\n        24313159.0, 26150711.0, 15899558.0, 15063183.0, 20397129.0]],\n      dtype=object)"
     },
     "execution_count": 7,
     "metadata": {},
     "output_type": "execute_result"
    }
   ],
   "source": [
    "test_set[:, :10]"
   ],
   "metadata": {
    "collapsed": false
   }
  },
  {
   "cell_type": "code",
   "execution_count": 8,
   "outputs": [
    {
     "data": {
      "text/plain": "array([['2020-03-24', '2020-03-25', '2020-03-26', '2020-03-27',\n        '2020-03-30', '2020-03-31', '2020-04-01', '2020-04-02',\n        '2020-04-03', '2020-04-06'],\n       [1449.34, 1487.75, 1431.53, 1494.31, 1482.1, 1486.89, 1495.43,\n        1490.41, 1492.1, 1534.81],\n       [1473.02, 1505.79, 1492.87, 1499.62, 1484.62, 1523.49, 1500.43,\n        1501.33, 1509.07, 1585.04],\n       [1424.14, 1413.22, 1410.91, 1465.48, 1443.16, 1484.33, 1473.64,\n        1464.86, 1474.44, 1534.81],\n       [1451.02, 1441.83, 1492.01, 1475.9, 1477.65, 1512.84, 1482.42,\n        1491.55, 1506.48, 1581.05],\n       [37402637.0, 47382329.0, 36791461.0, 33221292.0, 28425038.0,\n        59768681.0, 36501160.0, 48115276.0, 49706290.0, 45607978.0]],\n      dtype=object)"
     },
     "execution_count": 8,
     "metadata": {},
     "output_type": "execute_result"
    }
   ],
   "source": [
    "validation_set[:, :10]"
   ],
   "metadata": {
    "collapsed": false
   }
  },
  {
   "cell_type": "code",
   "execution_count": 9,
   "outputs": [
    {
     "data": {
      "text/plain": "(6, 5143)"
     },
     "execution_count": 9,
     "metadata": {},
     "output_type": "execute_result"
    }
   ],
   "source": [
    "train_set.shape"
   ],
   "metadata": {
    "collapsed": false
   }
  },
  {
   "cell_type": "code",
   "execution_count": 10,
   "outputs": [],
   "source": [
    "def batches_create(data_array):\n",
    "    _x_train = [data_array[:, i:i+60] for i in range(data_array.shape[1]-60-1)]\n",
    "    _y_train = [data_array[:, i+60] for i in range(data_array.shape[1]-60-1)]\n",
    "    return _x_train, _y_train\n"
   ],
   "metadata": {
    "collapsed": false
   }
  },
  {
   "cell_type": "code",
   "execution_count": 11,
   "outputs": [],
   "source": [
    "X_train, y_train = batches_create(train_set)"
   ],
   "metadata": {
    "collapsed": false
   }
  },
  {
   "cell_type": "code",
   "execution_count": 11,
   "outputs": [],
   "source": [],
   "metadata": {
    "collapsed": false
   }
  },
  {
   "cell_type": "code",
   "execution_count": 11,
   "outputs": [],
   "source": [],
   "metadata": {
    "collapsed": false
   }
  },
  {
   "cell_type": "code",
   "execution_count": 11,
   "outputs": [],
   "source": [],
   "metadata": {
    "collapsed": false
   }
  },
  {
   "cell_type": "code",
   "execution_count": 11,
   "outputs": [],
   "source": [],
   "metadata": {
    "collapsed": false
   }
  },
  {
   "cell_type": "code",
   "execution_count": 11,
   "outputs": [],
   "source": [],
   "metadata": {
    "collapsed": false
   }
  },
  {
   "cell_type": "code",
   "execution_count": 11,
   "outputs": [],
   "source": [],
   "metadata": {
    "collapsed": false
   }
  }
 ],
 "metadata": {
  "kernelspec": {
   "display_name": "Python 3",
   "language": "python",
   "name": "python3"
  },
  "language_info": {
   "codemirror_mode": {
    "name": "ipython",
    "version": 2
   },
   "file_extension": ".py",
   "mimetype": "text/x-python",
   "name": "python",
   "nbconvert_exporter": "python",
   "pygments_lexer": "ipython2",
   "version": "2.7.6"
  }
 },
 "nbformat": 4,
 "nbformat_minor": 0
}

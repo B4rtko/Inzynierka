{
 "cells": [
  {
   "cell_type": "code",
   "execution_count": 1,
   "metadata": {},
   "outputs": [
    {
     "ename": "ModuleNotFoundError",
     "evalue": "No module named 'tensorflow'",
     "output_type": "error",
     "traceback": [
      "\u001b[0;31m---------------------------------------------------------------------------\u001b[0m",
      "\u001b[0;31mModuleNotFoundError\u001b[0m                       Traceback (most recent call last)",
      "Cell \u001b[0;32mIn[1], line 5\u001b[0m\n\u001b[1;32m      3\u001b[0m \u001b[38;5;28;01mimport\u001b[39;00m \u001b[38;5;21;01mseaborn\u001b[39;00m \u001b[38;5;28;01mas\u001b[39;00m \u001b[38;5;21;01msns\u001b[39;00m\n\u001b[1;32m      4\u001b[0m \u001b[38;5;28;01mimport\u001b[39;00m \u001b[38;5;21;01mmatplotlib\u001b[39;00m\u001b[38;5;21;01m.\u001b[39;00m\u001b[38;5;21;01mpyplot\u001b[39;00m \u001b[38;5;28;01mas\u001b[39;00m \u001b[38;5;21;01mplt\u001b[39;00m\n\u001b[0;32m----> 5\u001b[0m \u001b[38;5;28;01mimport\u001b[39;00m \u001b[38;5;21;01mtensorflow\u001b[39;00m \u001b[38;5;28;01mas\u001b[39;00m \u001b[38;5;21;01mtf\u001b[39;00m\n\u001b[1;32m      6\u001b[0m \u001b[38;5;28;01mimport\u001b[39;00m \u001b[38;5;21;01mtensorflow\u001b[39;00m\u001b[38;5;21;01m.\u001b[39;00m\u001b[38;5;21;01mpython\u001b[39;00m\u001b[38;5;21;01m.\u001b[39;00m\u001b[38;5;21;01mkeras\u001b[39;00m \u001b[38;5;28;01mas\u001b[39;00m \u001b[38;5;21;01mkrs\u001b[39;00m\n\u001b[1;32m      7\u001b[0m \u001b[38;5;28;01mfrom\u001b[39;00m \u001b[38;5;21;01mkeras\u001b[39;00m\u001b[38;5;21;01m.\u001b[39;00m\u001b[38;5;21;01mlayers\u001b[39;00m \u001b[38;5;28;01mimport\u001b[39;00m LSTM, Dropout, Dense\n",
      "\u001b[0;31mModuleNotFoundError\u001b[0m: No module named 'tensorflow'"
     ]
    }
   ],
   "source": [
    "import pandas as pd\n",
    "import numpy as np\n",
    "import seaborn as sns\n",
    "import matplotlib.pyplot as plt\n",
    "import tensorflow as tf\n",
    "import tensorflow.python.keras as krs\n",
    "from keras.layers import LSTM, Dropout, Dense\n",
    "from keras.models import Sequential\n",
    "from sklearn.preprocessing import MinMaxScaler\n"
   ]
  },
  {
   "cell_type": "code",
   "execution_count": 2,
   "metadata": {},
   "outputs": [
    {
     "data": {
      "text/html": [
       "<div>\n",
       "<style scoped>\n",
       "    .dataframe tbody tr th:only-of-type {\n",
       "        vertical-align: middle;\n",
       "    }\n",
       "\n",
       "    .dataframe tbody tr th {\n",
       "        vertical-align: top;\n",
       "    }\n",
       "\n",
       "    .dataframe thead th {\n",
       "        text-align: right;\n",
       "    }\n",
       "</style>\n",
       "<table border=\"1\" class=\"dataframe\">\n",
       "  <thead>\n",
       "    <tr style=\"text-align: right;\">\n",
       "      <th></th>\n",
       "      <th>Data</th>\n",
       "      <th>Otwarcie</th>\n",
       "      <th>Najwyzszy</th>\n",
       "      <th>Najnizszy</th>\n",
       "      <th>Zamkniecie</th>\n",
       "      <th>Wolumen</th>\n",
       "    </tr>\n",
       "  </thead>\n",
       "  <tbody>\n",
       "    <tr>\n",
       "      <th>0</th>\n",
       "      <td>1997-02-06</td>\n",
       "      <td>1717.2</td>\n",
       "      <td>1779.8</td>\n",
       "      <td>1717.2</td>\n",
       "      <td>1779.8</td>\n",
       "      <td>4435886.0</td>\n",
       "    </tr>\n",
       "    <tr>\n",
       "      <th>1</th>\n",
       "      <td>1997-02-07</td>\n",
       "      <td>1778.2</td>\n",
       "      <td>1808.7</td>\n",
       "      <td>1778.2</td>\n",
       "      <td>1799.0</td>\n",
       "      <td>5448243.0</td>\n",
       "    </tr>\n",
       "    <tr>\n",
       "      <th>2</th>\n",
       "      <td>1997-02-10</td>\n",
       "      <td>1797.4</td>\n",
       "      <td>1797.4</td>\n",
       "      <td>1780.3</td>\n",
       "      <td>1783.3</td>\n",
       "      <td>6513315.0</td>\n",
       "    </tr>\n",
       "    <tr>\n",
       "      <th>3</th>\n",
       "      <td>1997-02-11</td>\n",
       "      <td>1803.3</td>\n",
       "      <td>1832.2</td>\n",
       "      <td>1803.3</td>\n",
       "      <td>1832.0</td>\n",
       "      <td>5146340.0</td>\n",
       "    </tr>\n",
       "    <tr>\n",
       "      <th>4</th>\n",
       "      <td>1997-02-12</td>\n",
       "      <td>1824.6</td>\n",
       "      <td>1824.6</td>\n",
       "      <td>1804.9</td>\n",
       "      <td>1810.2</td>\n",
       "      <td>5748398.0</td>\n",
       "    </tr>\n",
       "  </tbody>\n",
       "</table>\n",
       "</div>"
      ],
      "text/plain": [
       "         Data  Otwarcie  Najwyzszy  Najnizszy  Zamkniecie    Wolumen\n",
       "0  1997-02-06    1717.2     1779.8     1717.2      1779.8  4435886.0\n",
       "1  1997-02-07    1778.2     1808.7     1778.2      1799.0  5448243.0\n",
       "2  1997-02-10    1797.4     1797.4     1780.3      1783.3  6513315.0\n",
       "3  1997-02-11    1803.3     1832.2     1803.3      1832.0  5146340.0\n",
       "4  1997-02-12    1824.6     1824.6     1804.9      1810.2  5748398.0"
      ]
     },
     "execution_count": 2,
     "metadata": {},
     "output_type": "execute_result"
    }
   ],
   "source": [
    "_df = pd.read_csv(\"Data/wig20_d.csv\")\n",
    "# df = pd.read_csv(\"Data/mwig40_d.csv\")\n",
    "# df = pd.read_csv(\"Data/swig80_d.csv\")\n",
    "\n",
    "_df.drop(range(1000), inplace=True)\n",
    "_df.reset_index(inplace=True, drop=True)\n",
    "_df.head()"
   ]
  },
  {
   "cell_type": "code",
   "execution_count": 3,
   "metadata": {},
   "outputs": [
    {
     "data": {
      "text/html": [
       "<div>\n",
       "<style scoped>\n",
       "    .dataframe tbody tr th:only-of-type {\n",
       "        vertical-align: middle;\n",
       "    }\n",
       "\n",
       "    .dataframe tbody tr th {\n",
       "        vertical-align: top;\n",
       "    }\n",
       "\n",
       "    .dataframe thead th {\n",
       "        text-align: right;\n",
       "    }\n",
       "</style>\n",
       "<table border=\"1\" class=\"dataframe\">\n",
       "  <thead>\n",
       "    <tr style=\"text-align: right;\">\n",
       "      <th></th>\n",
       "      <th>Data</th>\n",
       "      <th>Otwarcie</th>\n",
       "      <th>Najwyzszy</th>\n",
       "      <th>Najnizszy</th>\n",
       "      <th>Zamkniecie</th>\n",
       "      <th>Wolumen</th>\n",
       "    </tr>\n",
       "  </thead>\n",
       "  <tbody>\n",
       "    <tr>\n",
       "      <th>0</th>\n",
       "      <td>1997-02-06</td>\n",
       "      <td>1717.2</td>\n",
       "      <td>1779.8</td>\n",
       "      <td>1717.2</td>\n",
       "      <td>1779.8</td>\n",
       "      <td>4435886.0</td>\n",
       "    </tr>\n",
       "    <tr>\n",
       "      <th>1</th>\n",
       "      <td>1997-02-07</td>\n",
       "      <td>1778.2</td>\n",
       "      <td>1808.7</td>\n",
       "      <td>1778.2</td>\n",
       "      <td>1799.0</td>\n",
       "      <td>5448243.0</td>\n",
       "    </tr>\n",
       "    <tr>\n",
       "      <th>2</th>\n",
       "      <td>1997-02-10</td>\n",
       "      <td>1797.4</td>\n",
       "      <td>1797.4</td>\n",
       "      <td>1780.3</td>\n",
       "      <td>1783.3</td>\n",
       "      <td>6513315.0</td>\n",
       "    </tr>\n",
       "    <tr>\n",
       "      <th>3</th>\n",
       "      <td>1997-02-11</td>\n",
       "      <td>1803.3</td>\n",
       "      <td>1832.2</td>\n",
       "      <td>1803.3</td>\n",
       "      <td>1832.0</td>\n",
       "      <td>5146340.0</td>\n",
       "    </tr>\n",
       "    <tr>\n",
       "      <th>4</th>\n",
       "      <td>1997-02-12</td>\n",
       "      <td>1824.6</td>\n",
       "      <td>1824.6</td>\n",
       "      <td>1804.9</td>\n",
       "      <td>1810.2</td>\n",
       "      <td>5748398.0</td>\n",
       "    </tr>\n",
       "  </tbody>\n",
       "</table>\n",
       "</div>"
      ],
      "text/plain": [
       "         Data  Otwarcie  Najwyzszy  Najnizszy  Zamkniecie    Wolumen\n",
       "0  1997-02-06    1717.2     1779.8     1717.2      1779.8  4435886.0\n",
       "1  1997-02-07    1778.2     1808.7     1778.2      1799.0  5448243.0\n",
       "2  1997-02-10    1797.4     1797.4     1780.3      1783.3  6513315.0\n",
       "3  1997-02-11    1803.3     1832.2     1803.3      1832.0  5146340.0\n",
       "4  1997-02-12    1824.6     1824.6     1804.9      1810.2  5748398.0"
      ]
     },
     "execution_count": 3,
     "metadata": {},
     "output_type": "execute_result"
    }
   ],
   "source": [
    "_df.head()"
   ]
  },
  {
   "cell_type": "code",
   "execution_count": 4,
   "metadata": {},
   "outputs": [],
   "source": [
    "_data_len = len(_df.index)\n",
    "_train_set_ratio, _test_set_ratio, _validation_set_ratio = .8, .1, .1\n",
    "scaler = MinMaxScaler(feature_range=(0,1))\n",
    "\n",
    "_train_set_len = int(_data_len * _train_set_ratio)\n",
    "_test_set_len = int(_data_len * _test_set_ratio)\n",
    "_validation_set_len = int(_data_len * _validation_set_ratio)\n",
    "\n",
    "_train_set_end = _train_set_len\n",
    "_test_set_end = _train_set_end + _test_set_len\n",
    "_validation_set_end = _test_set_end + _validation_set_len\n",
    "\n",
    "\n",
    "colnames = _df.columns.to_numpy()\n",
    "col_len = 5\n",
    "\n",
    "_data = _df.to_numpy()[:, 1:col_len]\n",
    "#_data = _data.flatten().reshape((-1, 1))\n",
    "#_data = _df.to_numpy().transpose()[1:5, :]\n",
    "_data = scaler.fit_transform(_data)\n",
    "\n",
    "\n",
    "#train_set, test_set, validation_set = _df.iloc[:_train_set_end, :], _df.iloc[_train_set_end:_test_set_end, :], _df.iloc[_test_set_end:_validation_set_end, :]\n",
    "train_set, test_set, validation_set = _data[:_train_set_end, :], _data[_train_set_end:_test_set_end, :], _data[_test_set_end:_validation_set_end, :]\n"
   ]
  },
  {
   "cell_type": "code",
   "execution_count": 5,
   "metadata": {},
   "outputs": [
    {
     "data": {
      "text/plain": [
       "array(['Data', 'Otwarcie', 'Najwyzszy', 'Najnizszy', 'Zamkniecie',\n",
       "       'Wolumen'], dtype=object)"
      ]
     },
     "execution_count": 5,
     "metadata": {},
     "output_type": "execute_result"
    }
   ],
   "source": [
    "colnames"
   ]
  },
  {
   "cell_type": "code",
   "execution_count": 6,
   "metadata": {},
   "outputs": [
    {
     "data": {
      "text/plain": [
       "array([[0.24675461, 0.26440479, 0.25373683, 0.27438683],\n",
       "       [0.26746804, 0.27424346, 0.27448753, 0.28090288],\n",
       "       [0.27398767, 0.27039651, 0.27520189, 0.27557465],\n",
       "       ...,\n",
       "       [0.46054432, 0.46188283, 0.46512182, 0.47124962],\n",
       "       [0.46464965, 0.46812306, 0.46929237, 0.47715819],\n",
       "       [0.47197745, 0.47321261, 0.47799065, 0.48053839]])"
      ]
     },
     "execution_count": 6,
     "metadata": {},
     "output_type": "execute_result"
    }
   ],
   "source": [
    "train_set[:, :10]"
   ]
  },
  {
   "cell_type": "code",
   "execution_count": 7,
   "metadata": {},
   "outputs": [
    {
     "data": {
      "text/plain": [
       "array([[0.47437138, 0.4740535 , 0.47738854, 0.48183481],\n",
       "       [0.47701319, 0.49488832, 0.48440976, 0.50396563],\n",
       "       [0.50061631, 0.50333459, 0.50617078, 0.5092158 ],\n",
       "       ...,\n",
       "       [0.14132328, 0.15874297, 0.14135308, 0.16905419],\n",
       "       [0.17372791, 0.18540269, 0.17190764, 0.17549897],\n",
       "       [0.15983293, 0.15687056, 0.14607472, 0.14734081]])"
      ]
     },
     "execution_count": 7,
     "metadata": {},
     "output_type": "execute_result"
    }
   ],
   "source": [
    "test_set[:, :10]"
   ]
  },
  {
   "cell_type": "code",
   "execution_count": 8,
   "metadata": {},
   "outputs": [
    {
     "data": {
      "text/plain": [
       "array([[0.15579891, 0.15996514, 0.15404503, 0.16280625],\n",
       "       [0.16884158, 0.1711213 , 0.15033031, 0.15968737],\n",
       "       [0.14975127, 0.16672284, 0.14954451, 0.17671734],\n",
       "       ...,\n",
       "       [0.14393793, 0.14202745, 0.14544539, 0.14725936],\n",
       "       [0.13913649, 0.13520506, 0.13880857, 0.13853056],\n",
       "       [0.13145894, 0.13714216, 0.1324643 , 0.1393281 ]])"
      ]
     },
     "execution_count": 8,
     "metadata": {},
     "output_type": "execute_result"
    }
   ],
   "source": [
    "validation_set[:, :10]"
   ]
  },
  {
   "cell_type": "code",
   "execution_count": 9,
   "metadata": {},
   "outputs": [
    {
     "data": {
      "text/plain": [
       "(5143, 4)"
      ]
     },
     "execution_count": 9,
     "metadata": {},
     "output_type": "execute_result"
    }
   ],
   "source": [
    "train_set.shape"
   ]
  },
  {
   "cell_type": "code",
   "execution_count": 10,
   "metadata": {},
   "outputs": [],
   "source": [
    "def batches_create(data_array: np.array):\n",
    "    _forecast = 1\n",
    "    _x_train = np.array([data_array[i:i+60, :].astype(\"float32\") for i in range(data_array.shape[0]-60-_forecast)])\n",
    "    _y_train = np.array([data_array[i+60:i+60+_forecast, :].astype(\"float32\") for i in range(data_array.shape[0]-60-_forecast)])\n",
    "    print(_x_train.shape)\n",
    "    print(_y_train.shape)\n",
    "    #_x_train, _y_train = np.reshape(_x_train, (_x_train.shape[0], _x_train.shape[1], 1)), _y_train\n",
    "    return _x_train, _y_train\n"
   ]
  },
  {
   "cell_type": "code",
   "execution_count": 11,
   "metadata": {},
   "outputs": [
    {
     "name": "stdout",
     "output_type": "stream",
     "text": [
      "(5082, 60, 4)\n",
      "(5082, 1, 4)\n",
      "(581, 60, 4)\n",
      "(581, 1, 4)\n",
      "(581, 60, 4)\n",
      "(581, 1, 4)\n"
     ]
    }
   ],
   "source": [
    "X_train, y_train = batches_create(train_set)\n",
    "X_test, y_test = batches_create(test_set)\n",
    "X_validation, y_validation = batches_create(validation_set)\n"
   ]
  },
  {
   "cell_type": "code",
   "execution_count": 12,
   "metadata": {},
   "outputs": [
    {
     "name": "stdout",
     "output_type": "stream",
     "text": [
      "Epoch 1/10\n"
     ]
    },
    {
     "name": "stderr",
     "output_type": "stream",
     "text": [
      "2022-10-16 00:08:44.538038: W tensorflow/stream_executor/platform/default/dso_loader.cc:64] Could not load dynamic library 'libcuda.so.1'; dlerror: libcuda.so.1: cannot open shared object file: No such file or directory\n",
      "2022-10-16 00:08:44.538067: W tensorflow/stream_executor/cuda/cuda_driver.cc:263] failed call to cuInit: UNKNOWN ERROR (303)\n",
      "2022-10-16 00:08:44.538089: I tensorflow/stream_executor/cuda/cuda_diagnostics.cc:156] kernel driver does not appear to be running on this host (banjaro): /proc/driver/nvidia/version does not exist\n",
      "2022-10-16 00:08:44.538410: I tensorflow/core/platform/cpu_feature_guard.cc:193] This TensorFlow binary is optimized with oneAPI Deep Neural Network Library (oneDNN) to use the following CPU instructions in performance-critical operations:  AVX2 FMA\n",
      "To enable them in other operations, rebuild TensorFlow with the appropriate compiler flags.\n"
     ]
    },
    {
     "name": "stdout",
     "output_type": "stream",
     "text": [
      "159/159 [==============================] - 19s 79ms/step - loss: 0.0518\n",
      "Epoch 2/10\n",
      "159/159 [==============================] - 14s 85ms/step - loss: 0.0471\n",
      "Epoch 3/10\n",
      "159/159 [==============================] - 17s 105ms/step - loss: 0.0467\n",
      "Epoch 4/10\n",
      "159/159 [==============================] - 18s 112ms/step - loss: 0.0464\n",
      "Epoch 5/10\n",
      "159/159 [==============================] - 17s 108ms/step - loss: 0.0461\n",
      "Epoch 6/10\n",
      "159/159 [==============================] - 16s 103ms/step - loss: 0.0457\n",
      "Epoch 7/10\n",
      "159/159 [==============================] - 16s 100ms/step - loss: 0.0457\n",
      "Epoch 8/10\n",
      "159/159 [==============================] - 17s 110ms/step - loss: 0.0459\n",
      "Epoch 9/10\n",
      "159/159 [==============================] - 17s 107ms/step - loss: 0.0454\n",
      "Epoch 10/10\n",
      "159/159 [==============================] - 17s 106ms/step - loss: 0.0453\n"
     ]
    },
    {
     "data": {
      "text/plain": [
       "<keras.callbacks.History at 0x7efea9367b20>"
      ]
     },
     "execution_count": 12,
     "metadata": {},
     "output_type": "execute_result"
    }
   ],
   "source": [
    "model = Sequential()\n",
    "\n",
    "model.add(LSTM(units=50, return_sequences=True))\n",
    "model.add(Dropout(0.2))\n",
    "model.add(LSTM(units=50, return_sequences=True))\n",
    "model.add(Dropout(0.2))\n",
    "model.add(LSTM(units=50, return_sequences=True))\n",
    "model.add(Dropout(0.2))\n",
    "model.add(LSTM(units=50))\n",
    "model.add(Dropout(0.2))\n",
    "model.add(Dense(units=y_train.shape[2]))\n",
    "\n",
    "model.compile(optimizer='adam', loss='mean_squared_error')\n",
    "model.fit(X_train, y_train, epochs=10, batch_size=32)"
   ]
  },
  {
   "cell_type": "code",
   "execution_count": 13,
   "metadata": {},
   "outputs": [],
   "source": [
    "#model = krs.models.load_model(\"Models/model_lstm_1\")"
   ]
  },
  {
   "cell_type": "code",
   "execution_count": 14,
   "metadata": {},
   "outputs": [
    {
     "data": {
      "text/plain": [
       "(581, 60, 4)"
      ]
     },
     "execution_count": 14,
     "metadata": {},
     "output_type": "execute_result"
    }
   ],
   "source": [
    "X_test.shape"
   ]
  },
  {
   "cell_type": "code",
   "execution_count": 15,
   "metadata": {},
   "outputs": [],
   "source": [
    "output_col_num = 0"
   ]
  },
  {
   "cell_type": "code",
   "execution_count": 16,
   "metadata": {},
   "outputs": [
    {
     "name": "stdout",
     "output_type": "stream",
     "text": [
      "19/19 [==============================] - 2s 22ms/step\n"
     ]
    }
   ],
   "source": [
    "prediction_test = model.predict(np.array(X_test))"
   ]
  },
  {
   "cell_type": "code",
   "execution_count": 40,
   "metadata": {},
   "outputs": [
    {
     "data": {
      "text/plain": [
       "(581, 4)"
      ]
     },
     "execution_count": 40,
     "metadata": {},
     "output_type": "execute_result"
    }
   ],
   "source": [
    "prediction_test.shape"
   ]
  },
  {
   "cell_type": "code",
   "execution_count": 18,
   "metadata": {},
   "outputs": [],
   "source": [
    "y_t = scaler.inverse_transform(prediction_test)[:, output_col_num]"
   ]
  },
  {
   "cell_type": "code",
   "execution_count": 19,
   "metadata": {},
   "outputs": [],
   "source": [
    "#scaler.inverse_transform(prediction_test)"
   ]
  },
  {
   "cell_type": "code",
   "execution_count": 20,
   "metadata": {},
   "outputs": [
    {
     "data": {
      "text/plain": [
       "array([2176.135 , 2176.0945, 2176.0278, 2175.942 , 2175.8494, 2175.7651,\n",
       "       2175.699 , 2175.6558, 2175.636 , 2175.636 , 2175.6475, 2175.6577,\n",
       "       2175.6519, 2175.6196, 2175.5593, 2175.474 , 2175.3696, 2175.2534,\n",
       "       2175.1323, 2175.011 , 2174.8953, 2174.7913, 2174.7024, 2174.6338,\n",
       "       2174.591 , 2174.5776, 2174.5923, 2174.6301, 2174.684 , 2174.7502,\n",
       "       2174.825 , 2174.9014, 2174.9792, 2175.0645, 2175.1653, 2175.285 ,\n",
       "       2175.4187, 2175.56  , 2175.7036, 2175.8457, 2175.985 , 2176.127 ,\n",
       "       2176.2778, 2176.439 , 2176.6104, 2176.7908, 2176.9768, 2177.1616,\n",
       "       2177.338 , 2177.498 , 2177.6355, 2177.7444, 2177.8188, 2177.8547,\n",
       "       2177.8489, 2177.7942, 2177.687 , 2177.53  , 2177.3274, 2177.0894,\n",
       "       2176.831 , 2176.568 , 2176.3157, 2176.0818, 2175.869 , 2175.6758,\n",
       "       2175.4998, 2175.3376, 2175.189 , 2175.0544, 2174.9375, 2174.8347,\n",
       "       2174.7344, 2174.6233, 2174.4924, 2174.343 , 2174.1816, 2174.0156,\n",
       "       2173.851 , 2173.6978, 2173.5647, 2173.4539, 2173.3623, 2173.2793,\n",
       "       2173.191 , 2173.0852, 2172.961 , 2172.8237, 2172.6772, 2172.5232,\n",
       "       2172.3647, 2172.2   , 2172.027 , 2171.8467, 2171.6614, 2171.4783,\n",
       "       2171.3057, 2171.154 , 2171.0305, 2170.9392, 2170.8816, 2170.8604,\n",
       "       2170.874 , 2170.918 , 2170.9854, 2171.0703, 2171.1675, 2171.2683,\n",
       "       2171.364 , 2171.444 , 2171.502 , 2171.5376, 2171.5552, 2171.5618,\n",
       "       2171.557 , 2171.5356, 2171.493 , 2171.432 , 2171.3645, 2171.3076,\n",
       "       2171.274 , 2171.267 , 2171.2788, 2171.2996, 2171.3157, 2171.3196,\n",
       "       2171.308 , 2171.2783, 2171.229 , 2171.159 , 2171.0715, 2170.967 ,\n",
       "       2170.8438, 2170.7021, 2170.5503, 2170.4016, 2170.2732, 2170.18  ,\n",
       "       2170.127 , 2170.11  , 2170.1213, 2170.1511, 2170.1897, 2170.2275,\n",
       "       2170.2502, 2170.24  , 2170.1877, 2170.0942, 2169.9697, 2169.8264,\n",
       "       2169.6758, 2169.5242, 2169.3708, 2169.2153, 2169.0566, 2168.9001,\n",
       "       2168.7559, 2168.6335, 2168.5378, 2168.467 , 2168.419 , 2168.39  ,\n",
       "       2168.3774, 2168.377 , 2168.3826, 2168.3882, 2168.3906, 2168.3875,\n",
       "       2168.38  , 2168.3762, 2168.3896, 2168.433 , 2168.518 , 2168.6514,\n",
       "       2168.8323, 2169.0547, 2169.3066, 2169.5737, 2169.8416, 2170.0972,\n",
       "       2170.3335, 2170.55  , 2170.7468, 2170.92  , 2171.061 , 2171.168 ,\n",
       "       2171.2407, 2171.28  , 2171.2876, 2171.2695, 2171.2388, 2171.2097,\n",
       "       2171.1968, 2171.2097, 2171.2588, 2171.3499, 2171.4795, 2171.6355,\n",
       "       2171.8025, 2171.9668, 2172.1143, 2172.2336, 2172.3154, 2172.3535,\n",
       "       2172.347 , 2172.2954, 2172.2026, 2172.0764, 2171.925 , 2171.7578,\n",
       "       2171.5854, 2171.4211, 2171.2766, 2171.1597, 2171.075 , 2171.025 ,\n",
       "       2171.009 , 2171.0208, 2171.0535, 2171.0981, 2171.149 , 2171.2007,\n",
       "       2171.2478, 2171.282 , 2171.2952, 2171.282 , 2171.233 , 2171.1455,\n",
       "       2171.0227, 2170.874 , 2170.7124, 2170.549 , 2170.3904, 2170.242 ,\n",
       "       2170.102 , 2169.9666, 2169.8284, 2169.6777, 2169.5098, 2169.3247,\n",
       "       2169.1328, 2168.9521, 2168.803 , 2168.7012, 2168.658 , 2168.6782,\n",
       "       2168.7556, 2168.8745, 2169.0142, 2169.159 , 2169.29  , 2169.3943,\n",
       "       2169.465 , 2169.5034, 2169.5212, 2169.5317, 2169.5442, 2169.5625,\n",
       "       2169.5903, 2169.6367, 2169.7085, 2169.8123, 2169.9514, 2170.1216,\n",
       "       2170.3142, 2170.515 , 2170.7063, 2170.8699, 2170.9954, 2171.0852,\n",
       "       2171.1506, 2171.2024, 2171.247 , 2171.2927, 2171.3452, 2171.3984,\n",
       "       2171.4448, 2171.4788, 2171.4978, 2171.502 , 2171.4949, 2171.4844,\n",
       "       2171.4812, 2171.4946, 2171.528 , 2171.5818, 2171.652 , 2171.7344,\n",
       "       2171.8262, 2171.9275, 2172.0376, 2172.1545, 2172.274 , 2172.3926,\n",
       "       2172.5132, 2172.6392, 2172.7678, 2172.893 , 2173.0078, 2173.1082,\n",
       "       2173.195 , 2173.2712, 2173.3408, 2173.409 , 2173.4758, 2173.5364,\n",
       "       2173.5845, 2173.6167, 2173.6313, 2173.6252, 2173.597 , 2173.548 ,\n",
       "       2173.482 , 2173.4045, 2173.3245, 2173.249 , 2173.184 , 2173.1353,\n",
       "       2173.1016, 2173.0781, 2173.0603, 2173.0427, 2173.0215, 2172.9941,\n",
       "       2172.9587, 2172.9126, 2172.8547, 2172.7876, 2172.7144, 2172.6406,\n",
       "       2172.5723, 2172.5173, 2172.482 , 2172.4678, 2172.4744, 2172.4956,\n",
       "       2172.522 , 2172.545 , 2172.56  , 2172.5654, 2172.5605, 2172.5486,\n",
       "       2172.5369, 2172.5374, 2172.5603, 2172.607 , 2172.6702, 2172.7432,\n",
       "       2172.821 , 2172.9011, 2172.981 , 2173.056 , 2173.123 , 2173.1816,\n",
       "       2173.2317, 2173.2734, 2173.3071, 2173.3323, 2173.3496, 2173.36  ,\n",
       "       2173.3623, 2173.3528, 2173.3235, 2173.265 , 2173.167 , 2173.022 ,\n",
       "       2172.828 , 2172.588 , 2172.31  , 2172.0046, 2171.685 , 2171.3652,\n",
       "       2171.0562, 2170.7673, 2170.5068, 2170.2793, 2170.085 , 2169.9216,\n",
       "       2169.787 , 2169.6763, 2169.5872, 2169.5205, 2169.4805, 2169.4692,\n",
       "       2169.4846, 2169.5227, 2169.5833, 2169.6672, 2169.7754, 2169.903 ,\n",
       "       2170.0452, 2170.1968, 2170.3506, 2170.5017, 2170.65  , 2170.7976,\n",
       "       2170.9448, 2171.0896, 2171.228 , 2171.3594, 2171.4841, 2171.6033,\n",
       "       2171.7168, 2171.8245, 2171.929 , 2172.0305, 2172.1282, 2172.2166,\n",
       "       2172.2903, 2172.347 , 2172.3875, 2172.4136, 2172.429 , 2172.4348,\n",
       "       2172.4307, 2172.4211, 2172.4124, 2172.41  , 2172.415 , 2172.4255,\n",
       "       2172.4355, 2172.438 , 2172.425 , 2172.3918, 2172.3345, 2172.2495,\n",
       "       2172.1301, 2171.9705, 2171.7676, 2171.5269, 2171.2559, 2170.9614,\n",
       "       2170.6497, 2170.3264, 2169.995 , 2169.6616, 2169.3354, 2169.0278,\n",
       "       2168.7466, 2168.4954, 2168.2732, 2168.0776, 2167.9011, 2167.7368,\n",
       "       2167.5835, 2167.4521, 2167.349 , 2167.2764, 2167.2295, 2167.2036,\n",
       "       2167.1985, 2167.2192, 2167.2722, 2167.3586, 2167.476 , 2167.6191,\n",
       "       2167.7808, 2167.9526, 2168.1257, 2168.2908, 2168.4358, 2168.5542,\n",
       "       2168.6433, 2168.705 , 2168.7463, 2168.7734, 2168.7898, 2168.79  ,\n",
       "       2168.7654, 2168.7122, 2168.6343, 2168.54  , 2168.4392, 2168.3394,\n",
       "       2168.2468, 2168.1687, 2168.1096, 2168.072 , 2168.056 , 2168.0588,\n",
       "       2168.079 , 2168.1167, 2168.1738, 2168.2512, 2168.3435, 2168.4436,\n",
       "       2168.5488, 2168.66  , 2168.7744, 2168.8914, 2169.0151, 2169.1511,\n",
       "       2169.2998, 2169.4583, 2169.62  , 2169.7761, 2169.9175, 2170.0378,\n",
       "       2170.1343, 2170.2048, 2170.2458, 2170.2542, 2170.231 , 2170.1824,\n",
       "       2170.1157, 2170.037 , 2169.949 , 2169.8535, 2169.7468, 2169.623 ,\n",
       "       2169.4746, 2169.3   , 2169.0996, 2168.876 , 2168.6343, 2168.3787,\n",
       "       2168.1196, 2167.8738, 2167.6567, 2167.4792, 2167.3467, 2167.259 ,\n",
       "       2167.2126, 2167.2007, 2167.2188, 2167.262 , 2167.3284, 2167.4155,\n",
       "       2167.5178, 2167.6223, 2167.7205, 2167.8083, 2167.8904, 2167.9714,\n",
       "       2168.0535, 2168.1362, 2168.2158, 2168.2915, 2168.3616, 2168.4224,\n",
       "       2168.4695, 2168.5027, 2168.515 , 2168.4983, 2168.4512, 2168.3726,\n",
       "       2168.2632, 2168.1265, 2167.9731, 2167.8179, 2167.6755, 2167.5532,\n",
       "       2167.4524, 2167.371 , 2167.3103, 2167.268 , 2167.2432, 2167.234 ,\n",
       "       2167.236 , 2167.245 , 2167.256 , 2167.2632, 2167.2524, 2167.2017,\n",
       "       2167.0903, 2166.8992, 2166.606 , 2166.205 , 2165.7178, 2165.182 ,\n",
       "       2164.6304, 2164.077 , 2163.5044, 2162.889 , 2162.2031, 2161.4023,\n",
       "       2160.4578, 2159.358 , 2158.1362, 2156.8489, 2155.5588],\n",
       "      dtype=float32)"
      ]
     },
     "execution_count": 20,
     "metadata": {},
     "output_type": "execute_result"
    }
   ],
   "source": [
    "y_t"
   ]
  },
  {
   "cell_type": "code",
   "execution_count": 21,
   "metadata": {},
   "outputs": [
    {
     "data": {
      "text/plain": [
       "array([[[0.47437137, 0.4740535 , 0.47738853, 0.4818348 ],\n",
       "        [0.4770132 , 0.4948883 , 0.48440975, 0.5039656 ],\n",
       "        [0.5006163 , 0.5033346 , 0.5061708 , 0.5092158 ],\n",
       "        [0.503781  , 0.52117693, 0.50984126, 0.52943254],\n",
       "        [0.5211939 , 0.51823896, 0.5130015 , 0.51798534],\n",
       "        [0.515041  , 0.5222664 , 0.5211657 , 0.52714515],\n",
       "        [0.519435  , 0.520765  , 0.520567  , 0.5243249 ],\n",
       "        [0.5167965 , 0.5193999 , 0.52304006, 0.52818024],\n",
       "        [0.517109  , 0.5183445 , 0.52283937, 0.5253973 ],\n",
       "        [0.51971   , 0.52686226, 0.52453005, 0.5247288 ],\n",
       "        [0.5166777 , 0.51922286, 0.52216923, 0.5230149 ],\n",
       "        [0.5165792 , 0.519342  , 0.5139472 , 0.5160203 ],\n",
       "        [0.5087183 , 0.5094625 , 0.51316476, 0.513234  ],\n",
       "        [0.5089764 , 0.51783043, 0.5164305 , 0.5233678 ],\n",
       "        [0.5187287 , 0.52187145, 0.5200567 , 0.52080214],\n",
       "        [0.5151904 , 0.5171632 , 0.51983905, 0.51886094],\n",
       "        [0.51329565, 0.5133605 , 0.51945466, 0.5213282 ],\n",
       "        [0.5149425 , 0.5144465 , 0.51760745, 0.51823646],\n",
       "        [0.51383555, 0.51823896, 0.51903963, 0.51940054],\n",
       "        [0.511136  , 0.5138882 , 0.51859397, 0.51976025],\n",
       "        [0.51444   , 0.51575035, 0.51329064, 0.51868105],\n",
       "        [0.5129595 , 0.50998336, 0.5079601 , 0.5081909 ],\n",
       "        [0.50053483, 0.50321543, 0.5065144 , 0.5122668 ],\n",
       "        [0.5054619 , 0.50455   , 0.5040889 , 0.5029068 ],\n",
       "        [0.49628007, 0.49647477, 0.4986461 , 0.49957746],\n",
       "        [0.4947962 , 0.49476916, 0.49622405, 0.4963466 ],\n",
       "        [0.48907113, 0.4892983 , 0.49382243, 0.49404562],\n",
       "        [0.4888538 , 0.49666542, 0.49627167, 0.503012  ],\n",
       "        [0.49892867, 0.5029397 , 0.50508565, 0.50848275],\n",
       "        [0.5027929 , 0.5057313 , 0.50842613, 0.508459  ],\n",
       "        [0.5025111 , 0.50616026, 0.50091505, 0.49986595],\n",
       "        [0.4936043 , 0.49930722, 0.49952376, 0.5064024 ],\n",
       "        [0.5010204 , 0.504601  , 0.5076301 , 0.5118358 ],\n",
       "        [0.50700015, 0.50936717, 0.51311034, 0.51858604],\n",
       "        [0.51487803, 0.51630527, 0.52134943, 0.524403  ],\n",
       "        [0.5196319 , 0.5289764 , 0.52678543, 0.5363796 ],\n",
       "        [0.53208375, 0.5320642 , 0.5324493 , 0.53159773],\n",
       "        [0.5256592 , 0.52535754, 0.52960545, 0.52836347],\n",
       "        [0.5222228 , 0.525572  , 0.5297007 , 0.5305219 ],\n",
       "        [0.5241685 , 0.5227804 , 0.52491105, 0.5236801 ],\n",
       "        [0.5187321 , 0.51852494, 0.5208221 , 0.51960075],\n",
       "        [0.5092514 , 0.5100514 , 0.5083853 , 0.50777346],\n",
       "        [0.50367576, 0.5050129 , 0.5055755 , 0.5071015 ],\n",
       "        [0.5012377 , 0.5054385 , 0.5086779 , 0.50978595],\n",
       "        [0.5020323 , 0.5008562 , 0.50202745, 0.5013117 ],\n",
       "        [0.49525458, 0.49814633, 0.50072795, 0.5018004 ],\n",
       "        [0.49642608, 0.49720672, 0.5002551 , 0.5039317 ],\n",
       "        [0.49981833, 0.5071815 , 0.5046604 , 0.5149038 ],\n",
       "        [0.5094416 , 0.51687723, 0.5168965 , 0.5245862 ],\n",
       "        [0.517401  , 0.51806533, 0.52142423, 0.52725714],\n",
       "        [0.52089167, 0.52077186, 0.5189546 , 0.51928174],\n",
       "        [0.5137507 , 0.51285326, 0.5143146 , 0.51694685],\n",
       "        [0.51172346, 0.51711893, 0.5153759 , 0.5240127 ],\n",
       "        [0.5197134 , 0.5322582 , 0.5271868 , 0.5311498 ],\n",
       "        [0.527975  , 0.5262529 , 0.5242443 , 0.5233339 ],\n",
       "        [0.5170648 , 0.5143137 , 0.50847036, 0.51141155],\n",
       "        [0.5050714 , 0.50354904, 0.505072  , 0.5044238 ],\n",
       "        [0.49860948, 0.50014466, 0.5003232 , 0.5033989 ],\n",
       "        [0.50052124, 0.50179243, 0.5051162 , 0.5067078 ],\n",
       "        [0.4990713 , 0.49605942, 0.49035603, 0.49130344]]], dtype=float32)"
      ]
     },
     "execution_count": 21,
     "metadata": {},
     "output_type": "execute_result"
    }
   ],
   "source": [
    "np.array([X_test[0]])"
   ]
  },
  {
   "cell_type": "code",
   "execution_count": 22,
   "metadata": {},
   "outputs": [
    {
     "data": {
      "text/plain": [
       "(581, 60, 4)"
      ]
     },
     "execution_count": 22,
     "metadata": {},
     "output_type": "execute_result"
    }
   ],
   "source": [
    "X_test.shape"
   ]
  },
  {
   "cell_type": "code",
   "execution_count": 23,
   "metadata": {},
   "outputs": [
    {
     "data": {
      "text/plain": [
       "array([[[0.48829353, 0.48870936, 0.48921305, 0.48863932]],\n",
       "\n",
       "       [[0.48290125, 0.49110264, 0.4896859 , 0.49974376]],\n",
       "\n",
       "       [[0.49156353, 0.49949104, 0.4966799 , 0.50797707]],\n",
       "\n",
       "       ...,\n",
       "\n",
       "       [[0.1476256 , 0.15743227, 0.13792412, 0.145929  ]],\n",
       "\n",
       "       [[0.14132328, 0.15874296, 0.14135309, 0.1690542 ]],\n",
       "\n",
       "       [[0.1737279 , 0.18540269, 0.17190763, 0.17549898]]], dtype=float32)"
      ]
     },
     "execution_count": 23,
     "metadata": {},
     "output_type": "execute_result"
    }
   ],
   "source": [
    "y_test"
   ]
  },
  {
   "cell_type": "code",
   "execution_count": 39,
   "metadata": {},
   "outputs": [
    {
     "data": {
      "text/plain": [
       "<matplotlib.legend.Legend at 0x7efe1ba566b0>"
      ]
     },
     "execution_count": 39,
     "metadata": {},
     "output_type": "execute_result"
    },
    {
     "data": {
      "image/png": "[encoded data removed]",
      "text/plain": [
       "<Figure size 640x480 with 1 Axes>"
      ]
     },
     "metadata": {},
     "output_type": "display_data"
    }
   ],
   "source": [
    "y_test = y_test.reshape(-1, col_len-1)\n",
    "plt.plot(range(len(y_test)), scaler.inverse_transform(y_test)[:, output_col_num], label=\"rzeczywiste\")\n",
    "plt.plot(range(len(y_test)), y_t, label=\"predykcja\")\n",
    "plt.legend()"
   ]
  },
  {
   "cell_type": "code",
   "execution_count": null,
   "metadata": {},
   "outputs": [],
   "source": [
    "prediction_validation = model.predict(X_validation)"
   ]
  },
  {
   "cell_type": "code",
   "execution_count": null,
   "metadata": {},
   "outputs": [],
   "source": [
    "prediction_validation"
   ]
  },
  {
   "cell_type": "code",
   "execution_count": null,
   "metadata": {},
   "outputs": [],
   "source": [
    "y_v = scaler.inverse_transform(prediction_validation)[:, output_col_num]"
   ]
  },
  {
   "cell_type": "code",
   "execution_count": null,
   "metadata": {},
   "outputs": [],
   "source": [
    "plt.plot(range(len(y_validation)), scaler.inverse_transform(y_validation)[:, output_col_num], label=\"rzeczywiste\")\n",
    "plt.plot(range(len(y_validation)), y_v, label=\"predykcja\")\n",
    "plt.legend()"
   ]
  },
  {
   "cell_type": "code",
   "execution_count": null,
   "metadata": {},
   "outputs": [],
   "source": [
    "deltas_test = y_t - scaler.inverse_transform(y_test)[:, output_col_num]"
   ]
  },
  {
   "cell_type": "code",
   "execution_count": null,
   "metadata": {},
   "outputs": [],
   "source": [
    "plt.hist(deltas_test, bins=50)"
   ]
  },
  {
   "cell_type": "code",
   "execution_count": null,
   "metadata": {},
   "outputs": [],
   "source": [
    "deltas_validation = y_v - scaler.inverse_transform(y_validation)[:, output_col_num]"
   ]
  },
  {
   "cell_type": "code",
   "execution_count": null,
   "metadata": {},
   "outputs": [],
   "source": [
    "plt.hist(deltas_validation, bins=50)"
   ]
  },
  {
   "cell_type": "code",
   "execution_count": null,
   "metadata": {},
   "outputs": [],
   "source": [
    "#model.save(\"Models/tmp\")"
   ]
  },
  {
   "cell_type": "code",
   "execution_count": null,
   "metadata": {},
   "outputs": [],
   "source": []
  },
  {
   "cell_type": "code",
   "execution_count": null,
   "metadata": {},
   "outputs": [],
   "source": []
  },
  {
   "cell_type": "code",
   "execution_count": null,
   "metadata": {},
   "outputs": [],
   "source": []
  },
  {
   "cell_type": "code",
   "execution_count": null,
   "metadata": {},
   "outputs": [],
   "source": []
  }
 ],
 "metadata": {
  "kernelspec": {
   "display_name": "Python 3 (ipykernel)",
   "language": "python",
   "name": "python3"
  },
  "language_info": {
   "codemirror_mode": {
    "name": "ipython",
    "version": 3
   },
   "file_extension": ".py",
   "mimetype": "text/x-python",
   "name": "python",
   "nbconvert_exporter": "python",
   "pygments_lexer": "ipython3",
   "version": "3.10.8"
  }
 },
 "nbformat": 4,
 "nbformat_minor": 1
}

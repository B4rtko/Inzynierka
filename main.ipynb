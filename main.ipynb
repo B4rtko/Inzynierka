{
 "cells": [
  {
   "cell_type": "code",
   "execution_count": 1,
   "outputs": [
    {
     "name": "stderr",
     "output_type": "stream",
     "text": [
      "2023-03-18 13:01:53.919567: I tensorflow/core/platform/cpu_feature_guard.cc:193] This TensorFlow binary is optimized with oneAPI Deep Neural Network Library (oneDNN) to use the following CPU instructions in performance-critical operations:  AVX2 FMA\n",
      "To enable them in other operations, rebuild TensorFlow with the appropriate compiler flags.\n",
      "2023-03-18 13:01:54.486508: W tensorflow/compiler/xla/stream_executor/platform/default/dso_loader.cc:64] Could not load dynamic library 'libcudart.so.11.0'; dlerror: libcudart.so.11.0: cannot open shared object file: No such file or directory\n",
      "2023-03-18 13:01:54.486555: I tensorflow/compiler/xla/stream_executor/cuda/cudart_stub.cc:29] Ignore above cudart dlerror if you do not have a GPU set up on your machine.\n",
      "2023-03-18 13:01:56.789090: W tensorflow/compiler/xla/stream_executor/platform/default/dso_loader.cc:64] Could not load dynamic library 'libnvinfer.so.7'; dlerror: libnvinfer.so.7: cannot open shared object file: No such file or directory\n",
      "2023-03-18 13:01:56.789304: W tensorflow/compiler/xla/stream_executor/platform/default/dso_loader.cc:64] Could not load dynamic library 'libnvinfer_plugin.so.7'; dlerror: libnvinfer_plugin.so.7: cannot open shared object file: No such file or directory\n",
      "2023-03-18 13:01:56.789319: W tensorflow/compiler/tf2tensorrt/utils/py_utils.cc:38] TF-TRT Warning: Cannot dlopen some TensorRT libraries. If you would like to use Nvidia GPU with TensorRT, please make sure the missing libraries mentioned above are installed properly.\n"
     ]
    }
   ],
   "source": [
    "import pandas as pd\n",
    "import numpy as np\n",
    "import tensorflow as tf\n",
    "from keras.callbacks import EarlyStopping, ModelCheckpoint\n",
    "from sklearn.metrics import confusion_matrix\n",
    "from sklearn.preprocessing import StandardScaler\n",
    "from keras import backend as K\n",
    "\n",
    "import os\n",
    "from src import *\n"
   ],
   "metadata": {
    "collapsed": false
   }
  },
  {
   "cell_type": "code",
   "execution_count": 2,
   "outputs": [],
   "source": [
    "def recall_m(y_true, y_pred):\n",
    "    true_positives = K.sum(K.round(K.clip(y_true * y_pred, 0, 1)))\n",
    "    possible_positives = K.sum(K.round(K.clip(y_true, 0, 1)))\n",
    "    recall = true_positives / (possible_positives + K.epsilon())\n",
    "    return recall\n",
    "\n",
    "def precision_m(y_true, y_pred):\n",
    "    true_positives = K.sum(K.round(K.clip(y_true * y_pred, 0, 1)))\n",
    "    predicted_positives = K.sum(K.round(K.clip(y_pred, 0, 1)))\n",
    "    precision = true_positives / (predicted_positives + K.epsilon())\n",
    "    return precision\n",
    "\n",
    "def f1_m(y_true, y_pred):\n",
    "    precision = precision_m(y_true, y_pred)\n",
    "    recall = recall_m(y_true, y_pred)\n",
    "    return 2*((precision*recall)/(precision+recall+K.epsilon()))\n",
    "\n",
    "\n",
    "CONVOLUTION_LAYERS = 5"
   ],
   "metadata": {
    "collapsed": false
   }
  },
  {
   "cell_type": "markdown",
   "source": [
    "## Load data"
   ],
   "metadata": {
    "collapsed": false
   }
  },
  {
   "cell_type": "code",
   "execution_count": 3,
   "outputs": [
    {
     "data": {
      "text/plain": "         Data  Otwarcie  Najwyzszy  Najnizszy  Zamkniecie    Wolumen\n0  1997-02-06    1717.2     1779.8     1717.2      1779.8  4435886.0\n1  1997-02-07    1778.2     1808.7     1778.2      1799.0  5448243.0\n2  1997-02-10    1797.4     1797.4     1780.3      1783.3  6513315.0\n3  1997-02-11    1803.3     1832.2     1803.3      1832.0  5146340.0\n4  1997-02-12    1824.6     1824.6     1804.9      1810.2  5748398.0",
      "text/html": "<div>\n<style scoped>\n    .dataframe tbody tr th:only-of-type {\n        vertical-align: middle;\n    }\n\n    .dataframe tbody tr th {\n        vertical-align: top;\n    }\n\n    .dataframe thead th {\n        text-align: right;\n    }\n</style>\n<table border=\"1\" class=\"dataframe\">\n  <thead>\n    <tr style=\"text-align: right;\">\n      <th></th>\n      <th>Data</th>\n      <th>Otwarcie</th>\n      <th>Najwyzszy</th>\n      <th>Najnizszy</th>\n      <th>Zamkniecie</th>\n      <th>Wolumen</th>\n    </tr>\n  </thead>\n  <tbody>\n    <tr>\n      <th>0</th>\n      <td>1997-02-06</td>\n      <td>1717.2</td>\n      <td>1779.8</td>\n      <td>1717.2</td>\n      <td>1779.8</td>\n      <td>4435886.0</td>\n    </tr>\n    <tr>\n      <th>1</th>\n      <td>1997-02-07</td>\n      <td>1778.2</td>\n      <td>1808.7</td>\n      <td>1778.2</td>\n      <td>1799.0</td>\n      <td>5448243.0</td>\n    </tr>\n    <tr>\n      <th>2</th>\n      <td>1997-02-10</td>\n      <td>1797.4</td>\n      <td>1797.4</td>\n      <td>1780.3</td>\n      <td>1783.3</td>\n      <td>6513315.0</td>\n    </tr>\n    <tr>\n      <th>3</th>\n      <td>1997-02-11</td>\n      <td>1803.3</td>\n      <td>1832.2</td>\n      <td>1803.3</td>\n      <td>1832.0</td>\n      <td>5146340.0</td>\n    </tr>\n    <tr>\n      <th>4</th>\n      <td>1997-02-12</td>\n      <td>1824.6</td>\n      <td>1824.6</td>\n      <td>1804.9</td>\n      <td>1810.2</td>\n      <td>5748398.0</td>\n    </tr>\n  </tbody>\n</table>\n</div>"
     },
     "execution_count": 3,
     "metadata": {},
     "output_type": "execute_result"
    }
   ],
   "source": [
    "_df = pd.read_csv(\"Data/wig20_d.csv\")\n",
    "# df = pd.read_csv(\"Data/mwig40_d.csv\")\n",
    "# df = pd.read_csv(\"Data/swig80_d.csv\")\n",
    "\n",
    "_df.drop(range(1000), inplace=True)\n",
    "_df.reset_index(inplace=True, drop=True)\n",
    "_df.head()"
   ],
   "metadata": {
    "collapsed": false
   }
  },
  {
   "cell_type": "code",
   "execution_count": 4,
   "outputs": [
    {
     "data": {
      "text/plain": "(5, 6429)"
     },
     "execution_count": 4,
     "metadata": {},
     "output_type": "execute_result"
    }
   ],
   "source": [
    "data = _df.drop(columns=[\"Data\"]).values.transpose()\n",
    "data.shape"
   ],
   "metadata": {
    "collapsed": false
   }
  },
  {
   "cell_type": "markdown",
   "source": [
    "## Process and split data"
   ],
   "metadata": {
    "collapsed": false
   }
  },
  {
   "cell_type": "code",
   "execution_count": 5,
   "outputs": [],
   "source": [
    "thr_fall, thr_rise = (-0.005270574305918364, 0.004968199728502841)\n",
    "\n",
    "data_pipeline = DataProcess(data, test_ratio=0.2, validation_ratio=0.2, batch_size=3**CONVOLUTION_LAYERS, threshold_fall=thr_fall, threshold_rise=thr_rise, feature_to_predict_num=3)\n",
    "data_pipeline.run()\n",
    "_x_train, _y_train, _x_validation, _y_validation, _x_test, _y_test = data_pipeline.get_data()\n",
    "_y_test_ind, _y_validation_ind = np.argmax(_y_test, axis=1), np.argmax(_y_validation, axis=1)\n"
   ],
   "metadata": {
    "collapsed": false
   }
  },
  {
   "cell_type": "code",
   "execution_count": 6,
   "outputs": [
    {
     "data": {
      "text/plain": "                            x          y\ntrain       (3613, 5, 243, 2)  (3613, 3)\ntest        (1043, 5, 243, 2)  (1043, 3)\nvalidation  (1043, 5, 243, 2)  (1043, 3)",
      "text/html": "<div>\n<style scoped>\n    .dataframe tbody tr th:only-of-type {\n        vertical-align: middle;\n    }\n\n    .dataframe tbody tr th {\n        vertical-align: top;\n    }\n\n    .dataframe thead th {\n        text-align: right;\n    }\n</style>\n<table border=\"1\" class=\"dataframe\">\n  <thead>\n    <tr style=\"text-align: right;\">\n      <th></th>\n      <th>x</th>\n      <th>y</th>\n    </tr>\n  </thead>\n  <tbody>\n    <tr>\n      <th>train</th>\n      <td>(3613, 5, 243, 2)</td>\n      <td>(3613, 3)</td>\n    </tr>\n    <tr>\n      <th>test</th>\n      <td>(1043, 5, 243, 2)</td>\n      <td>(1043, 3)</td>\n    </tr>\n    <tr>\n      <th>validation</th>\n      <td>(1043, 5, 243, 2)</td>\n      <td>(1043, 3)</td>\n    </tr>\n  </tbody>\n</table>\n</div>"
     },
     "execution_count": 6,
     "metadata": {},
     "output_type": "execute_result"
    }
   ],
   "source": [
    "pd.DataFrame(\n",
    "    {\n",
    "        \"x\": [_x_train.shape, _x_test.shape, _x_validation.shape],\n",
    "        \"y\": [_y_train.shape, _y_test.shape, _y_validation.shape]\n",
    "    },\n",
    "    index = [\"train\", \"test\", \"validation\"]\n",
    ")\n"
   ],
   "metadata": {
    "collapsed": false
   }
  },
  {
   "cell_type": "code",
   "execution_count": 7,
   "outputs": [
    {
     "name": "stdout",
     "output_type": "stream",
     "text": [
      "Train dataset classes value counts:\n"
     ]
    },
    {
     "data": {
      "text/plain": "array([1248, 1064, 1301])"
     },
     "execution_count": 7,
     "metadata": {},
     "output_type": "execute_result"
    }
   ],
   "source": [
    "print(\"Train dataset classes value counts:\")\n",
    "_y_train.sum(axis=0)\n",
    "# pd.DataFrame(\n",
    "#     {\n",
    "#         str(key): val for (key, val) in zip(*np.unique(np.argmax(_y_train, axis=1), return_counts=True))\n",
    "#     },\n",
    "#     index = [\"count\"]\n",
    "# )"
   ],
   "metadata": {
    "collapsed": false
   }
  },
  {
   "cell_type": "code",
   "execution_count": 7,
   "outputs": [],
   "source": [],
   "metadata": {
    "collapsed": false
   }
  },
  {
   "cell_type": "markdown",
   "source": [
    "## Model"
   ],
   "metadata": {
    "collapsed": false
   }
  },
  {
   "cell_type": "markdown",
   "source": [
    "### Building"
   ],
   "metadata": {
    "collapsed": false
   }
  },
  {
   "cell_type": "code",
   "execution_count": 8,
   "outputs": [
    {
     "name": "stderr",
     "output_type": "stream",
     "text": [
      "2023-03-18 13:01:59.738285: W tensorflow/compiler/xla/stream_executor/platform/default/dso_loader.cc:64] Could not load dynamic library 'libcuda.so.1'; dlerror: libcuda.so.1: cannot open shared object file: No such file or directory\n",
      "2023-03-18 13:01:59.738886: W tensorflow/compiler/xla/stream_executor/cuda/cuda_driver.cc:265] failed call to cuInit: UNKNOWN ERROR (303)\n",
      "2023-03-18 13:01:59.738956: I tensorflow/compiler/xla/stream_executor/cuda/cuda_diagnostics.cc:156] kernel driver does not appear to be running on this host (banjaro): /proc/driver/nvidia/version does not exist\n",
      "2023-03-18 13:01:59.742033: I tensorflow/core/platform/cpu_feature_guard.cc:193] This TensorFlow binary is optimized with oneAPI Deep Neural Network Library (oneDNN) to use the following CPU instructions in performance-critical operations:  AVX2 FMA\n",
      "To enable them in other operations, rebuild TensorFlow with the appropriate compiler flags.\n"
     ]
    }
   ],
   "source": [
    "model = tf.keras.Sequential()\n",
    "\n",
    "model.add(tf.keras.Input(shape=_x_train.shape[1:]))\n",
    "for i in range(CONVOLUTION_LAYERS):\n",
    "    model.add(tf.keras.layers.Conv2D(2, (1, 3), 1, padding=\"same\"))\n",
    "    model.add(tf.keras.layers.MaxPooling2D(pool_size=(1, 3), strides=(1, 3), padding='same'))\n",
    "\n",
    "model.add(tf.keras.layers.Flatten())\n",
    "model.add(tf.keras.layers.Dense(12))\n",
    "model.add(tf.keras.layers.Dense(7))\n",
    "model.add(tf.keras.layers.Dense(3, activation=\"softmax\"))\n"
   ],
   "metadata": {
    "collapsed": false
   }
  },
  {
   "cell_type": "code",
   "execution_count": 9,
   "outputs": [],
   "source": [
    "model.build(input_shape=_x_train.shape[1:])"
   ],
   "metadata": {
    "collapsed": false
   }
  },
  {
   "cell_type": "code",
   "execution_count": 10,
   "outputs": [
    {
     "name": "stdout",
     "output_type": "stream",
     "text": [
      "Model: \"sequential\"\n",
      "_________________________________________________________________\n",
      " Layer (type)                Output Shape              Param #   \n",
      "=================================================================\n",
      " conv2d (Conv2D)             (None, 5, 243, 2)         14        \n",
      "                                                                 \n",
      " max_pooling2d (MaxPooling2D  (None, 5, 81, 2)         0         \n",
      " )                                                               \n",
      "                                                                 \n",
      " conv2d_1 (Conv2D)           (None, 5, 81, 2)          14        \n",
      "                                                                 \n",
      " max_pooling2d_1 (MaxPooling  (None, 5, 27, 2)         0         \n",
      " 2D)                                                             \n",
      "                                                                 \n",
      " conv2d_2 (Conv2D)           (None, 5, 27, 2)          14        \n",
      "                                                                 \n",
      " max_pooling2d_2 (MaxPooling  (None, 5, 9, 2)          0         \n",
      " 2D)                                                             \n",
      "                                                                 \n",
      " conv2d_3 (Conv2D)           (None, 5, 9, 2)           14        \n",
      "                                                                 \n",
      " max_pooling2d_3 (MaxPooling  (None, 5, 3, 2)          0         \n",
      " 2D)                                                             \n",
      "                                                                 \n",
      " conv2d_4 (Conv2D)           (None, 5, 3, 2)           14        \n",
      "                                                                 \n",
      " max_pooling2d_4 (MaxPooling  (None, 5, 1, 2)          0         \n",
      " 2D)                                                             \n",
      "                                                                 \n",
      " flatten (Flatten)           (None, 10)                0         \n",
      "                                                                 \n",
      " dense (Dense)               (None, 12)                132       \n",
      "                                                                 \n",
      " dense_1 (Dense)             (None, 7)                 91        \n",
      "                                                                 \n",
      " dense_2 (Dense)             (None, 3)                 24        \n",
      "                                                                 \n",
      "=================================================================\n",
      "Total params: 317\n",
      "Trainable params: 317\n",
      "Non-trainable params: 0\n",
      "_________________________________________________________________\n"
     ]
    }
   ],
   "source": [
    "model.summary()"
   ],
   "metadata": {
    "collapsed": false
   }
  },
  {
   "cell_type": "code",
   "execution_count": 11,
   "outputs": [],
   "source": [
    "# model.compile(optimizer=tf.keras.optimizers.Adam(learning_rate=1e-5),\n",
    "#               loss=f1_m,\n",
    "#               metrics=f1_m\n",
    "#               )\n",
    "model.compile(optimizer=tf.keras.optimizers.Adam(learning_rate=1e-5),\n",
    "              loss=tf.keras.losses.CategoricalCrossentropy(),\n",
    "              metrics=f1_m\n",
    "              )\n"
   ],
   "metadata": {
    "collapsed": false
   }
  },
  {
   "cell_type": "code",
   "execution_count": 12,
   "outputs": [
    {
     "name": "stdout",
     "output_type": "stream",
     "text": [
      "Epoch 1/500\n",
      "113/113 [==============================] - 4s 22ms/step - loss: 1.3203 - f1_m: 0.2006 - val_loss: 1.2398 - val_f1_m: 0.0326\n",
      "Epoch 2/500\n",
      "113/113 [==============================] - 2s 18ms/step - loss: 1.2866 - f1_m: 0.1872 - val_loss: 1.2142 - val_f1_m: 0.0214\n",
      "Epoch 3/500\n",
      "113/113 [==============================] - 2s 18ms/step - loss: 1.2569 - f1_m: 0.1677 - val_loss: 1.1914 - val_f1_m: 0.0109\n",
      "Epoch 4/500\n",
      "113/113 [==============================] - 2s 20ms/step - loss: 1.2310 - f1_m: 0.1582 - val_loss: 1.1729 - val_f1_m: 0.0113\n",
      "Epoch 5/500\n",
      "113/113 [==============================] - 2s 17ms/step - loss: 1.2085 - f1_m: 0.1448 - val_loss: 1.1574 - val_f1_m: 0.0070\n",
      "Epoch 6/500\n",
      "113/113 [==============================] - 2s 17ms/step - loss: 1.1889 - f1_m: 0.1343 - val_loss: 1.1444 - val_f1_m: 0.0053\n",
      "Epoch 7/500\n",
      "113/113 [==============================] - 2s 17ms/step - loss: 1.1722 - f1_m: 0.1238 - val_loss: 1.1340 - val_f1_m: 0.0036\n",
      "Epoch 8/500\n",
      "113/113 [==============================] - 2s 17ms/step - loss: 1.1580 - f1_m: 0.1015 - val_loss: 1.1252 - val_f1_m: 0.0000e+00\n",
      "Epoch 9/500\n",
      "113/113 [==============================] - 2s 17ms/step - loss: 1.1461 - f1_m: 0.0797 - val_loss: 1.1185 - val_f1_m: 0.0000e+00\n",
      "Epoch 10/500\n",
      "113/113 [==============================] - 2s 17ms/step - loss: 1.1362 - f1_m: 0.0620 - val_loss: 1.1133 - val_f1_m: 0.0000e+00\n",
      "Epoch 11/500\n",
      "113/113 [==============================] - 2s 16ms/step - loss: 1.1281 - f1_m: 0.0517 - val_loss: 1.1094 - val_f1_m: 0.0000e+00\n",
      "Epoch 12/500\n",
      "113/113 [==============================] - 2s 17ms/step - loss: 1.1216 - f1_m: 0.0433 - val_loss: 1.1065 - val_f1_m: 0.0000e+00\n",
      "Epoch 13/500\n",
      "113/113 [==============================] - 2s 17ms/step - loss: 1.1164 - f1_m: 0.0370 - val_loss: 1.1044 - val_f1_m: 0.0000e+00\n",
      "Epoch 14/500\n",
      "113/113 [==============================] - 2s 17ms/step - loss: 1.1123 - f1_m: 0.0316 - val_loss: 1.1030 - val_f1_m: 0.0000e+00\n",
      "Epoch 15/500\n",
      "113/113 [==============================] - 2s 16ms/step - loss: 1.1091 - f1_m: 0.0267 - val_loss: 1.1021 - val_f1_m: 0.0000e+00\n",
      "Epoch 16/500\n",
      "113/113 [==============================] - 2s 17ms/step - loss: 1.1067 - f1_m: 0.0195 - val_loss: 1.1015 - val_f1_m: 0.0000e+00\n",
      "Epoch 17/500\n",
      "113/113 [==============================] - 2s 17ms/step - loss: 1.1049 - f1_m: 0.0167 - val_loss: 1.1013 - val_f1_m: 0.0000e+00\n",
      "Epoch 18/500\n",
      "113/113 [==============================] - 2s 16ms/step - loss: 1.1035 - f1_m: 0.0142 - val_loss: 1.1012 - val_f1_m: 0.0000e+00\n",
      "Epoch 19/500\n",
      "113/113 [==============================] - 2s 16ms/step - loss: 1.1024 - f1_m: 0.0111 - val_loss: 1.1012 - val_f1_m: 0.0000e+00\n",
      "Epoch 20/500\n",
      "113/113 [==============================] - 2s 17ms/step - loss: 1.1016 - f1_m: 0.0090 - val_loss: 1.1013 - val_f1_m: 0.0000e+00\n",
      "Epoch 21/500\n",
      "113/113 [==============================] - 2s 16ms/step - loss: 1.1010 - f1_m: 0.0074 - val_loss: 1.1013 - val_f1_m: 0.0000e+00\n",
      "Epoch 22/500\n",
      "113/113 [==============================] - 2s 16ms/step - loss: 1.1005 - f1_m: 0.0080 - val_loss: 1.1014 - val_f1_m: 0.0000e+00\n",
      "Epoch 23/500\n",
      "113/113 [==============================] - 2s 16ms/step - loss: 1.1000 - f1_m: 0.0080 - val_loss: 1.1015 - val_f1_m: 0.0000e+00\n",
      "Epoch 24/500\n",
      "113/113 [==============================] - 2s 17ms/step - loss: 1.0997 - f1_m: 0.0069 - val_loss: 1.1016 - val_f1_m: 0.0000e+00\n",
      "Epoch 25/500\n",
      "113/113 [==============================] - 2s 17ms/step - loss: 1.0993 - f1_m: 0.0074 - val_loss: 1.1017 - val_f1_m: 0.0000e+00\n",
      "Epoch 26/500\n",
      "113/113 [==============================] - 2s 17ms/step - loss: 1.0991 - f1_m: 0.0047 - val_loss: 1.1017 - val_f1_m: 0.0000e+00\n",
      "Epoch 27/500\n",
      "113/113 [==============================] - 2s 16ms/step - loss: 1.0988 - f1_m: 0.0032 - val_loss: 1.1018 - val_f1_m: 0.0000e+00\n",
      "Epoch 28/500\n",
      "113/113 [==============================] - 2s 17ms/step - loss: 1.0986 - f1_m: 0.0038 - val_loss: 1.1018 - val_f1_m: 0.0000e+00\n",
      "Epoch 29/500\n",
      "113/113 [==============================] - 2s 17ms/step - loss: 1.0984 - f1_m: 0.0027 - val_loss: 1.1018 - val_f1_m: 0.0000e+00\n",
      "Epoch 30/500\n",
      "113/113 [==============================] - 2s 16ms/step - loss: 1.0982 - f1_m: 0.0027 - val_loss: 1.1018 - val_f1_m: 0.0000e+00\n",
      "Epoch 31/500\n",
      "113/113 [==============================] - 2s 18ms/step - loss: 1.0980 - f1_m: 0.0027 - val_loss: 1.1018 - val_f1_m: 0.0000e+00\n",
      "Epoch 32/500\n",
      "113/113 [==============================] - 2s 16ms/step - loss: 1.0978 - f1_m: 0.0032 - val_loss: 1.1019 - val_f1_m: 0.0000e+00\n",
      "Epoch 33/500\n",
      "113/113 [==============================] - 2s 16ms/step - loss: 1.0976 - f1_m: 0.0032 - val_loss: 1.1019 - val_f1_m: 0.0000e+00\n",
      "Epoch 34/500\n",
      "113/113 [==============================] - 2s 17ms/step - loss: 1.0975 - f1_m: 0.0032 - val_loss: 1.1019 - val_f1_m: 0.0000e+00\n",
      "Epoch 35/500\n",
      "113/113 [==============================] - 2s 16ms/step - loss: 1.0974 - f1_m: 0.0032 - val_loss: 1.1020 - val_f1_m: 0.0000e+00\n",
      "Epoch 36/500\n",
      "113/113 [==============================] - 2s 16ms/step - loss: 1.0972 - f1_m: 0.0037 - val_loss: 1.1019 - val_f1_m: 0.0000e+00\n",
      "Epoch 37/500\n",
      "113/113 [==============================] - 2s 17ms/step - loss: 1.0971 - f1_m: 0.0032 - val_loss: 1.1018 - val_f1_m: 0.0000e+00\n",
      "Epoch 38/500\n",
      "113/113 [==============================] - 2s 18ms/step - loss: 1.0970 - f1_m: 0.0037 - val_loss: 1.1019 - val_f1_m: 0.0000e+00\n",
      "Epoch 39/500\n",
      "113/113 [==============================] - 2s 16ms/step - loss: 1.0969 - f1_m: 0.0038 - val_loss: 1.1018 - val_f1_m: 0.0000e+00\n",
      "Epoch 40/500\n",
      "113/113 [==============================] - 2s 16ms/step - loss: 1.0968 - f1_m: 0.0038 - val_loss: 1.1019 - val_f1_m: 0.0000e+00\n",
      "Epoch 41/500\n",
      "113/113 [==============================] - 2s 17ms/step - loss: 1.0967 - f1_m: 0.0037 - val_loss: 1.1018 - val_f1_m: 0.0000e+00\n",
      "Epoch 42/500\n",
      "113/113 [==============================] - 2s 16ms/step - loss: 1.0966 - f1_m: 0.0038 - val_loss: 1.1019 - val_f1_m: 0.0000e+00\n",
      "Epoch 43/500\n",
      "113/113 [==============================] - 2s 17ms/step - loss: 1.0965 - f1_m: 0.0037 - val_loss: 1.1019 - val_f1_m: 0.0000e+00\n",
      "Epoch 44/500\n",
      "113/113 [==============================] - 2s 16ms/step - loss: 1.0965 - f1_m: 0.0037 - val_loss: 1.1019 - val_f1_m: 0.0000e+00\n",
      "Epoch 45/500\n",
      "113/113 [==============================] - 2s 16ms/step - loss: 1.0964 - f1_m: 0.0037 - val_loss: 1.1019 - val_f1_m: 0.0000e+00\n",
      "Epoch 46/500\n",
      "113/113 [==============================] - 2s 16ms/step - loss: 1.0963 - f1_m: 0.0038 - val_loss: 1.1020 - val_f1_m: 0.0000e+00\n",
      "Epoch 47/500\n",
      "113/113 [==============================] - 2s 16ms/step - loss: 1.0963 - f1_m: 0.0037 - val_loss: 1.1018 - val_f1_m: 0.0000e+00\n",
      "Epoch 48/500\n",
      "113/113 [==============================] - 2s 18ms/step - loss: 1.0962 - f1_m: 0.0037 - val_loss: 1.1018 - val_f1_m: 0.0000e+00\n",
      "Epoch 49/500\n",
      "113/113 [==============================] - 2s 16ms/step - loss: 1.0961 - f1_m: 0.0033 - val_loss: 1.1018 - val_f1_m: 0.0000e+00\n",
      "Epoch 50/500\n",
      "113/113 [==============================] - 2s 16ms/step - loss: 1.0960 - f1_m: 0.0027 - val_loss: 1.1018 - val_f1_m: 0.0000e+00\n",
      "Epoch 51/500\n",
      "113/113 [==============================] - 2s 16ms/step - loss: 1.0960 - f1_m: 0.0027 - val_loss: 1.1018 - val_f1_m: 0.0000e+00\n",
      "Epoch 52/500\n",
      "113/113 [==============================] - 2s 16ms/step - loss: 1.0959 - f1_m: 0.0032 - val_loss: 1.1019 - val_f1_m: 0.0000e+00\n",
      "Epoch 53/500\n",
      "113/113 [==============================] - 2s 17ms/step - loss: 1.0959 - f1_m: 0.0032 - val_loss: 1.1018 - val_f1_m: 0.0000e+00\n",
      "Epoch 54/500\n",
      "113/113 [==============================] - 2s 16ms/step - loss: 1.0958 - f1_m: 0.0032 - val_loss: 1.1019 - val_f1_m: 0.0000e+00\n",
      "Epoch 55/500\n",
      "113/113 [==============================] - 2s 16ms/step - loss: 1.0958 - f1_m: 0.0027 - val_loss: 1.1019 - val_f1_m: 0.0000e+00\n",
      "Epoch 56/500\n",
      "113/113 [==============================] - 2s 17ms/step - loss: 1.0957 - f1_m: 0.0027 - val_loss: 1.1019 - val_f1_m: 0.0000e+00\n",
      "Epoch 57/500\n",
      "113/113 [==============================] - 2s 16ms/step - loss: 1.0957 - f1_m: 0.0021 - val_loss: 1.1018 - val_f1_m: 0.0000e+00\n",
      "Epoch 58/500\n",
      "113/113 [==============================] - 2s 16ms/step - loss: 1.0956 - f1_m: 0.0021 - val_loss: 1.1019 - val_f1_m: 0.0000e+00\n",
      "Epoch 59/500\n",
      "113/113 [==============================] - 2s 16ms/step - loss: 1.0956 - f1_m: 0.0027 - val_loss: 1.1019 - val_f1_m: 0.0000e+00\n",
      "Epoch 60/500\n",
      "113/113 [==============================] - 2s 17ms/step - loss: 1.0956 - f1_m: 0.0021 - val_loss: 1.1019 - val_f1_m: 0.0000e+00\n",
      "Epoch 61/500\n",
      "113/113 [==============================] - 2s 16ms/step - loss: 1.0955 - f1_m: 0.0021 - val_loss: 1.1019 - val_f1_m: 0.0000e+00\n",
      "Epoch 62/500\n",
      "113/113 [==============================] - 2s 16ms/step - loss: 1.0955 - f1_m: 0.0021 - val_loss: 1.1019 - val_f1_m: 0.0000e+00\n",
      "Epoch 63/500\n",
      "113/113 [==============================] - 2s 17ms/step - loss: 1.0954 - f1_m: 0.0021 - val_loss: 1.1018 - val_f1_m: 0.0000e+00\n",
      "Epoch 64/500\n",
      "113/113 [==============================] - 2s 16ms/step - loss: 1.0954 - f1_m: 0.0021 - val_loss: 1.1018 - val_f1_m: 0.0000e+00\n",
      "Epoch 65/500\n",
      "113/113 [==============================] - 2s 16ms/step - loss: 1.0954 - f1_m: 0.0021 - val_loss: 1.1019 - val_f1_m: 0.0000e+00\n",
      "Epoch 66/500\n",
      "113/113 [==============================] - 2s 16ms/step - loss: 1.0953 - f1_m: 0.0021 - val_loss: 1.1018 - val_f1_m: 0.0000e+00\n",
      "Epoch 67/500\n",
      "113/113 [==============================] - 2s 16ms/step - loss: 1.0953 - f1_m: 0.0021 - val_loss: 1.1019 - val_f1_m: 0.0000e+00\n",
      "Epoch 68/500\n",
      "113/113 [==============================] - 2s 16ms/step - loss: 1.0953 - f1_m: 0.0021 - val_loss: 1.1019 - val_f1_m: 0.0000e+00\n",
      "Epoch 69/500\n",
      "113/113 [==============================] - 2s 18ms/step - loss: 1.0952 - f1_m: 0.0021 - val_loss: 1.1019 - val_f1_m: 0.0000e+00\n",
      "Epoch 70/500\n",
      "113/113 [==============================] - 2s 18ms/step - loss: 1.0952 - f1_m: 0.0021 - val_loss: 1.1019 - val_f1_m: 0.0000e+00\n",
      "Epoch 71/500\n",
      "113/113 [==============================] - 2s 18ms/step - loss: 1.0952 - f1_m: 0.0016 - val_loss: 1.1018 - val_f1_m: 0.0000e+00\n"
     ]
    }
   ],
   "source": [
    "es = tf.keras.callbacks.EarlyStopping(monitor='val_loss',\n",
    "                                      mode='min',\n",
    "                                      min_delta=1e-3,\n",
    "                                      patience=20,\n",
    "                                      start_from_epoch=50,\n",
    "                                      )\n",
    "# es = tf.keras.callbacks.EarlyStopping(monitor='val_f1_m',\n",
    "#                                       mode='max',\n",
    "#                                       min_delta=1e-3,\n",
    "#                                       patience=20,\n",
    "#                                       start_from_epoch=200,\n",
    "#                                       )\n",
    "mc = tf.keras.callbacks.ModelCheckpoint('Models/cdt_2/best_model.h5',\n",
    "                                        monitor='val_loss',\n",
    "                                        mode='min'\n",
    "                                        )\n",
    "# mc = tf.keras.callbacks.ModelCheckpoint('Models/cdt_2/best_model.h5',\n",
    "#                                         monitor='val_f1_m',\n",
    "#                                         mode='max'\n",
    "#                                         )\n",
    "\n",
    "history = model.fit(_x_train, _y_train,\n",
    "                    epochs=500,\n",
    "                    callbacks=[es, mc],\n",
    "                    validation_data=(_x_test, _y_test)\n",
    "                    )\n"
   ],
   "metadata": {
    "collapsed": false
   }
  },
  {
   "cell_type": "code",
   "execution_count": null,
   "outputs": [],
   "source": [
    "# model.save(\"Models/cdt_2\")"
   ],
   "metadata": {
    "collapsed": false
   }
  },
  {
   "cell_type": "markdown",
   "source": [
    "### Evaluating"
   ],
   "metadata": {
    "collapsed": false
   }
  },
  {
   "cell_type": "markdown",
   "source": [
    "### Valitation"
   ],
   "metadata": {
    "collapsed": false
   }
  },
  {
   "cell_type": "code",
   "execution_count": 13,
   "outputs": [
    {
     "name": "stdout",
     "output_type": "stream",
     "text": [
      "33/33 [==============================] - 0s 9ms/step - loss: 1.1096 - f1_m: 0.0000e+00\n"
     ]
    },
    {
     "data": {
      "text/plain": "[1.109598994255066, 0.0]"
     },
     "execution_count": 13,
     "metadata": {},
     "output_type": "execute_result"
    }
   ],
   "source": [
    "model.evaluate(_x_validation, _y_validation)"
   ],
   "metadata": {
    "collapsed": false
   }
  },
  {
   "cell_type": "code",
   "execution_count": 14,
   "outputs": [
    {
     "name": "stdout",
     "output_type": "stream",
     "text": [
      "33/33 [==============================] - 1s 9ms/step\n"
     ]
    }
   ],
   "source": [
    "pred_validation = model.predict(_x_validation)\n",
    "pred_validation_ind = np.argmax(pred_validation, axis=1)"
   ],
   "metadata": {
    "collapsed": false
   }
  },
  {
   "cell_type": "code",
   "execution_count": 15,
   "outputs": [
    {
     "name": "stdout",
     "output_type": "stream",
     "text": [
      "Validation correct: 311\n",
      "Validation accuracy: 0.2981783317353787\n"
     ]
    }
   ],
   "source": [
    "print(\"Validation correct:\", np.sum(pred_validation_ind == _y_validation_ind))\n",
    "print(\"Validation accuracy:\", np.sum(pred_validation_ind == _y_validation_ind)/pred_validation_ind.shape[0])"
   ],
   "metadata": {
    "collapsed": false
   }
  },
  {
   "cell_type": "code",
   "execution_count": 16,
   "outputs": [
    {
     "data": {
      "text/plain": "array([[ 93,   1, 189],\n       [143,   1, 309],\n       [ 90,   0, 217]])"
     },
     "execution_count": 16,
     "metadata": {},
     "output_type": "execute_result"
    }
   ],
   "source": [
    "confusion_matrix(_y_validation_ind, pred_validation_ind)"
   ],
   "metadata": {
    "collapsed": false
   }
  },
  {
   "cell_type": "markdown",
   "source": [
    "### Test"
   ],
   "metadata": {
    "collapsed": false
   }
  },
  {
   "cell_type": "code",
   "execution_count": 17,
   "outputs": [
    {
     "name": "stdout",
     "output_type": "stream",
     "text": [
      "33/33 [==============================] - 0s 10ms/step - loss: 1.1018 - f1_m: 0.0000e+00\n"
     ]
    },
    {
     "data": {
      "text/plain": "[1.1018249988555908, 0.0]"
     },
     "execution_count": 17,
     "metadata": {},
     "output_type": "execute_result"
    }
   ],
   "source": [
    "model.evaluate(_x_test, _y_test)"
   ],
   "metadata": {
    "collapsed": false
   }
  },
  {
   "cell_type": "code",
   "execution_count": 18,
   "outputs": [
    {
     "name": "stdout",
     "output_type": "stream",
     "text": [
      "33/33 [==============================] - 0s 9ms/step\n"
     ]
    }
   ],
   "source": [
    "pred_test = model.predict(_x_test)\n",
    "pred_test_ind = np.argmax(pred_test, axis=1)"
   ],
   "metadata": {
    "collapsed": false
   }
  },
  {
   "cell_type": "code",
   "execution_count": 19,
   "outputs": [
    {
     "name": "stdout",
     "output_type": "stream",
     "text": [
      "Test correct: 336\n",
      "Test accuracy: 0.3221476510067114\n"
     ]
    }
   ],
   "source": [
    "print(\"Test correct:\", np.sum(pred_test_ind == _y_test_ind))\n",
    "print(\"Test accuracy:\", np.sum(pred_test_ind == _y_test_ind)/pred_test_ind.shape[0])"
   ],
   "metadata": {
    "collapsed": false
   }
  },
  {
   "cell_type": "code",
   "execution_count": 20,
   "outputs": [
    {
     "data": {
      "text/plain": "array([[ 63,   5, 286],\n       [ 62,   4, 283],\n       [ 68,   3, 269]])"
     },
     "execution_count": 20,
     "metadata": {},
     "output_type": "execute_result"
    }
   ],
   "source": [
    "confusion_matrix(_y_test_ind, pred_test_ind)"
   ],
   "metadata": {
    "collapsed": false
   }
  },
  {
   "cell_type": "code",
   "execution_count": 20,
   "outputs": [],
   "source": [],
   "metadata": {
    "collapsed": false
   }
  },
  {
   "cell_type": "code",
   "execution_count": null,
   "outputs": [],
   "source": [],
   "metadata": {
    "collapsed": false
   }
  },
  {
   "cell_type": "code",
   "execution_count": null,
   "outputs": [],
   "source": [],
   "metadata": {
    "collapsed": false
   }
  },
  {
   "cell_type": "code",
   "execution_count": null,
   "outputs": [],
   "source": [],
   "metadata": {
    "collapsed": false
   }
  },
  {
   "cell_type": "markdown",
   "source": [
    "# Draft"
   ],
   "metadata": {
    "collapsed": false
   }
  },
  {
   "cell_type": "code",
   "execution_count": null,
   "outputs": [],
   "source": [
    "a = np.broadcast_to(np.arange(10).reshape((1, 1, -1, 1)), (50, 1, 10, 2))\n"
   ],
   "metadata": {
    "collapsed": false
   }
  },
  {
   "cell_type": "code",
   "execution_count": null,
   "outputs": [],
   "source": [],
   "metadata": {
    "collapsed": false
   }
  }
 ],
 "metadata": {
  "kernelspec": {
   "name": "inzynierka",
   "language": "python",
   "display_name": "inzynierka"
  },
  "language_info": {
   "codemirror_mode": {
    "name": "ipython",
    "version": 3
   },
   "file_extension": ".py",
   "mimetype": "text/x-python",
   "name": "python",
   "nbconvert_exporter": "python",
   "pygments_lexer": "ipython3",
   "version": "3.10.8"
  }
 },
 "nbformat": 4,
 "nbformat_minor": 1
}

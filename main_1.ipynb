{
 "cells": [
  {
   "cell_type": "code",
   "execution_count": 1,
   "outputs": [
    {
     "name": "stderr",
     "output_type": "stream",
     "text": [
      "2022-10-15 21:40:17.859904: I tensorflow/core/platform/cpu_feature_guard.cc:193] This TensorFlow binary is optimized with oneAPI Deep Neural Network Library (oneDNN) to use the following CPU instructions in performance-critical operations:  AVX2 FMA\n",
      "To enable them in other operations, rebuild TensorFlow with the appropriate compiler flags.\n",
      "2022-10-15 21:40:18.004340: W tensorflow/stream_executor/platform/default/dso_loader.cc:64] Could not load dynamic library 'libcudart.so.11.0'; dlerror: libcudart.so.11.0: cannot open shared object file: No such file or directory\n",
      "2022-10-15 21:40:18.004361: I tensorflow/stream_executor/cuda/cudart_stub.cc:29] Ignore above cudart dlerror if you do not have a GPU set up on your machine.\n",
      "2022-10-15 21:40:18.050349: E tensorflow/stream_executor/cuda/cuda_blas.cc:2981] Unable to register cuBLAS factory: Attempting to register factory for plugin cuBLAS when one has already been registered\n",
      "2022-10-15 21:40:19.068960: W tensorflow/stream_executor/platform/default/dso_loader.cc:64] Could not load dynamic library 'libnvinfer.so.7'; dlerror: libnvinfer.so.7: cannot open shared object file: No such file or directory\n",
      "2022-10-15 21:40:19.069127: W tensorflow/stream_executor/platform/default/dso_loader.cc:64] Could not load dynamic library 'libnvinfer_plugin.so.7'; dlerror: libnvinfer_plugin.so.7: cannot open shared object file: No such file or directory\n",
      "2022-10-15 21:40:19.069142: W tensorflow/compiler/tf2tensorrt/utils/py_utils.cc:38] TF-TRT Warning: Cannot dlopen some TensorRT libraries. If you would like to use Nvidia GPU with TensorRT, please make sure the missing libraries mentioned above are installed properly.\n"
     ]
    }
   ],
   "source": [
    "import pandas as pd\n",
    "import numpy as np\n",
    "import seaborn as sns\n",
    "import matplotlib.pyplot as plt\n",
    "import tensorflow as tf\n",
    "import tensorflow.python.keras as krs\n",
    "from keras.layers import LSTM, Dropout, Dense\n",
    "from keras.models import Sequential\n",
    "from sklearn.preprocessing import MinMaxScaler\n"
   ],
   "metadata": {
    "collapsed": false
   }
  },
  {
   "cell_type": "code",
   "execution_count": 2,
   "outputs": [
    {
     "data": {
      "text/plain": "         Data  Otwarcie  Najwyzszy  Najnizszy  Zamkniecie    Wolumen\n0  1997-02-06    1717.2     1779.8     1717.2      1779.8  4435886.0\n1  1997-02-07    1778.2     1808.7     1778.2      1799.0  5448243.0\n2  1997-02-10    1797.4     1797.4     1780.3      1783.3  6513315.0\n3  1997-02-11    1803.3     1832.2     1803.3      1832.0  5146340.0\n4  1997-02-12    1824.6     1824.6     1804.9      1810.2  5748398.0",
      "text/html": "<div>\n<style scoped>\n    .dataframe tbody tr th:only-of-type {\n        vertical-align: middle;\n    }\n\n    .dataframe tbody tr th {\n        vertical-align: top;\n    }\n\n    .dataframe thead th {\n        text-align: right;\n    }\n</style>\n<table border=\"1\" class=\"dataframe\">\n  <thead>\n    <tr style=\"text-align: right;\">\n      <th></th>\n      <th>Data</th>\n      <th>Otwarcie</th>\n      <th>Najwyzszy</th>\n      <th>Najnizszy</th>\n      <th>Zamkniecie</th>\n      <th>Wolumen</th>\n    </tr>\n  </thead>\n  <tbody>\n    <tr>\n      <th>0</th>\n      <td>1997-02-06</td>\n      <td>1717.2</td>\n      <td>1779.8</td>\n      <td>1717.2</td>\n      <td>1779.8</td>\n      <td>4435886.0</td>\n    </tr>\n    <tr>\n      <th>1</th>\n      <td>1997-02-07</td>\n      <td>1778.2</td>\n      <td>1808.7</td>\n      <td>1778.2</td>\n      <td>1799.0</td>\n      <td>5448243.0</td>\n    </tr>\n    <tr>\n      <th>2</th>\n      <td>1997-02-10</td>\n      <td>1797.4</td>\n      <td>1797.4</td>\n      <td>1780.3</td>\n      <td>1783.3</td>\n      <td>6513315.0</td>\n    </tr>\n    <tr>\n      <th>3</th>\n      <td>1997-02-11</td>\n      <td>1803.3</td>\n      <td>1832.2</td>\n      <td>1803.3</td>\n      <td>1832.0</td>\n      <td>5146340.0</td>\n    </tr>\n    <tr>\n      <th>4</th>\n      <td>1997-02-12</td>\n      <td>1824.6</td>\n      <td>1824.6</td>\n      <td>1804.9</td>\n      <td>1810.2</td>\n      <td>5748398.0</td>\n    </tr>\n  </tbody>\n</table>\n</div>"
     },
     "execution_count": 2,
     "metadata": {},
     "output_type": "execute_result"
    }
   ],
   "source": [
    "_df = pd.read_csv(\"Data/wig20_d.csv\")\n",
    "# df = pd.read_csv(\"Data/mwig40_d.csv\")\n",
    "# df = pd.read_csv(\"Data/swig80_d.csv\")\n",
    "\n",
    "_df.drop(range(1000), inplace=True)\n",
    "_df.reset_index(inplace=True, drop=True)\n",
    "_df.head()"
   ],
   "metadata": {
    "collapsed": false
   }
  },
  {
   "cell_type": "code",
   "execution_count": 3,
   "outputs": [
    {
     "data": {
      "text/plain": "         Data  Otwarcie  Najwyzszy  Najnizszy  Zamkniecie    Wolumen\n0  1997-02-06    1717.2     1779.8     1717.2      1779.8  4435886.0\n1  1997-02-07    1778.2     1808.7     1778.2      1799.0  5448243.0\n2  1997-02-10    1797.4     1797.4     1780.3      1783.3  6513315.0\n3  1997-02-11    1803.3     1832.2     1803.3      1832.0  5146340.0\n4  1997-02-12    1824.6     1824.6     1804.9      1810.2  5748398.0",
      "text/html": "<div>\n<style scoped>\n    .dataframe tbody tr th:only-of-type {\n        vertical-align: middle;\n    }\n\n    .dataframe tbody tr th {\n        vertical-align: top;\n    }\n\n    .dataframe thead th {\n        text-align: right;\n    }\n</style>\n<table border=\"1\" class=\"dataframe\">\n  <thead>\n    <tr style=\"text-align: right;\">\n      <th></th>\n      <th>Data</th>\n      <th>Otwarcie</th>\n      <th>Najwyzszy</th>\n      <th>Najnizszy</th>\n      <th>Zamkniecie</th>\n      <th>Wolumen</th>\n    </tr>\n  </thead>\n  <tbody>\n    <tr>\n      <th>0</th>\n      <td>1997-02-06</td>\n      <td>1717.2</td>\n      <td>1779.8</td>\n      <td>1717.2</td>\n      <td>1779.8</td>\n      <td>4435886.0</td>\n    </tr>\n    <tr>\n      <th>1</th>\n      <td>1997-02-07</td>\n      <td>1778.2</td>\n      <td>1808.7</td>\n      <td>1778.2</td>\n      <td>1799.0</td>\n      <td>5448243.0</td>\n    </tr>\n    <tr>\n      <th>2</th>\n      <td>1997-02-10</td>\n      <td>1797.4</td>\n      <td>1797.4</td>\n      <td>1780.3</td>\n      <td>1783.3</td>\n      <td>6513315.0</td>\n    </tr>\n    <tr>\n      <th>3</th>\n      <td>1997-02-11</td>\n      <td>1803.3</td>\n      <td>1832.2</td>\n      <td>1803.3</td>\n      <td>1832.0</td>\n      <td>5146340.0</td>\n    </tr>\n    <tr>\n      <th>4</th>\n      <td>1997-02-12</td>\n      <td>1824.6</td>\n      <td>1824.6</td>\n      <td>1804.9</td>\n      <td>1810.2</td>\n      <td>5748398.0</td>\n    </tr>\n  </tbody>\n</table>\n</div>"
     },
     "execution_count": 3,
     "metadata": {},
     "output_type": "execute_result"
    }
   ],
   "source": [
    "_df.head()"
   ],
   "metadata": {
    "collapsed": false
   }
  },
  {
   "cell_type": "code",
   "execution_count": 55,
   "outputs": [],
   "source": [
    "_data_len = len(_df.index)\n",
    "_train_set_ratio, _test_set_ratio, _validation_set_ratio = .8, .1, .1\n",
    "scaler = MinMaxScaler(feature_range=(0,1))\n",
    "\n",
    "_train_set_len = int(_data_len * _train_set_ratio)\n",
    "_test_set_len = int(_data_len * _test_set_ratio)\n",
    "_validation_set_len = int(_data_len * _validation_set_ratio)\n",
    "\n",
    "_train_set_end = _train_set_len\n",
    "_test_set_end = _train_set_end + _test_set_len\n",
    "_validation_set_end = _test_set_end + _validation_set_len\n",
    "\n",
    "\n",
    "colnames = _df.columns.to_numpy()\n",
    "\n",
    "_data = _df.to_numpy()[:, 1:]\n",
    "#_data = _df.to_numpy().transpose()[1:5, :]\n",
    "_data = scaler.fit_transform(_data)\n",
    "\n",
    "\n",
    "#train_set, test_set, validation_set = _df.iloc[:_train_set_end, :], _df.iloc[_train_set_end:_test_set_end, :], _df.iloc[_test_set_end:_validation_set_end, :]\n",
    "train_set, test_set, validation_set = _data[:_train_set_end, :], _data[_train_set_end:_test_set_end, :], _data[_test_set_end:_validation_set_end, :]\n"
   ],
   "metadata": {
    "collapsed": false
   }
  },
  {
   "cell_type": "code",
   "execution_count": 56,
   "outputs": [
    {
     "data": {
      "text/plain": "array(['Data', 'Otwarcie', 'Najwyzszy', 'Najnizszy', 'Zamkniecie',\n       'Wolumen'], dtype=object)"
     },
     "execution_count": 56,
     "metadata": {},
     "output_type": "execute_result"
    }
   ],
   "source": [
    "colnames"
   ],
   "metadata": {
    "collapsed": false
   }
  },
  {
   "cell_type": "code",
   "execution_count": 57,
   "outputs": [
    {
     "data": {
      "text/plain": "array([[0.24675461, 0.26440479, 0.25373683, 0.27438683, 0.01456679],\n       [0.26746804, 0.27424346, 0.27448753, 0.28090288, 0.01851151],\n       [0.27398767, 0.27039651, 0.27520189, 0.27557465, 0.02266164],\n       ...,\n       [0.46054432, 0.46188283, 0.46512182, 0.47124962, 0.07125091],\n       [0.46464965, 0.46812306, 0.46929237, 0.47715819, 0.06771733],\n       [0.47197745, 0.47321261, 0.47799065, 0.48053839, 0.06818327]])"
     },
     "execution_count": 57,
     "metadata": {},
     "output_type": "execute_result"
    }
   ],
   "source": [
    "train_set[:, :10]"
   ],
   "metadata": {
    "collapsed": false
   }
  },
  {
   "cell_type": "code",
   "execution_count": 58,
   "outputs": [
    {
     "data": {
      "text/plain": "array([[0.47437138, 0.4740535 , 0.47738854, 0.48183481, 0.0555979 ],\n       [0.47701319, 0.49488832, 0.48440976, 0.50396563, 0.10958826],\n       [0.50061631, 0.50333459, 0.50617078, 0.5092158 , 0.07383005],\n       ...,\n       [0.14132328, 0.15874297, 0.14135308, 0.16905419, 0.19839203],\n       [0.17372791, 0.18540269, 0.17190764, 0.17549897, 0.42401975],\n       [0.15983293, 0.15687056, 0.14607472, 0.14734081, 0.16864709]])"
     },
     "execution_count": 58,
     "metadata": {},
     "output_type": "execute_result"
    }
   ],
   "source": [
    "test_set[:, :10]"
   ],
   "metadata": {
    "collapsed": false
   }
  },
  {
   "cell_type": "code",
   "execution_count": 59,
   "outputs": [
    {
     "data": {
      "text/plain": "array([[0.15579891, 0.15996514, 0.15404503, 0.16280625, 0.14302414],\n       [0.16884158, 0.1711213 , 0.15033031, 0.15968737, 0.18191074],\n       [0.14975127, 0.16672284, 0.14954451, 0.17671734, 0.14064265],\n       ...,\n       [0.14393793, 0.14202745, 0.14544539, 0.14725936, 0.07447936],\n       [0.13913649, 0.13520506, 0.13880857, 0.13853056, 0.08368536],\n       [0.13145894, 0.13714216, 0.1324643 , 0.1393281 , 0.08479729]])"
     },
     "execution_count": 59,
     "metadata": {},
     "output_type": "execute_result"
    }
   ],
   "source": [
    "validation_set[:, :10]"
   ],
   "metadata": {
    "collapsed": false
   }
  },
  {
   "cell_type": "code",
   "execution_count": 60,
   "outputs": [
    {
     "data": {
      "text/plain": "(5143, 5)"
     },
     "execution_count": 60,
     "metadata": {},
     "output_type": "execute_result"
    }
   ],
   "source": [
    "train_set.shape"
   ],
   "metadata": {
    "collapsed": false
   }
  },
  {
   "cell_type": "code",
   "execution_count": 61,
   "outputs": [],
   "source": [
    "def batches_create(data_array: np.array):\n",
    "    _x_train = np.array([data_array[i:i+60, :].astype(\"float32\") for i in range(data_array.shape[0]-60-1)])\n",
    "    _y_train = np.array([data_array[i+60, 1:2].astype(\"float32\") for i in range(data_array.shape[0]-60-1)])\n",
    "    print(_x_train.shape)\n",
    "    print(_y_train.shape)\n",
    "    #_x_train, _y_train = np.reshape(_x_train, (_x_train.shape[0], _x_train.shape[1], 1)), _y_train\n",
    "    return _x_train, _y_train\n"
   ],
   "metadata": {
    "collapsed": false
   }
  },
  {
   "cell_type": "code",
   "execution_count": 62,
   "outputs": [
    {
     "name": "stdout",
     "output_type": "stream",
     "text": [
      "(5082, 60, 5)\n",
      "(5082, 1)\n",
      "(581, 60, 5)\n",
      "(581, 1)\n",
      "(581, 60, 5)\n",
      "(581, 1)\n"
     ]
    }
   ],
   "source": [
    "X_train, y_train = batches_create(train_set)\n",
    "X_test, y_test = batches_create(test_set)\n",
    "X_validation, y_validation = batches_create(validation_set)\n"
   ],
   "metadata": {
    "collapsed": false
   }
  },
  {
   "cell_type": "code",
   "execution_count": 63,
   "outputs": [
    {
     "name": "stdout",
     "output_type": "stream",
     "text": [
      "Epoch 1/2\n",
      "159/159 [==============================] - 17s 74ms/step - loss: 0.0094\n",
      "Epoch 2/2\n",
      "159/159 [==============================] - 13s 79ms/step - loss: 0.0030\n"
     ]
    },
    {
     "data": {
      "text/plain": "<keras.callbacks.History at 0x7f8bba5d0640>"
     },
     "execution_count": 63,
     "metadata": {},
     "output_type": "execute_result"
    }
   ],
   "source": [
    "model = Sequential()\n",
    "\n",
    "model.add(LSTM(units=50, return_sequences=True))\n",
    "model.add(Dropout(0.2))\n",
    "model.add(LSTM(units=50, return_sequences=True))\n",
    "model.add(Dropout(0.2))\n",
    "model.add(LSTM(units=50, return_sequences=True))\n",
    "model.add(Dropout(0.2))\n",
    "model.add(LSTM(units=50))\n",
    "model.add(Dropout(0.2))\n",
    "model.add(Dense(units=1))\n",
    "\n",
    "model.compile(optimizer='adam', loss='mean_squared_error')\n",
    "model.fit(X_train, y_train, epochs=2, batch_size=32)"
   ],
   "metadata": {
    "collapsed": false
   }
  },
  {
   "cell_type": "code",
   "execution_count": 64,
   "outputs": [],
   "source": [
    "model = krs.models.load_model(\"Models/model_lstm_1\")"
   ],
   "metadata": {
    "collapsed": false
   }
  },
  {
   "cell_type": "code",
   "execution_count": 65,
   "outputs": [
    {
     "data": {
      "text/plain": "(581, 60, 5)"
     },
     "execution_count": 65,
     "metadata": {},
     "output_type": "execute_result"
    }
   ],
   "source": [
    "X_test.shape"
   ],
   "metadata": {
    "collapsed": false
   }
  },
  {
   "cell_type": "code",
   "execution_count": 66,
   "outputs": [
    {
     "ename": "ValueError",
     "evalue": "in user code:\n\n\n    ValueError: Input 0 is incompatible with layer sequential: expected shape=(None, None, 1), found shape=(None, 60, 5)\n",
     "output_type": "error",
     "traceback": [
      "\u001B[0;31m---------------------------------------------------------------------------\u001B[0m",
      "\u001B[0;31mValueError\u001B[0m                                Traceback (most recent call last)",
      "Cell \u001B[0;32mIn [66], line 1\u001B[0m\n\u001B[0;32m----> 1\u001B[0m prediction_test \u001B[38;5;241m=\u001B[39m \u001B[43mmodel\u001B[49m\u001B[38;5;241;43m.\u001B[39;49m\u001B[43mpredict\u001B[49m\u001B[43m(\u001B[49m\u001B[43mnp\u001B[49m\u001B[38;5;241;43m.\u001B[39;49m\u001B[43marray\u001B[49m\u001B[43m(\u001B[49m\u001B[43mX_test\u001B[49m\u001B[43m)\u001B[49m\u001B[43m)\u001B[49m\n",
      "File \u001B[0;32m~/Environments/financial_market_predictor/lib/python3.10/site-packages/tensorflow/python/keras/engine/training.py:1741\u001B[0m, in \u001B[0;36mModel.predict\u001B[0;34m(self, x, batch_size, verbose, steps, callbacks, max_queue_size, workers, use_multiprocessing)\u001B[0m\n\u001B[1;32m   1739\u001B[0m \u001B[38;5;28;01mfor\u001B[39;00m step \u001B[38;5;129;01min\u001B[39;00m data_handler\u001B[38;5;241m.\u001B[39msteps():\n\u001B[1;32m   1740\u001B[0m   callbacks\u001B[38;5;241m.\u001B[39mon_predict_batch_begin(step)\n\u001B[0;32m-> 1741\u001B[0m   tmp_batch_outputs \u001B[38;5;241m=\u001B[39m \u001B[38;5;28;43mself\u001B[39;49m\u001B[38;5;241;43m.\u001B[39;49m\u001B[43mpredict_function\u001B[49m\u001B[43m(\u001B[49m\u001B[43miterator\u001B[49m\u001B[43m)\u001B[49m\n\u001B[1;32m   1742\u001B[0m   \u001B[38;5;28;01mif\u001B[39;00m data_handler\u001B[38;5;241m.\u001B[39mshould_sync:\n\u001B[1;32m   1743\u001B[0m     context\u001B[38;5;241m.\u001B[39masync_wait()\n",
      "File \u001B[0;32m~/Environments/financial_market_predictor/lib/python3.10/site-packages/tensorflow/python/util/traceback_utils.py:153\u001B[0m, in \u001B[0;36mfilter_traceback.<locals>.error_handler\u001B[0;34m(*args, **kwargs)\u001B[0m\n\u001B[1;32m    151\u001B[0m \u001B[38;5;28;01mexcept\u001B[39;00m \u001B[38;5;167;01mException\u001B[39;00m \u001B[38;5;28;01mas\u001B[39;00m e:\n\u001B[1;32m    152\u001B[0m   filtered_tb \u001B[38;5;241m=\u001B[39m _process_traceback_frames(e\u001B[38;5;241m.\u001B[39m__traceback__)\n\u001B[0;32m--> 153\u001B[0m   \u001B[38;5;28;01mraise\u001B[39;00m e\u001B[38;5;241m.\u001B[39mwith_traceback(filtered_tb) \u001B[38;5;28;01mfrom\u001B[39;00m \u001B[38;5;28mNone\u001B[39m\n\u001B[1;32m    154\u001B[0m \u001B[38;5;28;01mfinally\u001B[39;00m:\n\u001B[1;32m    155\u001B[0m   \u001B[38;5;28;01mdel\u001B[39;00m filtered_tb\n",
      "File \u001B[0;32m/tmp/__autograph_generated_fileig7gh647.py:15\u001B[0m, in \u001B[0;36mouter_factory.<locals>.inner_factory.<locals>.tf__predict_function\u001B[0;34m(iterator)\u001B[0m\n\u001B[1;32m     13\u001B[0m \u001B[38;5;28;01mtry\u001B[39;00m:\n\u001B[1;32m     14\u001B[0m     do_return \u001B[38;5;241m=\u001B[39m \u001B[38;5;28;01mTrue\u001B[39;00m\n\u001B[0;32m---> 15\u001B[0m     retval_ \u001B[38;5;241m=\u001B[39m ag__\u001B[38;5;241m.\u001B[39mconverted_call(ag__\u001B[38;5;241m.\u001B[39mld(step_function), (ag__\u001B[38;5;241m.\u001B[39mld(\u001B[38;5;28mself\u001B[39m), ag__\u001B[38;5;241m.\u001B[39mld(iterator)), \u001B[38;5;28;01mNone\u001B[39;00m, fscope)\n\u001B[1;32m     16\u001B[0m \u001B[38;5;28;01mexcept\u001B[39;00m:\n\u001B[1;32m     17\u001B[0m     do_return \u001B[38;5;241m=\u001B[39m \u001B[38;5;28;01mFalse\u001B[39;00m\n",
      "\u001B[0;31mValueError\u001B[0m: in user code:\n\n\n    ValueError: Input 0 is incompatible with layer sequential: expected shape=(None, None, 1), found shape=(None, 60, 5)\n"
     ]
    }
   ],
   "source": [
    "prediction_test = model.predict(np.array(X_test))"
   ],
   "metadata": {
    "collapsed": false
   }
  },
  {
   "cell_type": "code",
   "execution_count": null,
   "outputs": [],
   "source": [
    "prediction_test"
   ],
   "metadata": {
    "collapsed": false
   }
  },
  {
   "cell_type": "code",
   "execution_count": null,
   "outputs": [],
   "source": [
    "y_t = scaler.inverse_transform(prediction_test)"
   ],
   "metadata": {
    "collapsed": false
   }
  },
  {
   "cell_type": "code",
   "execution_count": null,
   "outputs": [],
   "source": [
    "#scaler.inverse_transform(prediction_test)"
   ],
   "metadata": {
    "collapsed": false
   }
  },
  {
   "cell_type": "code",
   "execution_count": null,
   "outputs": [],
   "source": [
    "y_test[0]"
   ],
   "metadata": {
    "collapsed": false
   }
  },
  {
   "cell_type": "code",
   "execution_count": null,
   "outputs": [],
   "source": [
    "np.array([X_test[0]])"
   ],
   "metadata": {
    "collapsed": false
   }
  },
  {
   "cell_type": "code",
   "execution_count": null,
   "outputs": [],
   "source": [
    "X_test.shape"
   ],
   "metadata": {
    "collapsed": false
   }
  },
  {
   "cell_type": "code",
   "execution_count": null,
   "outputs": [],
   "source": [
    "plt.plot(range(len(y_test)), scaler.inverse_transform(y_test), label=\"rzeczywiste\")\n",
    "plt.plot(range(len(y_test)), y_t, label=\"predykcja\")\n",
    "plt.legend()"
   ],
   "metadata": {
    "collapsed": false
   }
  },
  {
   "cell_type": "code",
   "execution_count": 47,
   "outputs": [],
   "source": [
    "prediction_validation = model.predict(X_validation)"
   ],
   "metadata": {
    "collapsed": false
   }
  },
  {
   "cell_type": "code",
   "execution_count": 48,
   "outputs": [
    {
     "data": {
      "text/plain": "array([[0.28062868],\n       [0.28443655],\n       [0.28594053],\n       [0.29296613],\n       [0.28038123],\n       [0.28289855],\n       [0.27113473],\n       [0.2726034 ],\n       [0.2698038 ],\n       [0.27479613],\n       [0.2849871 ],\n       [0.28991416],\n       [0.2896263 ],\n       [0.28391084],\n       [0.2806948 ],\n       [0.27698976],\n       [0.2833103 ],\n       [0.2820009 ],\n       [0.2779053 ],\n       [0.27915955],\n       [0.28214815],\n       [0.28137264],\n       [0.29773948],\n       [0.2983873 ],\n       [0.29688096],\n       [0.28792682],\n       [0.28652045],\n       [0.29152882],\n       [0.28941303],\n       [0.2914506 ],\n       [0.27480978],\n       [0.2723939 ],\n       [0.28424567],\n       [0.28893232],\n       [0.29455897],\n       [0.2907579 ],\n       [0.29102543],\n       [0.29283786],\n       [0.2983652 ],\n       [0.30158877],\n       [0.30236506],\n       [0.30197993],\n       [0.30244863],\n       [0.29661703],\n       [0.29293162],\n       [0.29067248],\n       [0.29204112],\n       [0.29759678],\n       [0.29040587],\n       [0.29737645],\n       [0.29719487],\n       [0.29488206],\n       [0.28601167],\n       [0.2767073 ],\n       [0.27775502],\n       [0.26879454],\n       [0.2706114 ],\n       [0.27469617],\n       [0.26374045],\n       [0.27341226],\n       [0.27226546],\n       [0.2772362 ],\n       [0.27118278],\n       [0.26617065],\n       [0.26192707],\n       [0.2637185 ],\n       [0.25818002],\n       [0.2474063 ],\n       [0.24858712],\n       [0.24230564],\n       [0.2385781 ],\n       [0.24356297],\n       [0.2593224 ],\n       [0.2555309 ],\n       [0.2566597 ],\n       [0.24769749],\n       [0.251657  ],\n       [0.26049998],\n       [0.2614882 ],\n       [0.2632079 ],\n       [0.25636593],\n       [0.25029224],\n       [0.24433221],\n       [0.23579293],\n       [0.23523903],\n       [0.22825798],\n       [0.23566969],\n       [0.23271845],\n       [0.23523101],\n       [0.22913592],\n       [0.23054405],\n       [0.22834961],\n       [0.22805694],\n       [0.21936591],\n       [0.20427594],\n       [0.1933424 ],\n       [0.19088633],\n       [0.20203364],\n       [0.22103377],\n       [0.23394851],\n       [0.23901944],\n       [0.25097707],\n       [0.26994413],\n       [0.27527386],\n       [0.27303892],\n       [0.27034953],\n       [0.27873424],\n       [0.2785541 ],\n       [0.2820454 ],\n       [0.2782848 ],\n       [0.29133996],\n       [0.29540396],\n       [0.30408645],\n       [0.30539793],\n       [0.30043715],\n       [0.29901135],\n       [0.29804122],\n       [0.30108833],\n       [0.3147067 ],\n       [0.3155369 ],\n       [0.33180377],\n       [0.33185524],\n       [0.34233946],\n       [0.34885126],\n       [0.3472442 ],\n       [0.33826688],\n       [0.33092022],\n       [0.3360606 ],\n       [0.34662864],\n       [0.34457886],\n       [0.32980004],\n       [0.3174638 ],\n       [0.32538942],\n       [0.3371297 ],\n       [0.35329118],\n       [0.35789084],\n       [0.35178837],\n       [0.3529446 ],\n       [0.36251882],\n       [0.37550354],\n       [0.3742569 ],\n       [0.3757855 ],\n       [0.3686266 ],\n       [0.3596546 ],\n       [0.35808775],\n       [0.34614316],\n       [0.3580004 ],\n       [0.3457712 ],\n       [0.348656  ],\n       [0.33387482],\n       [0.33642402],\n       [0.3295383 ],\n       [0.34157676],\n       [0.32468176],\n       [0.3368979 ],\n       [0.33676112],\n       [0.34120098],\n       [0.3382889 ],\n       [0.33314377],\n       [0.32949036],\n       [0.33773187],\n       [0.33483714],\n       [0.33270675],\n       [0.32486057],\n       [0.33157772],\n       [0.33142453],\n       [0.34081253],\n       [0.35040525],\n       [0.34811383],\n       [0.34647456],\n       [0.3435141 ],\n       [0.34001902],\n       [0.3270998 ],\n       [0.3328503 ],\n       [0.32142743],\n       [0.32396334],\n       [0.33021083],\n       [0.33662266],\n       [0.33032766],\n       [0.33061895],\n       [0.33317614],\n       [0.33830908],\n       [0.34800172],\n       [0.35395813],\n       [0.3499008 ],\n       [0.35401127],\n       [0.35210067],\n       [0.3437269 ],\n       [0.33203965],\n       [0.3319061 ],\n       [0.32365125],\n       [0.3261514 ],\n       [0.3201137 ],\n       [0.31731206],\n       [0.31378266],\n       [0.32232684],\n       [0.33576375],\n       [0.3346874 ],\n       [0.33270714],\n       [0.3380127 ],\n       [0.3519888 ],\n       [0.35241613],\n       [0.34594926],\n       [0.34219092],\n       [0.3432835 ],\n       [0.3441989 ],\n       [0.35275644],\n       [0.35571036],\n       [0.35575184],\n       [0.3516982 ],\n       [0.346902  ],\n       [0.34541556],\n       [0.34610274],\n       [0.34762606],\n       [0.3513891 ],\n       [0.3506113 ],\n       [0.36290795],\n       [0.36998722],\n       [0.36765757],\n       [0.35840482],\n       [0.3665584 ],\n       [0.36976066],\n       [0.3863329 ],\n       [0.38712996],\n       [0.3891353 ],\n       [0.38056248],\n       [0.38256297],\n       [0.38380584],\n       [0.3954982 ],\n       [0.39250126],\n       [0.39170268],\n       [0.39382046],\n       [0.39632085],\n       [0.39849097],\n       [0.402427  ],\n       [0.40627137],\n       [0.4191968 ],\n       [0.42913368],\n       [0.43085146],\n       [0.43107185],\n       [0.4356107 ],\n       [0.43648782],\n       [0.43275514],\n       [0.43127683],\n       [0.42437145],\n       [0.42885923],\n       [0.42691836],\n       [0.43633762],\n       [0.42974517],\n       [0.4244946 ],\n       [0.42097124],\n       [0.42077497],\n       [0.42498964],\n       [0.4250251 ],\n       [0.42947286],\n       [0.43986362],\n       [0.444551  ],\n       [0.44618785],\n       [0.43956733],\n       [0.42851898],\n       [0.4352046 ],\n       [0.43465543],\n       [0.43743515],\n       [0.42993495],\n       [0.44172013],\n       [0.43265656],\n       [0.43534312],\n       [0.43648508],\n       [0.4393638 ],\n       [0.44023758],\n       [0.43852687],\n       [0.43635353],\n       [0.4235279 ],\n       [0.4222124 ],\n       [0.43017304],\n       [0.42837414],\n       [0.43305683],\n       [0.43139645],\n       [0.4265608 ],\n       [0.43488455],\n       [0.43529293],\n       [0.4381046 ],\n       [0.4384208 ],\n       [0.43855894],\n       [0.44083494],\n       [0.44160205],\n       [0.44151303],\n       [0.44252348],\n       [0.44186777],\n       [0.44404405],\n       [0.4493591 ],\n       [0.44803163],\n       [0.44605994],\n       [0.4502641 ],\n       [0.44257107],\n       [0.4395095 ],\n       [0.43848664],\n       [0.44649482],\n       [0.44921207],\n       [0.4571826 ],\n       [0.4556583 ],\n       [0.45973447],\n       [0.46643424],\n       [0.47335085],\n       [0.47684216],\n       [0.48231936],\n       [0.4795391 ],\n       [0.4872027 ],\n       [0.48295546],\n       [0.4730817 ],\n       [0.470773  ],\n       [0.47163162],\n       [0.4723996 ],\n       [0.47241706],\n       [0.46871793],\n       [0.46970266],\n       [0.4588953 ],\n       [0.44465932],\n       [0.44764525],\n       [0.46165302],\n       [0.45897308],\n       [0.4554202 ],\n       [0.44902354],\n       [0.4443714 ],\n       [0.4491191 ],\n       [0.44972092],\n       [0.45758244],\n       [0.46288002],\n       [0.47178277],\n       [0.47026932],\n       [0.47235397],\n       [0.48664898],\n       [0.49913025],\n       [0.5083748 ],\n       [0.5062224 ],\n       [0.5069618 ],\n       [0.5057894 ],\n       [0.5060171 ],\n       [0.501495  ],\n       [0.4967728 ],\n       [0.4930018 ],\n       [0.4894756 ],\n       [0.49265683],\n       [0.49170882],\n       [0.48738933],\n       [0.48246562],\n       [0.48736495],\n       [0.488094  ],\n       [0.48209098],\n       [0.49532187],\n       [0.49868897],\n       [0.49406892],\n       [0.48558378],\n       [0.47739446],\n       [0.47116515],\n       [0.46326274],\n       [0.46430334],\n       [0.45618907],\n       [0.44289488],\n       [0.43437377],\n       [0.4307986 ],\n       [0.4368431 ],\n       [0.43202248],\n       [0.41788527],\n       [0.4023523 ],\n       [0.39466   ],\n       [0.41315606],\n       [0.41758516],\n       [0.42065945],\n       [0.41401905],\n       [0.4176143 ],\n       [0.42682993],\n       [0.4231571 ],\n       [0.42197555],\n       [0.42211223],\n       [0.42230606],\n       [0.4206092 ],\n       [0.41088685],\n       [0.41708523],\n       [0.40709397],\n       [0.4132228 ],\n       [0.4127371 ],\n       [0.42064506],\n       [0.42541087],\n       [0.4257443 ],\n       [0.43223324],\n       [0.43826827],\n       [0.4420647 ],\n       [0.448582  ],\n       [0.4505594 ],\n       [0.45453775],\n       [0.45539305],\n       [0.45242715],\n       [0.4656337 ],\n       [0.48318496],\n       [0.4864542 ],\n       [0.48133755],\n       [0.4751245 ],\n       [0.45734778],\n       [0.45777625],\n       [0.44991684],\n       [0.44142485],\n       [0.4120653 ],\n       [0.4157738 ],\n       [0.41922876],\n       [0.4257726 ],\n       [0.41838092],\n       [0.4237993 ],\n       [0.42705908],\n       [0.43384582],\n       [0.43213755],\n       [0.4158705 ],\n       [0.41033086],\n       [0.4203754 ],\n       [0.42654854],\n       [0.41939506],\n       [0.4047597 ],\n       [0.40574512],\n       [0.42048603],\n       [0.4216329 ],\n       [0.41068122],\n       [0.40188143],\n       [0.36893436],\n       [0.38238308],\n       [0.33390096],\n       [0.30401108],\n       [0.32117602],\n       [0.34497786],\n       [0.34102792],\n       [0.3661037 ],\n       [0.35471228],\n       [0.3249273 ],\n       [0.32418567],\n       [0.32683003],\n       [0.34068897],\n       [0.34327418],\n       [0.35982051],\n       [0.3429362 ],\n       [0.35436022],\n       [0.36974037],\n       [0.38831055],\n       [0.38518676],\n       [0.38412675],\n       [0.39214054],\n       [0.3934077 ],\n       [0.3972511 ],\n       [0.3893198 ],\n       [0.39399827],\n       [0.40665218],\n       [0.40938857],\n       [0.40115768],\n       [0.4072131 ],\n       [0.40576056],\n       [0.39488462],\n       [0.38869277],\n       [0.381019  ],\n       [0.37725344],\n       [0.3861567 ],\n       [0.3847402 ],\n       [0.3871294 ],\n       [0.3842651 ],\n       [0.37797156],\n       [0.37155932],\n       [0.3612657 ],\n       [0.33756256],\n       [0.3292942 ],\n       [0.3155865 ],\n       [0.31569672],\n       [0.31460685],\n       [0.30294248],\n       [0.2953852 ],\n       [0.2935191 ],\n       [0.274192  ],\n       [0.2691159 ],\n       [0.26166692],\n       [0.25889686],\n       [0.24837345],\n       [0.25141305],\n       [0.26666266],\n       [0.27456105],\n       [0.28462726],\n       [0.27816528],\n       [0.2783831 ],\n       [0.2806678 ],\n       [0.28866524],\n       [0.28949505],\n       [0.28263885],\n       [0.28919852],\n       [0.2907441 ],\n       [0.30014828],\n       [0.29832944],\n       [0.2922501 ],\n       [0.29664677],\n       [0.29217458],\n       [0.29507032],\n       [0.29233027],\n       [0.28239834],\n       [0.27152166],\n       [0.25360256],\n       [0.2472727 ],\n       [0.25052547],\n       [0.24494688],\n       [0.24498302],\n       [0.24636309],\n       [0.25021863],\n       [0.24438095],\n       [0.23796616],\n       [0.24537463],\n       [0.25534528],\n       [0.2583984 ],\n       [0.25686494],\n       [0.2475994 ],\n       [0.24675345],\n       [0.24819247],\n       [0.23413144],\n       [0.23570259],\n       [0.24828658],\n       [0.2529622 ],\n       [0.25257266],\n       [0.23972073],\n       [0.2348379 ],\n       [0.2232427 ],\n       [0.22564644],\n       [0.23537862],\n       [0.24448621],\n       [0.24873708],\n       [0.24362923],\n       [0.24854262],\n       [0.24282354],\n       [0.23631892],\n       [0.23567837],\n       [0.23920316],\n       [0.2543282 ],\n       [0.25846925],\n       [0.251987  ],\n       [0.24696955],\n       [0.24418616],\n       [0.23692705],\n       [0.24557853],\n       [0.24380793],\n       [0.25020447],\n       [0.2556637 ],\n       [0.2621287 ],\n       [0.26215178],\n       [0.24720055],\n       [0.2443749 ],\n       [0.23900917],\n       [0.22976266],\n       [0.23310104],\n       [0.22768372],\n       [0.22799231],\n       [0.2139573 ],\n       [0.20956801],\n       [0.19829923],\n       [0.19160505],\n       [0.17794757],\n       [0.1813602 ],\n       [0.18189858],\n       [0.16846962],\n       [0.17595091],\n       [0.1786636 ],\n       [0.19603783],\n       [0.20523155],\n       [0.1901668 ],\n       [0.19232656],\n       [0.18995978],\n       [0.1821562 ],\n       [0.19026844],\n       [0.18138579],\n       [0.18081404],\n       [0.18620944],\n       [0.1676833 ],\n       [0.16350102],\n       [0.16049047],\n       [0.16404718],\n       [0.14937052],\n       [0.14390847],\n       [0.14977321],\n       [0.1643156 ],\n       [0.16193385],\n       [0.15606569]], dtype=float32)"
     },
     "execution_count": 48,
     "metadata": {},
     "output_type": "execute_result"
    }
   ],
   "source": [
    "prediction_validation"
   ],
   "metadata": {
    "collapsed": false
   }
  },
  {
   "cell_type": "code",
   "execution_count": 49,
   "outputs": [],
   "source": [
    "y_v = scaler.inverse_transform(prediction_validation)"
   ],
   "metadata": {
    "collapsed": false
   }
  },
  {
   "cell_type": "code",
   "execution_count": 50,
   "outputs": [
    {
     "data": {
      "text/plain": "<matplotlib.legend.Legend at 0x7f8bb96e61a0>"
     },
     "execution_count": 50,
     "metadata": {},
     "output_type": "execute_result"
    },
    {
     "data": {
      "text/plain": "<Figure size 640x480 with 1 Axes>",
      "image/png": "[encoded data removed]"
     },
     "metadata": {},
     "output_type": "display_data"
    }
   ],
   "source": [
    "plt.plot(range(len(y_validation)), scaler.inverse_transform(y_validation), label=\"rzeczywiste\")\n",
    "plt.plot(range(len(y_validation)), y_v, label=\"predykcja\")\n",
    "plt.legend()"
   ],
   "metadata": {
    "collapsed": false
   }
  },
  {
   "cell_type": "code",
   "execution_count": 51,
   "outputs": [],
   "source": [
    "deltas_test = y_t - scaler.inverse_transform(y_test)"
   ],
   "metadata": {
    "collapsed": false
   }
  },
  {
   "cell_type": "code",
   "execution_count": 52,
   "outputs": [
    {
     "data": {
      "text/plain": "(array([ 2.,  0.,  4.,  4., 10.,  9.,  5., 15., 21., 22., 19., 38., 48.,\n        50., 54., 50., 38., 33., 39., 25., 22., 19., 20., 13.,  4.,  3.,\n         2.,  0.,  2.,  2.,  3.,  1.,  0.,  0.,  0.,  0.,  0.,  1.,  0.,\n         0.,  0.,  0.,  0.,  0.,  0.,  1.,  0.,  1.,  0.,  1.]),\n array([-50.96289062, -46.22928619, -41.49568176, -36.76208115,\n        -32.02847672, -27.29487228, -22.56126976, -17.82766533,\n        -13.09406281,  -8.36045933,  -3.62685537,   1.1067481 ,\n          5.84035158,  10.57395554,  15.30755901,  20.04116249,\n         24.77476501,  29.50836945,  34.24197388,  38.97557449,\n         43.70917892,  48.44278336,  53.17638779,  57.9099884 ,\n         62.64359283,  67.37719727,  72.1108017 ,  76.84440613,\n         81.57801056,  86.31161499,  91.04521179,  95.77881622,\n        100.51242065, 105.24602509, 109.97962952, 114.71323395,\n        119.44683838, 124.18044281, 128.91404724, 133.64764404,\n        138.3812561 , 143.11485291, 147.84844971, 152.58206177,\n        157.31565857, 162.04927063, 166.78286743, 171.51647949,\n        176.25007629, 180.98368835, 185.71728516]),\n <BarContainer object of 50 artists>)"
     },
     "execution_count": 52,
     "metadata": {},
     "output_type": "execute_result"
    },
    {
     "data": {
      "text/plain": "<Figure size 640x480 with 1 Axes>",
      "image/png": "[encoded data removed]"
     },
     "metadata": {},
     "output_type": "display_data"
    }
   ],
   "source": [
    "plt.hist(deltas_test, bins=50)"
   ],
   "metadata": {
    "collapsed": false
   }
  },
  {
   "cell_type": "code",
   "execution_count": 53,
   "outputs": [],
   "source": [
    "deltas_validation = y_v - scaler.inverse_transform(y_validation)"
   ],
   "metadata": {
    "collapsed": false
   }
  },
  {
   "cell_type": "code",
   "execution_count": 54,
   "outputs": [
    {
     "data": {
      "text/plain": "(array([ 1.,  0.,  1.,  2.,  1.,  2.,  6., 11., 10., 10.,  7., 28., 19.,\n        24., 33., 53., 47., 44., 49., 43., 30., 31., 39., 23., 16., 15.,\n         7.,  7.,  5.,  7.,  2.,  2.,  0.,  1.,  0.,  0.,  1.,  1.,  0.,\n         1.,  1.,  0.,  0.,  0.,  0.,  0.,  0.,  0.,  0.,  1.]),\n array([-69.78259277, -64.63735962, -59.49212265, -54.3468895 ,\n        -49.20165634, -44.05641937, -38.91118622, -33.76595306,\n        -28.620718  , -23.47548294, -18.33024979, -13.18501472,\n         -8.03978062,  -2.89454579,   2.25068855,   7.39592266,\n         12.54115677,  17.68639183,  22.83162689,  27.97686005,\n         33.1220932 ,  38.26733017,  43.41256332,  48.55779648,\n         53.70303345,  58.8482666 ,  63.99349976,  69.13873291,\n         74.28396606,  79.42920685,  84.57444   ,  89.71967316,\n         94.86490631, 100.01013947, 105.15537262, 110.3006134 ,\n        115.44584656, 120.59107971, 125.73631287, 130.88154602,\n        136.02677917, 141.17201233, 146.31724548, 151.46247864,\n        156.60772705, 161.75296021, 166.89819336, 172.04342651,\n        177.18865967, 182.33389282, 187.47912598]),\n <BarContainer object of 50 artists>)"
     },
     "execution_count": 54,
     "metadata": {},
     "output_type": "execute_result"
    },
    {
     "data": {
      "text/plain": "<Figure size 640x480 with 1 Axes>",
      "image/png": "[encoded data removed]"
     },
     "metadata": {},
     "output_type": "display_data"
    }
   ],
   "source": [
    "plt.hist(deltas_validation, bins=50)"
   ],
   "metadata": {
    "collapsed": false
   }
  },
  {
   "cell_type": "code",
   "execution_count": null,
   "outputs": [],
   "source": [
    "#model.save(\"Models/tmp\")"
   ],
   "metadata": {
    "collapsed": false
   }
  },
  {
   "cell_type": "code",
   "execution_count": null,
   "outputs": [],
   "source": [],
   "metadata": {
    "collapsed": false
   }
  },
  {
   "cell_type": "code",
   "execution_count": null,
   "outputs": [],
   "source": [],
   "metadata": {
    "collapsed": false
   }
  },
  {
   "cell_type": "code",
   "execution_count": null,
   "outputs": [],
   "source": [],
   "metadata": {
    "collapsed": false
   }
  },
  {
   "cell_type": "code",
   "execution_count": null,
   "outputs": [],
   "source": [],
   "metadata": {
    "collapsed": false
   }
  }
 ],
 "metadata": {
  "kernelspec": {
   "display_name": "Python 3",
   "language": "python",
   "name": "python3"
  },
  "language_info": {
   "codemirror_mode": {
    "name": "ipython",
    "version": 2
   },
   "file_extension": ".py",
   "mimetype": "text/x-python",
   "name": "python",
   "nbconvert_exporter": "python",
   "pygments_lexer": "ipython2",
   "version": "2.7.6"
  }
 },
 "nbformat": 4,
 "nbformat_minor": 0
}

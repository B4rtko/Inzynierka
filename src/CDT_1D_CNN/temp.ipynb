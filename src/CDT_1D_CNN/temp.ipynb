{
 "cells": [
  {
   "cell_type": "code",
   "execution_count": 1,
   "metadata": {
    "collapsed": true
   },
   "outputs": [
    {
     "name": "stderr",
     "output_type": "stream",
     "text": [
      "2022-11-24 12:04:17.641784: I tensorflow/core/platform/cpu_feature_guard.cc:193] This TensorFlow binary is optimized with oneAPI Deep Neural Network Library (oneDNN) to use the following CPU instructions in performance-critical operations:  AVX2 FMA\n",
      "To enable them in other operations, rebuild TensorFlow with the appropriate compiler flags.\n",
      "2022-11-24 12:04:17.793939: W tensorflow/stream_executor/platform/default/dso_loader.cc:64] Could not load dynamic library 'libcudart.so.11.0'; dlerror: libcudart.so.11.0: cannot open shared object file: No such file or directory\n",
      "2022-11-24 12:04:17.793959: I tensorflow/stream_executor/cuda/cudart_stub.cc:29] Ignore above cudart dlerror if you do not have a GPU set up on your machine.\n",
      "2022-11-24 12:04:17.830204: E tensorflow/stream_executor/cuda/cuda_blas.cc:2981] Unable to register cuBLAS factory: Attempting to register factory for plugin cuBLAS when one has already been registered\n",
      "2022-11-24 12:04:18.643981: W tensorflow/stream_executor/platform/default/dso_loader.cc:64] Could not load dynamic library 'libnvinfer.so.7'; dlerror: libnvinfer.so.7: cannot open shared object file: No such file or directory\n",
      "2022-11-24 12:04:18.644084: W tensorflow/stream_executor/platform/default/dso_loader.cc:64] Could not load dynamic library 'libnvinfer_plugin.so.7'; dlerror: libnvinfer_plugin.so.7: cannot open shared object file: No such file or directory\n",
      "2022-11-24 12:04:18.644095: W tensorflow/compiler/tf2tensorrt/utils/py_utils.cc:38] TF-TRT Warning: Cannot dlopen some TensorRT libraries. If you would like to use Nvidia GPU with TensorRT, please make sure the missing libraries mentioned above are installed properly.\n"
     ]
    }
   ],
   "source": [
    "import keras\n",
    "import pandas as pd\n",
    "import numpy as np\n",
    "import seaborn as sns\n",
    "import matplotlib.pyplot as plt\n",
    "import tensorflow as tf\n",
    "import tensorflow.python.keras as krs\n",
    "from keras.layers import LSTM, Dropout, Dense, Layer, Conv1D\n",
    "from keras.models import Sequential\n",
    "from sklearn.preprocessing import MinMaxScaler\n",
    "from typing import Union\n",
    "import itertools\n",
    "\n",
    "from src import *\n"
   ]
  },
  {
   "cell_type": "code",
   "execution_count": 2,
   "outputs": [
    {
     "name": "stderr",
     "output_type": "stream",
     "text": [
      "2022-11-24 12:04:20.128860: W tensorflow/stream_executor/platform/default/dso_loader.cc:64] Could not load dynamic library 'libcuda.so.1'; dlerror: libcuda.so.1: cannot open shared object file: No such file or directory\n",
      "2022-11-24 12:04:20.128884: W tensorflow/stream_executor/cuda/cuda_driver.cc:263] failed call to cuInit: UNKNOWN ERROR (303)\n",
      "2022-11-24 12:04:20.128904: I tensorflow/stream_executor/cuda/cuda_diagnostics.cc:156] kernel driver does not appear to be running on this host (banjaro): /proc/driver/nvidia/version does not exist\n",
      "2022-11-24 12:04:20.129151: I tensorflow/core/platform/cpu_feature_guard.cc:193] This TensorFlow binary is optimized with oneAPI Deep Neural Network Library (oneDNN) to use the following CPU instructions in performance-critical operations:  AVX2 FMA\n",
      "To enable them in other operations, rebuild TensorFlow with the appropriate compiler flags.\n"
     ]
    }
   ],
   "source": [
    "res = Cdt1dLayer()(np.array(range(200)).reshape((1, 10, 20)).astype(\"float\"))"
   ],
   "metadata": {
    "collapsed": false
   }
  },
  {
   "cell_type": "code",
   "execution_count": 3,
   "outputs": [
    {
     "data": {
      "text/plain": "(2, 10, 20)"
     },
     "execution_count": 3,
     "metadata": {},
     "output_type": "execute_result"
    }
   ],
   "source": [
    "res.shape"
   ],
   "metadata": {
    "collapsed": false
   }
  },
  {
   "cell_type": "code",
   "execution_count": 4,
   "outputs": [
    {
     "data": {
      "text/plain": "array([[  1.,   3.,   6.,   9.,  12.,  15.,  18.,  21.,  24.,  27.,  30.,\n         33.,  36.,  39.,  42.,  45.,  48.,  51.,  54.,  37.],\n       [ 41.,  63.,  66.,  69.,  72.,  75.,  78.,  81.,  84.,  87.,  90.,\n         93.,  96.,  99., 102., 105., 108., 111., 114.,  77.],\n       [ 81., 123., 126., 129., 132., 135., 138., 141., 144., 147., 150.,\n        153., 156., 159., 162., 165., 168., 171., 174., 117.],\n       [121., 183., 186., 189., 192., 195., 198., 201., 204., 207., 210.,\n        213., 216., 219., 222., 225., 228., 231., 234., 157.],\n       [161., 243., 246., 249., 252., 255., 258., 261., 264., 267., 270.,\n        273., 276., 279., 282., 285., 288., 291., 294., 197.],\n       [201., 303., 306., 309., 312., 315., 318., 321., 324., 327., 330.,\n        333., 336., 339., 342., 345., 348., 351., 354., 237.],\n       [241., 363., 366., 369., 372., 375., 378., 381., 384., 387., 390.,\n        393., 396., 399., 402., 405., 408., 411., 414., 277.],\n       [281., 423., 426., 429., 432., 435., 438., 441., 444., 447., 450.,\n        453., 456., 459., 462., 465., 468., 471., 474., 317.],\n       [321., 483., 486., 489., 492., 495., 498., 501., 504., 507., 510.,\n        513., 516., 519., 522., 525., 528., 531., 534., 357.],\n       [361., 543., 546., 549., 552., 555., 558., 561., 564., 567., 570.,\n        573., 576., 579., 582., 585., 588., 591., 594., 397.]])"
     },
     "execution_count": 4,
     "metadata": {},
     "output_type": "execute_result"
    }
   ],
   "source": [
    "res[0, :, :]"
   ],
   "metadata": {
    "collapsed": false
   }
  },
  {
   "cell_type": "code",
   "execution_count": 9,
   "outputs": [
    {
     "data": {
      "text/plain": "array([[  0.5,   1.5,   3. ,   4.5,   6. ,   7.5,   9. ,  10.5,  12. ,\n         13.5,  15. ,  16.5,  18. ,  19.5,  21. ,  22.5,  24. ,  25.5,\n         27. ,  18.5],\n       [ 20.5,  31.5,  33. ,  34.5,  36. ,  37.5,  39. ,  40.5,  42. ,\n         43.5,  45. ,  46.5,  48. ,  49.5,  51. ,  52.5,  54. ,  55.5,\n         57. ,  38.5],\n       [ 40.5,  61.5,  63. ,  64.5,  66. ,  67.5,  69. ,  70.5,  72. ,\n         73.5,  75. ,  76.5,  78. ,  79.5,  81. ,  82.5,  84. ,  85.5,\n         87. ,  58.5],\n       [ 60.5,  91.5,  93. ,  94.5,  96. ,  97.5,  99. , 100.5, 102. ,\n        103.5, 105. , 106.5, 108. , 109.5, 111. , 112.5, 114. , 115.5,\n        117. ,  78.5],\n       [ 80.5, 121.5, 123. , 124.5, 126. , 127.5, 129. , 130.5, 132. ,\n        133.5, 135. , 136.5, 138. , 139.5, 141. , 142.5, 144. , 145.5,\n        147. ,  98.5],\n       [100.5, 151.5, 153. , 154.5, 156. , 157.5, 159. , 160.5, 162. ,\n        163.5, 165. , 166.5, 168. , 169.5, 171. , 172.5, 174. , 175.5,\n        177. , 118.5],\n       [120.5, 181.5, 183. , 184.5, 186. , 187.5, 189. , 190.5, 192. ,\n        193.5, 195. , 196.5, 198. , 199.5, 201. , 202.5, 204. , 205.5,\n        207. , 138.5],\n       [140.5, 211.5, 213. , 214.5, 216. , 217.5, 219. , 220.5, 222. ,\n        223.5, 225. , 226.5, 228. , 229.5, 231. , 232.5, 234. , 235.5,\n        237. , 158.5],\n       [160.5, 241.5, 243. , 244.5, 246. , 247.5, 249. , 250.5, 252. ,\n        253.5, 255. , 256.5, 258. , 259.5, 261. , 262.5, 264. , 265.5,\n        267. , 178.5],\n       [180.5, 271.5, 273. , 274.5, 276. , 277.5, 279. , 280.5, 282. ,\n        283.5, 285. , 286.5, 288. , 289.5, 291. , 292.5, 294. , 295.5,\n        297. , 198.5]])"
     },
     "execution_count": 9,
     "metadata": {},
     "output_type": "execute_result"
    }
   ],
   "source": [
    "res[1, :, :]"
   ],
   "metadata": {
    "collapsed": false
   }
  },
  {
   "cell_type": "code",
   "execution_count": 10,
   "outputs": [],
   "source": [
    "res_2 = Cdt1dLayer()(res)"
   ],
   "metadata": {
    "collapsed": false
   }
  },
  {
   "cell_type": "code",
   "execution_count": 12,
   "outputs": [
    {
     "data": {
      "text/plain": "(4, 10, 20)"
     },
     "execution_count": 12,
     "metadata": {},
     "output_type": "execute_result"
    }
   ],
   "source": [
    "res_2.shape"
   ],
   "metadata": {
    "collapsed": false
   }
  },
  {
   "cell_type": "code",
   "execution_count": 15,
   "outputs": [
    {
     "data": {
      "text/plain": "array([[  1.  ,   2.5 ,   4.5 ,   6.75,   9.  ,  11.25,  13.5 ,  15.75,\n         18.  ,  20.25,  22.5 ,  24.75,  27.  ,  29.25,  31.5 ,  33.75,\n         36.  ,  38.25,  35.5 ,  22.75],\n       [ 26.  ,  42.5 ,  49.5 ,  51.75,  54.  ,  56.25,  58.5 ,  60.75,\n         63.  ,  65.25,  67.5 ,  69.75,  72.  ,  74.25,  76.5 ,  78.75,\n         81.  ,  83.25,  75.5 ,  47.75],\n       [ 51.  ,  82.5 ,  94.5 ,  96.75,  99.  , 101.25, 103.5 , 105.75,\n        108.  , 110.25, 112.5 , 114.75, 117.  , 119.25, 121.5 , 123.75,\n        126.  , 128.25, 115.5 ,  72.75],\n       [ 76.  , 122.5 , 139.5 , 141.75, 144.  , 146.25, 148.5 , 150.75,\n        153.  , 155.25, 157.5 , 159.75, 162.  , 164.25, 166.5 , 168.75,\n        171.  , 173.25, 155.5 ,  97.75],\n       [101.  , 162.5 , 184.5 , 186.75, 189.  , 191.25, 193.5 , 195.75,\n        198.  , 200.25, 202.5 , 204.75, 207.  , 209.25, 211.5 , 213.75,\n        216.  , 218.25, 195.5 , 122.75],\n       [126.  , 202.5 , 229.5 , 231.75, 234.  , 236.25, 238.5 , 240.75,\n        243.  , 245.25, 247.5 , 249.75, 252.  , 254.25, 256.5 , 258.75,\n        261.  , 263.25, 235.5 , 147.75],\n       [151.  , 242.5 , 274.5 , 276.75, 279.  , 281.25, 283.5 , 285.75,\n        288.  , 290.25, 292.5 , 294.75, 297.  , 299.25, 301.5 , 303.75,\n        306.  , 308.25, 275.5 , 172.75],\n       [176.  , 282.5 , 319.5 , 321.75, 324.  , 326.25, 328.5 , 330.75,\n        333.  , 335.25, 337.5 , 339.75, 342.  , 344.25, 346.5 , 348.75,\n        351.  , 353.25, 315.5 , 197.75],\n       [201.  , 322.5 , 364.5 , 366.75, 369.  , 371.25, 373.5 , 375.75,\n        378.  , 380.25, 382.5 , 384.75, 387.  , 389.25, 391.5 , 393.75,\n        396.  , 398.25, 355.5 , 222.75],\n       [226.  , 362.5 , 409.5 , 411.75, 414.  , 416.25, 418.5 , 420.75,\n        423.  , 425.25, 427.5 , 429.75, 432.  , 434.25, 436.5 , 438.75,\n        441.  , 443.25, 395.5 , 247.75]])"
     },
     "execution_count": 15,
     "metadata": {},
     "output_type": "execute_result"
    }
   ],
   "source": [
    "res_2[3, :, :]"
   ],
   "metadata": {
    "collapsed": false
   }
  },
  {
   "cell_type": "code",
   "execution_count": null,
   "outputs": [],
   "source": [],
   "metadata": {
    "collapsed": false
   }
  },
  {
   "cell_type": "code",
   "execution_count": 13,
   "outputs": [
    {
     "ename": "ValueError",
     "evalue": "Exception encountered when calling layer \"module_wrapper_28\" \"                 f\"(type ModuleWrapper).\n\nin user code:\n\n    File \"/home/bartko/Repozytoria/inzynierka/src/CDT_1D_CNN/cdt_1d_layer.py\", line 57, in call  *\n        inputs_flat = inputs_flat_with_pad(inputs)\n    File \"/home/bartko/Repozytoria/inzynierka/src/CDT_1D_CNN/cdt_1d_layer.py\", line 87, in inputs_flat_with_pad  *\n        dim_batches, dim_y, dim_x = inputs.shape\n\n    ValueError: not enough values to unpack (expected 3, got 2)\n\n\nCall arguments received by layer \"module_wrapper_28\" \"                 f\"(type ModuleWrapper):\n  • args=('tf.Tensor(shape=(10, 20), dtype=float32)',)\n  • kwargs={'training': 'None'}",
     "output_type": "error",
     "traceback": [
      "\u001B[0;31m---------------------------------------------------------------------------\u001B[0m",
      "\u001B[0;31mValueError\u001B[0m                                Traceback (most recent call last)",
      "Cell \u001B[0;32mIn [13], line 17\u001B[0m\n\u001B[1;32m     14\u001B[0m model\u001B[38;5;241m.\u001B[39madd(tf\u001B[38;5;241m.\u001B[39mkeras\u001B[38;5;241m.\u001B[39mlayers\u001B[38;5;241m.\u001B[39mDense(\u001B[38;5;241m7\u001B[39m))\n\u001B[1;32m     15\u001B[0m model\u001B[38;5;241m.\u001B[39madd(tf\u001B[38;5;241m.\u001B[39mkeras\u001B[38;5;241m.\u001B[39mlayers\u001B[38;5;241m.\u001B[39mDense(\u001B[38;5;241m3\u001B[39m, activation\u001B[38;5;241m=\u001B[39m\u001B[38;5;124m\"\u001B[39m\u001B[38;5;124msoftmax\u001B[39m\u001B[38;5;124m\"\u001B[39m))\n\u001B[0;32m---> 17\u001B[0m \u001B[43mmodel\u001B[49m\u001B[38;5;241;43m.\u001B[39;49m\u001B[43mbuild\u001B[49m\u001B[43m(\u001B[49m\u001B[43minput_shape\u001B[49m\u001B[43m)\u001B[49m\n",
      "File \u001B[0;32m~/Environments/financial_market_predictor/lib/python3.10/site-packages/keras/engine/sequential.py:381\u001B[0m, in \u001B[0;36mSequential.build\u001B[0;34m(self, input_shape)\u001B[0m\n\u001B[1;32m    379\u001B[0m         input_shape \u001B[38;5;241m=\u001B[39m \u001B[38;5;28mtuple\u001B[39m(input_shape)\n\u001B[1;32m    380\u001B[0m         \u001B[38;5;28mself\u001B[39m\u001B[38;5;241m.\u001B[39m_build_input_shape \u001B[38;5;241m=\u001B[39m input_shape\n\u001B[0;32m--> 381\u001B[0m         \u001B[38;5;28;43msuper\u001B[39;49m\u001B[43m(\u001B[49m\u001B[43m)\u001B[49m\u001B[38;5;241;43m.\u001B[39;49m\u001B[43mbuild\u001B[49m\u001B[43m(\u001B[49m\u001B[43minput_shape\u001B[49m\u001B[43m)\u001B[49m\n\u001B[1;32m    382\u001B[0m \u001B[38;5;28mself\u001B[39m\u001B[38;5;241m.\u001B[39mbuilt \u001B[38;5;241m=\u001B[39m \u001B[38;5;28;01mTrue\u001B[39;00m\n",
      "File \u001B[0;32m~/Environments/financial_market_predictor/lib/python3.10/site-packages/keras/engine/training.py:509\u001B[0m, in \u001B[0;36mModel.build\u001B[0;34m(self, input_shape)\u001B[0m\n\u001B[1;32m    504\u001B[0m     \u001B[38;5;28;01mraise\u001B[39;00m \u001B[38;5;167;01mValueError\u001B[39;00m(\n\u001B[1;32m    505\u001B[0m         \u001B[38;5;124m\"\u001B[39m\u001B[38;5;124mYou can only call `build()` on a model if its \u001B[39m\u001B[38;5;124m\"\u001B[39m\n\u001B[1;32m    506\u001B[0m         \u001B[38;5;124m\"\u001B[39m\u001B[38;5;124m`call()` method accepts an `inputs` argument.\u001B[39m\u001B[38;5;124m\"\u001B[39m\n\u001B[1;32m    507\u001B[0m     )\n\u001B[1;32m    508\u001B[0m \u001B[38;5;28;01mtry\u001B[39;00m:\n\u001B[0;32m--> 509\u001B[0m     \u001B[38;5;28;43mself\u001B[39;49m\u001B[38;5;241;43m.\u001B[39;49m\u001B[43mcall\u001B[49m\u001B[43m(\u001B[49m\u001B[43mx\u001B[49m\u001B[43m,\u001B[49m\u001B[43m \u001B[49m\u001B[38;5;241;43m*\u001B[39;49m\u001B[38;5;241;43m*\u001B[39;49m\u001B[43mkwargs\u001B[49m\u001B[43m)\u001B[49m\n\u001B[1;32m    510\u001B[0m \u001B[38;5;28;01mexcept\u001B[39;00m (tf\u001B[38;5;241m.\u001B[39merrors\u001B[38;5;241m.\u001B[39mInvalidArgumentError, \u001B[38;5;167;01mTypeError\u001B[39;00m) \u001B[38;5;28;01mas\u001B[39;00m e:\n\u001B[1;32m    511\u001B[0m     \u001B[38;5;28;01mraise\u001B[39;00m \u001B[38;5;167;01mValueError\u001B[39;00m(\n\u001B[1;32m    512\u001B[0m         \u001B[38;5;124m\"\u001B[39m\u001B[38;5;124mYou cannot build your model by calling `build` \u001B[39m\u001B[38;5;124m\"\u001B[39m\n\u001B[1;32m    513\u001B[0m         \u001B[38;5;124m\"\u001B[39m\u001B[38;5;124mif your layers do not support float type inputs. \u001B[39m\u001B[38;5;124m\"\u001B[39m\n\u001B[0;32m   (...)\u001B[0m\n\u001B[1;32m    517\u001B[0m         \u001B[38;5;124mf\u001B[39m\u001B[38;5;124m\"\u001B[39m\u001B[38;5;124m`call` is: \u001B[39m\u001B[38;5;132;01m{\u001B[39;00me\u001B[38;5;132;01m}\u001B[39;00m\u001B[38;5;124m.\u001B[39m\u001B[38;5;124m\"\u001B[39m\n\u001B[1;32m    518\u001B[0m     )\n",
      "File \u001B[0;32m~/Environments/financial_market_predictor/lib/python3.10/site-packages/keras/engine/sequential.py:425\u001B[0m, in \u001B[0;36mSequential.call\u001B[0;34m(self, inputs, training, mask)\u001B[0m\n\u001B[1;32m    422\u001B[0m \u001B[38;5;28;01mif\u001B[39;00m \u001B[38;5;124m\"\u001B[39m\u001B[38;5;124mtraining\u001B[39m\u001B[38;5;124m\"\u001B[39m \u001B[38;5;129;01min\u001B[39;00m argspec:\n\u001B[1;32m    423\u001B[0m     kwargs[\u001B[38;5;124m\"\u001B[39m\u001B[38;5;124mtraining\u001B[39m\u001B[38;5;124m\"\u001B[39m] \u001B[38;5;241m=\u001B[39m training\n\u001B[0;32m--> 425\u001B[0m outputs \u001B[38;5;241m=\u001B[39m \u001B[43mlayer\u001B[49m\u001B[43m(\u001B[49m\u001B[43minputs\u001B[49m\u001B[43m,\u001B[49m\u001B[43m \u001B[49m\u001B[38;5;241;43m*\u001B[39;49m\u001B[38;5;241;43m*\u001B[39;49m\u001B[43mkwargs\u001B[49m\u001B[43m)\u001B[49m\n\u001B[1;32m    427\u001B[0m \u001B[38;5;28;01mif\u001B[39;00m \u001B[38;5;28mlen\u001B[39m(tf\u001B[38;5;241m.\u001B[39mnest\u001B[38;5;241m.\u001B[39mflatten(outputs)) \u001B[38;5;241m!=\u001B[39m \u001B[38;5;241m1\u001B[39m:\n\u001B[1;32m    428\u001B[0m     \u001B[38;5;28;01mraise\u001B[39;00m \u001B[38;5;167;01mValueError\u001B[39;00m(SINGLE_LAYER_OUTPUT_ERROR_MSG)\n",
      "File \u001B[0;32m~/Environments/financial_market_predictor/lib/python3.10/site-packages/keras/utils/traceback_utils.py:70\u001B[0m, in \u001B[0;36mfilter_traceback.<locals>.error_handler\u001B[0;34m(*args, **kwargs)\u001B[0m\n\u001B[1;32m     67\u001B[0m     filtered_tb \u001B[38;5;241m=\u001B[39m _process_traceback_frames(e\u001B[38;5;241m.\u001B[39m__traceback__)\n\u001B[1;32m     68\u001B[0m     \u001B[38;5;66;03m# To get the full stack trace, call:\u001B[39;00m\n\u001B[1;32m     69\u001B[0m     \u001B[38;5;66;03m# `tf.debugging.disable_traceback_filtering()`\u001B[39;00m\n\u001B[0;32m---> 70\u001B[0m     \u001B[38;5;28;01mraise\u001B[39;00m e\u001B[38;5;241m.\u001B[39mwith_traceback(filtered_tb) \u001B[38;5;28;01mfrom\u001B[39;00m \u001B[38;5;28mNone\u001B[39m\n\u001B[1;32m     71\u001B[0m \u001B[38;5;28;01mfinally\u001B[39;00m:\n\u001B[1;32m     72\u001B[0m     \u001B[38;5;28;01mdel\u001B[39;00m filtered_tb\n",
      "File \u001B[0;32m/tmp/__autograph_generated_fileob0p_4a4.py:15\u001B[0m, in \u001B[0;36mouter_factory.<locals>.inner_factory.<locals>.tf__call\u001B[0;34m(self, inputs)\u001B[0m\n\u001B[1;32m     13\u001B[0m do_return \u001B[38;5;241m=\u001B[39m \u001B[38;5;28;01mFalse\u001B[39;00m\n\u001B[1;32m     14\u001B[0m retval_ \u001B[38;5;241m=\u001B[39m ag__\u001B[38;5;241m.\u001B[39mUndefinedReturnValue()\n\u001B[0;32m---> 15\u001B[0m inputs_flat \u001B[38;5;241m=\u001B[39m \u001B[43mag__\u001B[49m\u001B[38;5;241;43m.\u001B[39;49m\u001B[43mconverted_call\u001B[49m\u001B[43m(\u001B[49m\u001B[43mag__\u001B[49m\u001B[38;5;241;43m.\u001B[39;49m\u001B[43mld\u001B[49m\u001B[43m(\u001B[49m\u001B[43minputs_flat_with_pad\u001B[49m\u001B[43m)\u001B[49m\u001B[43m,\u001B[49m\u001B[43m \u001B[49m\u001B[43m(\u001B[49m\u001B[43mag__\u001B[49m\u001B[38;5;241;43m.\u001B[39;49m\u001B[43mld\u001B[49m\u001B[43m(\u001B[49m\u001B[43minputs\u001B[49m\u001B[43m)\u001B[49m\u001B[43m,\u001B[49m\u001B[43m)\u001B[49m\u001B[43m,\u001B[49m\u001B[43m \u001B[49m\u001B[38;5;28;43;01mNone\u001B[39;49;00m\u001B[43m,\u001B[49m\u001B[43m \u001B[49m\u001B[43mfscope\u001B[49m\u001B[43m)\u001B[49m\n\u001B[1;32m     16\u001B[0m filt \u001B[38;5;241m=\u001B[39m ag__\u001B[38;5;241m.\u001B[39mconverted_call(ag__\u001B[38;5;241m.\u001B[39mld(filter_combine), ([\u001B[38;5;241m1\u001B[39m, \u001B[38;5;241m1\u001B[39m, \u001B[38;5;241m1\u001B[39m], [\u001B[38;5;241m0.5\u001B[39m, \u001B[38;5;241m0.5\u001B[39m, \u001B[38;5;241m0.5\u001B[39m]), \u001B[38;5;28mdict\u001B[39m(in_channels\u001B[38;5;241m=\u001B[39mag__\u001B[38;5;241m.\u001B[39mld(inputs_flat)\u001B[38;5;241m.\u001B[39mshape[\u001B[38;5;241m2\u001B[39m]), fscope)\n\u001B[1;32m     17\u001B[0m res \u001B[38;5;241m=\u001B[39m ag__\u001B[38;5;241m.\u001B[39mconverted_call(ag__\u001B[38;5;241m.\u001B[39mconverted_call(ag__\u001B[38;5;241m.\u001B[39mld(tf)\u001B[38;5;241m.\u001B[39mnn\u001B[38;5;241m.\u001B[39mconvolution, (), \u001B[38;5;28mdict\u001B[39m(\u001B[38;5;28minput\u001B[39m\u001B[38;5;241m=\u001B[39mag__\u001B[38;5;241m.\u001B[39mld(inputs_flat), filters\u001B[38;5;241m=\u001B[39mag__\u001B[38;5;241m.\u001B[39mld(filt), padding\u001B[38;5;241m=\u001B[39m\u001B[38;5;124m'\u001B[39m\u001B[38;5;124mSAME\u001B[39m\u001B[38;5;124m'\u001B[39m), fscope)\u001B[38;5;241m.\u001B[39mnumpy, (), \u001B[38;5;28;01mNone\u001B[39;00m, fscope)\n",
      "File \u001B[0;32m/tmp/__autograph_generated_fileb61ceriq.py:15\u001B[0m, in \u001B[0;36mouter_factory.<locals>.inner_factory.<locals>.tf__inputs_flat_with_pad\u001B[0;34m(inputs)\u001B[0m\n\u001B[1;32m     13\u001B[0m do_return \u001B[38;5;241m=\u001B[39m \u001B[38;5;28;01mFalse\u001B[39;00m\n\u001B[1;32m     14\u001B[0m retval_ \u001B[38;5;241m=\u001B[39m ag__\u001B[38;5;241m.\u001B[39mUndefinedReturnValue()\n\u001B[0;32m---> 15\u001B[0m (dim_batches, dim_y, dim_x) \u001B[38;5;241m=\u001B[39m ag__\u001B[38;5;241m.\u001B[39mld(inputs)\u001B[38;5;241m.\u001B[39mshape\n\u001B[1;32m     16\u001B[0m res \u001B[38;5;241m=\u001B[39m ag__\u001B[38;5;241m.\u001B[39mconverted_call(ag__\u001B[38;5;241m.\u001B[39mld(np)\u001B[38;5;241m.\u001B[39mzeros, ((ag__\u001B[38;5;241m.\u001B[39mld(dim_batches), ag__\u001B[38;5;241m.\u001B[39mld(dim_y), ag__\u001B[38;5;241m.\u001B[39mld(dim_x) \u001B[38;5;241m+\u001B[39m \u001B[38;5;241m1\u001B[39m),), \u001B[38;5;28;01mNone\u001B[39;00m, fscope)\n\u001B[1;32m     17\u001B[0m ag__\u001B[38;5;241m.\u001B[39mld(res)[:, :, :\u001B[38;5;241m-\u001B[39m\u001B[38;5;241m1\u001B[39m] \u001B[38;5;241m=\u001B[39m ag__\u001B[38;5;241m.\u001B[39mld(inputs)\n",
      "\u001B[0;31mValueError\u001B[0m: Exception encountered when calling layer \"module_wrapper_28\" \"                 f\"(type ModuleWrapper).\n\nin user code:\n\n    File \"/home/bartko/Repozytoria/inzynierka/src/CDT_1D_CNN/cdt_1d_layer.py\", line 57, in call  *\n        inputs_flat = inputs_flat_with_pad(inputs)\n    File \"/home/bartko/Repozytoria/inzynierka/src/CDT_1D_CNN/cdt_1d_layer.py\", line 87, in inputs_flat_with_pad  *\n        dim_batches, dim_y, dim_x = inputs.shape\n\n    ValueError: not enough values to unpack (expected 3, got 2)\n\n\nCall arguments received by layer \"module_wrapper_28\" \"                 f\"(type ModuleWrapper):\n  • args=('tf.Tensor(shape=(10, 20), dtype=float32)',)\n  • kwargs={'training': 'None'}"
     ]
    }
   ],
   "source": [
    "input_shape = (10,20,)\n",
    "\n",
    "model = keras.Sequential()\n",
    "#model.add(tf.keras.Input(shape=(10, None,)))\n",
    "\n",
    "model.add(Cdt1dLayer(input_shape=input_shape))\n",
    "model.add(tf.keras.layers.MaxPooling1D(pool_size=3, strides=3, padding='same'))\n",
    "\n",
    "for i in range(6):\n",
    "    model.add(Cdt1dLayer())\n",
    "    model.add(tf.keras.layers.MaxPooling1D(pool_size=3, strides=3, padding='same'))\n",
    "\n",
    "model.add(tf.keras.layers.Dense(12))\n",
    "model.add(tf.keras.layers.Dense(7))\n",
    "model.add(tf.keras.layers.Dense(3, activation=\"softmax\"))\n",
    "\n",
    "model.build(input_shape)"
   ],
   "metadata": {
    "collapsed": false
   }
  },
  {
   "cell_type": "code",
   "execution_count": 12,
   "outputs": [
    {
     "ename": "ValueError",
     "evalue": "This model has not yet been built. Build the model first by calling `build()` or by calling the model on a batch of data.",
     "output_type": "error",
     "traceback": [
      "\u001B[0;31m---------------------------------------------------------------------------\u001B[0m",
      "\u001B[0;31mValueError\u001B[0m                                Traceback (most recent call last)",
      "Cell \u001B[0;32mIn [12], line 1\u001B[0m\n\u001B[0;32m----> 1\u001B[0m \u001B[43mmodel\u001B[49m\u001B[38;5;241;43m.\u001B[39;49m\u001B[43msummary\u001B[49m\u001B[43m(\u001B[49m\u001B[43m)\u001B[49m\n",
      "File \u001B[0;32m~/Environments/financial_market_predictor/lib/python3.10/site-packages/keras/engine/training.py:3214\u001B[0m, in \u001B[0;36mModel.summary\u001B[0;34m(self, line_length, positions, print_fn, expand_nested, show_trainable, layer_range)\u001B[0m\n\u001B[1;32m   3184\u001B[0m \u001B[38;5;124;03m\"\"\"Prints a string summary of the network.\u001B[39;00m\n\u001B[1;32m   3185\u001B[0m \n\u001B[1;32m   3186\u001B[0m \u001B[38;5;124;03mArgs:\u001B[39;00m\n\u001B[0;32m   (...)\u001B[0m\n\u001B[1;32m   3211\u001B[0m \u001B[38;5;124;03m    ValueError: if `summary()` is called before the model is built.\u001B[39;00m\n\u001B[1;32m   3212\u001B[0m \u001B[38;5;124;03m\"\"\"\u001B[39;00m\n\u001B[1;32m   3213\u001B[0m \u001B[38;5;28;01mif\u001B[39;00m \u001B[38;5;129;01mnot\u001B[39;00m \u001B[38;5;28mself\u001B[39m\u001B[38;5;241m.\u001B[39mbuilt:\n\u001B[0;32m-> 3214\u001B[0m     \u001B[38;5;28;01mraise\u001B[39;00m \u001B[38;5;167;01mValueError\u001B[39;00m(\n\u001B[1;32m   3215\u001B[0m         \u001B[38;5;124m\"\u001B[39m\u001B[38;5;124mThis model has not yet been built. \u001B[39m\u001B[38;5;124m\"\u001B[39m\n\u001B[1;32m   3216\u001B[0m         \u001B[38;5;124m\"\u001B[39m\u001B[38;5;124mBuild the model first by calling `build()` or by calling \u001B[39m\u001B[38;5;124m\"\u001B[39m\n\u001B[1;32m   3217\u001B[0m         \u001B[38;5;124m\"\u001B[39m\u001B[38;5;124mthe model on a batch of data.\u001B[39m\u001B[38;5;124m\"\u001B[39m\n\u001B[1;32m   3218\u001B[0m     )\n\u001B[1;32m   3219\u001B[0m layer_utils\u001B[38;5;241m.\u001B[39mprint_summary(\n\u001B[1;32m   3220\u001B[0m     \u001B[38;5;28mself\u001B[39m,\n\u001B[1;32m   3221\u001B[0m     line_length\u001B[38;5;241m=\u001B[39mline_length,\n\u001B[0;32m   (...)\u001B[0m\n\u001B[1;32m   3226\u001B[0m     layer_range\u001B[38;5;241m=\u001B[39mlayer_range,\n\u001B[1;32m   3227\u001B[0m )\n",
      "\u001B[0;31mValueError\u001B[0m: This model has not yet been built. Build the model first by calling `build()` or by calling the model on a batch of data."
     ]
    }
   ],
   "source": [
    "model.summary()"
   ],
   "metadata": {
    "collapsed": false
   }
  },
  {
   "cell_type": "code",
   "execution_count": null,
   "outputs": [],
   "source": [],
   "metadata": {
    "collapsed": false
   }
  },
  {
   "cell_type": "code",
   "execution_count": null,
   "outputs": [],
   "source": [],
   "metadata": {
    "collapsed": false
   }
  },
  {
   "cell_type": "code",
   "execution_count": null,
   "outputs": [],
   "source": [],
   "metadata": {
    "collapsed": false
   }
  },
  {
   "cell_type": "code",
   "execution_count": null,
   "outputs": [],
   "source": [],
   "metadata": {
    "collapsed": false
   }
  },
  {
   "cell_type": "code",
   "execution_count": null,
   "outputs": [],
   "source": [],
   "metadata": {
    "collapsed": false
   }
  },
  {
   "cell_type": "code",
   "execution_count": 6,
   "outputs": [],
   "source": [
    "inputs_flat = inputs_flat_with_pad(res)\n",
    "filt = filter_combine([1, 1, 1], [0.5, 0.5, 0.5], in_channels=inputs_flat.shape[2])\n"
   ],
   "metadata": {
    "collapsed": false
   }
  },
  {
   "cell_type": "code",
   "execution_count": 7,
   "outputs": [
    {
     "data": {
      "text/plain": "(2, 24, 1)"
     },
     "execution_count": 7,
     "metadata": {},
     "output_type": "execute_result"
    }
   ],
   "source": [
    "inputs_flat.shape"
   ],
   "metadata": {
    "collapsed": false
   }
  },
  {
   "cell_type": "code",
   "execution_count": 8,
   "outputs": [
    {
     "data": {
      "text/plain": "array([[ 1.],\n       [ 3.],\n       [ 6.],\n       [ 9.],\n       [ 7.],\n       [ 0.],\n       [11.],\n       [18.],\n       [21.],\n       [24.],\n       [17.],\n       [ 0.],\n       [21.],\n       [33.],\n       [36.],\n       [39.],\n       [27.],\n       [ 0.],\n       [31.],\n       [48.],\n       [51.],\n       [54.],\n       [37.],\n       [ 0.]])"
     },
     "execution_count": 8,
     "metadata": {},
     "output_type": "execute_result"
    }
   ],
   "source": [
    "inputs_flat[0, :, :]"
   ],
   "metadata": {
    "collapsed": false
   }
  },
  {
   "cell_type": "code",
   "execution_count": 10,
   "outputs": [
    {
     "data": {
      "text/plain": "array([[ 0.5],\n       [ 1.5],\n       [ 3. ],\n       [ 4.5],\n       [ 3.5],\n       [ 0. ],\n       [ 5.5],\n       [ 9. ],\n       [10.5],\n       [12. ],\n       [ 8.5],\n       [ 0. ],\n       [10.5],\n       [16.5],\n       [18. ],\n       [19.5],\n       [13.5],\n       [ 0. ],\n       [15.5],\n       [24. ],\n       [25.5],\n       [27. ],\n       [18.5],\n       [ 0. ]])"
     },
     "execution_count": 10,
     "metadata": {},
     "output_type": "execute_result"
    }
   ],
   "source": [
    "inputs_flat[1, :, :]"
   ],
   "metadata": {
    "collapsed": false
   }
  },
  {
   "cell_type": "code",
   "execution_count": 13,
   "outputs": [
    {
     "data": {
      "text/plain": "(3, 1, 2)"
     },
     "execution_count": 13,
     "metadata": {},
     "output_type": "execute_result"
    }
   ],
   "source": [
    "filt.shape"
   ],
   "metadata": {
    "collapsed": false
   }
  },
  {
   "cell_type": "code",
   "execution_count": 16,
   "outputs": [
    {
     "data": {
      "text/plain": "array([[1.],\n       [1.],\n       [1.]])"
     },
     "execution_count": 16,
     "metadata": {},
     "output_type": "execute_result"
    }
   ],
   "source": [
    "filt[:, :, 0]"
   ],
   "metadata": {
    "collapsed": false
   }
  },
  {
   "cell_type": "code",
   "execution_count": null,
   "outputs": [],
   "source": [
    "res_2 = tf.nn.convolution(input=inputs_flat, filters=filt, padding=\"SAME\").numpy()"
   ],
   "metadata": {
    "collapsed": false
   }
  },
  {
   "cell_type": "code",
   "execution_count": 90,
   "outputs": [],
   "source": [
    "res_2_0 = np.zeros((1, res_2.shape[1], res_2.shape[0] + res_2.shape[2]))\n",
    "\n",
    "indexes = itertools.product(range(res_2.shape[0]), range(res_2.shape[2]))\n",
    "for i, _jk in enumerate(indexes):\n",
    "    j, k = _jk\n",
    "    res_2_0[0, :, i] = res_2[j, :, k]\n",
    "res_2 = res_2_0\n",
    "res_2 = res_2.reshape((4, -1, 4))[:,:-1,:]\n"
   ],
   "metadata": {
    "collapsed": false
   }
  },
  {
   "cell_type": "code",
   "execution_count": 91,
   "outputs": [
    {
     "data": {
      "text/plain": "(4, 5, 4)"
     },
     "execution_count": 91,
     "metadata": {},
     "output_type": "execute_result"
    }
   ],
   "source": [
    "res_2.shape"
   ],
   "metadata": {
    "collapsed": false
   }
  },
  {
   "cell_type": "code",
   "execution_count": 96,
   "outputs": [
    {
     "data": {
      "text/plain": "array([[  4.,  10.,  18.,  22.,  16.],\n       [ 29.,  50.,  63.,  62.,  41.],\n       [ 54.,  90., 108., 102.,  66.],\n       [ 79., 130., 153., 142.,  91.]])"
     },
     "execution_count": 96,
     "metadata": {},
     "output_type": "execute_result"
    }
   ],
   "source": [
    "res_2[:, :, 0]"
   ],
   "metadata": {
    "collapsed": false
   }
  },
  {
   "cell_type": "code",
   "execution_count": 39,
   "outputs": [
    {
     "data": {
      "text/plain": "array([ 4. ,  2. , 10. ,  5. , 18. ,  9. , 22. , 11. , 16. ,  8. , 18. ,\n        9. , 29. , 14.5, 50. , 25. , 63. , 31.5, 62. , 31. , 41. , 20.5,\n       38. , 19. ])"
     },
     "execution_count": 39,
     "metadata": {},
     "output_type": "execute_result"
    }
   ],
   "source": [
    "res_2.reshape(4, -1, 1)[0, :, 0]"
   ],
   "metadata": {
    "collapsed": false
   }
  },
  {
   "cell_type": "code",
   "execution_count": 45,
   "outputs": [
    {
     "data": {
      "text/plain": "array([[ 1.,  3.,  6.,  9.,  7.],\n       [11., 18., 21., 24., 17.],\n       [21., 33., 36., 39., 27.],\n       [31., 48., 51., 54., 37.]])"
     },
     "execution_count": 45,
     "metadata": {},
     "output_type": "execute_result"
    }
   ],
   "source": [
    "res[:, :, 0]"
   ],
   "metadata": {
    "collapsed": false
   }
  },
  {
   "cell_type": "code",
   "execution_count": 25,
   "outputs": [
    {
     "data": {
      "text/plain": "array([[ 0.5,  1.5,  3. ,  4.5,  3.5],\n       [ 5.5,  9. , 10.5, 12. ,  8.5],\n       [10.5, 16.5, 18. , 19.5, 13.5],\n       [15.5, 24. , 25.5, 27. , 18.5]])"
     },
     "execution_count": 25,
     "metadata": {},
     "output_type": "execute_result"
    }
   ],
   "source": [
    "res[:, :, 1]"
   ],
   "metadata": {
    "collapsed": false
   }
  },
  {
   "cell_type": "code",
   "execution_count": 30,
   "outputs": [
    {
     "name": "stdout",
     "output_type": "stream",
     "text": [
      "(2, 24, 1)\n",
      "(3, 1, 2)\n",
      "(2, 24, 2)\n"
     ]
    }
   ],
   "source": [
    "print(inputs_flat.shape)\n",
    "print(filt.shape)\n",
    "print(res_2.shape)\n"
   ],
   "metadata": {
    "collapsed": false
   }
  },
  {
   "cell_type": "code",
   "execution_count": null,
   "outputs": [],
   "source": [],
   "metadata": {
    "collapsed": false
   }
  },
  {
   "cell_type": "code",
   "execution_count": 3,
   "outputs": [],
   "source": [
    "a = np.array([[[1, 2, 3], [4, 5, 6]]])"
   ],
   "metadata": {
    "collapsed": false
   }
  },
  {
   "cell_type": "code",
   "execution_count": 4,
   "outputs": [
    {
     "data": {
      "text/plain": "array([[1, 2, 3],\n       [4, 5, 6]])"
     },
     "execution_count": 4,
     "metadata": {},
     "output_type": "execute_result"
    }
   ],
   "source": [
    "a[0, :, :]"
   ],
   "metadata": {
    "collapsed": false
   }
  },
  {
   "cell_type": "code",
   "execution_count": 5,
   "outputs": [
    {
     "data": {
      "text/plain": "array([[1, 2, 3],\n       [4, 5, 6]])"
     },
     "execution_count": 5,
     "metadata": {},
     "output_type": "execute_result"
    }
   ],
   "source": [
    "a.reshape((2, 3, 1))[:, :, 0]"
   ],
   "metadata": {
    "collapsed": false
   }
  },
  {
   "cell_type": "code",
   "execution_count": 6,
   "outputs": [
    {
     "data": {
      "text/plain": "(1, 2, 3)"
     },
     "execution_count": 6,
     "metadata": {},
     "output_type": "execute_result"
    }
   ],
   "source": [
    "a.shape"
   ],
   "metadata": {
    "collapsed": false
   }
  },
  {
   "cell_type": "code",
   "execution_count": null,
   "outputs": [],
   "source": [],
   "metadata": {
    "collapsed": false
   }
  },
  {
   "cell_type": "code",
   "execution_count": null,
   "outputs": [],
   "source": [
    "res_0 = np.zeros((res.shape[0], res.shape[1]+4, res.shape[2]))"
   ],
   "metadata": {
    "collapsed": false
   }
  },
  {
   "cell_type": "code",
   "execution_count": 18,
   "outputs": [],
   "source": [
    "res_mp = tf.keras.layers.MaxPooling1D(pool_size=3, strides=3, padding='same')(res[:, :, :]).numpy()\n"
   ],
   "metadata": {
    "collapsed": false
   }
  },
  {
   "cell_type": "code",
   "execution_count": 19,
   "outputs": [
    {
     "data": {
      "text/plain": "(10, 7, 2)"
     },
     "execution_count": 19,
     "metadata": {},
     "output_type": "execute_result"
    }
   ],
   "source": [
    "res_mp.shape"
   ],
   "metadata": {
    "collapsed": false
   }
  },
  {
   "cell_type": "code",
   "execution_count": 21,
   "outputs": [
    {
     "data": {
      "text/plain": "array([[  0.5,   1.5,   3. ,   4.5,   6. ,   7.5,   9. ,  10.5,  12. ,\n         13.5,  15. ,  16.5,  18. ,  19.5,  21. ,  22.5,  24. ,  25.5,\n         27. ,  18.5],\n       [ 20.5,  31.5,  33. ,  34.5,  36. ,  37.5,  39. ,  40.5,  42. ,\n         43.5,  45. ,  46.5,  48. ,  49.5,  51. ,  52.5,  54. ,  55.5,\n         57. ,  38.5],\n       [ 40.5,  61.5,  63. ,  64.5,  66. ,  67.5,  69. ,  70.5,  72. ,\n         73.5,  75. ,  76.5,  78. ,  79.5,  81. ,  82.5,  84. ,  85.5,\n         87. ,  58.5],\n       [ 60.5,  91.5,  93. ,  94.5,  96. ,  97.5,  99. , 100.5, 102. ,\n        103.5, 105. , 106.5, 108. , 109.5, 111. , 112.5, 114. , 115.5,\n        117. ,  78.5],\n       [ 80.5, 121.5, 123. , 124.5, 126. , 127.5, 129. , 130.5, 132. ,\n        133.5, 135. , 136.5, 138. , 139.5, 141. , 142.5, 144. , 145.5,\n        147. ,  98.5],\n       [100.5, 151.5, 153. , 154.5, 156. , 157.5, 159. , 160.5, 162. ,\n        163.5, 165. , 166.5, 168. , 169.5, 171. , 172.5, 174. , 175.5,\n        177. , 118.5],\n       [120.5, 181.5, 183. , 184.5, 186. , 187.5, 189. , 190.5, 192. ,\n        193.5, 195. , 196.5, 198. , 199.5, 201. , 202.5, 204. , 205.5,\n        207. , 138.5],\n       [140.5, 211.5, 213. , 214.5, 216. , 217.5, 219. , 220.5, 222. ,\n        223.5, 225. , 226.5, 228. , 229.5, 231. , 232.5, 234. , 235.5,\n        237. , 158.5],\n       [160.5, 241.5, 243. , 244.5, 246. , 247.5, 249. , 250.5, 252. ,\n        253.5, 255. , 256.5, 258. , 259.5, 261. , 262.5, 264. , 265.5,\n        267. , 178.5],\n       [180.5, 271.5, 273. , 274.5, 276. , 277.5, 279. , 280.5, 282. ,\n        283.5, 285. , 286.5, 288. , 289.5, 291. , 292.5, 294. , 295.5,\n        297. , 198.5]])"
     },
     "execution_count": 21,
     "metadata": {},
     "output_type": "execute_result"
    }
   ],
   "source": [
    "res[:, :, 1]"
   ],
   "metadata": {
    "collapsed": false
   }
  },
  {
   "cell_type": "code",
   "execution_count": 22,
   "outputs": [
    {
     "data": {
      "text/plain": "array([[  3. ,   7.5,  12. ,  16.5,  21. ,  25.5,  27. ],\n       [ 33. ,  37.5,  42. ,  46.5,  51. ,  55.5,  57. ],\n       [ 63. ,  67.5,  72. ,  76.5,  81. ,  85.5,  87. ],\n       [ 93. ,  97.5, 102. , 106.5, 111. , 115.5, 117. ],\n       [123. , 127.5, 132. , 136.5, 141. , 145.5, 147. ],\n       [153. , 157.5, 162. , 166.5, 171. , 175.5, 177. ],\n       [183. , 187.5, 192. , 196.5, 201. , 205.5, 207. ],\n       [213. , 217.5, 222. , 226.5, 231. , 235.5, 237. ],\n       [243. , 247.5, 252. , 256.5, 261. , 265.5, 267. ],\n       [273. , 277.5, 282. , 286.5, 291. , 295.5, 297. ]], dtype=float32)"
     },
     "execution_count": 22,
     "metadata": {},
     "output_type": "execute_result"
    }
   ],
   "source": [
    "res_mp[:, :, 1]"
   ],
   "metadata": {
    "collapsed": false
   }
  },
  {
   "cell_type": "code",
   "execution_count": null,
   "outputs": [],
   "source": [],
   "metadata": {
    "collapsed": false
   }
  },
  {
   "cell_type": "code",
   "execution_count": null,
   "outputs": [],
   "source": [],
   "metadata": {
    "collapsed": false
   }
  },
  {
   "cell_type": "code",
   "execution_count": null,
   "outputs": [],
   "source": [],
   "metadata": {
    "collapsed": false
   }
  }
 ],
 "metadata": {
  "kernelspec": {
   "display_name": "Python 3",
   "language": "python",
   "name": "python3"
  },
  "language_info": {
   "codemirror_mode": {
    "name": "ipython",
    "version": 2
   },
   "file_extension": ".py",
   "mimetype": "text/x-python",
   "name": "python",
   "nbconvert_exporter": "python",
   "pygments_lexer": "ipython2",
   "version": "2.7.6"
  }
 },
 "nbformat": 4,
 "nbformat_minor": 0
}

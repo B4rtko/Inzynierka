{
 "cells": [
  {
   "cell_type": "code",
   "execution_count": 1,
   "outputs": [],
   "source": [
    "import bs4\n",
    "import requests\n",
    "from selenium import webdriver\n",
    "import time\n",
    "import pyautogui as pag\n",
    "import pandas as pd\n",
    "\n",
    "import os\n",
    "from bs4 import BeautifulSoup\n",
    "import time\n",
    "import datetime\n",
    "from selenium.webdriver.common.by import By"
   ],
   "metadata": {
    "collapsed": false
   }
  },
  {
   "cell_type": "code",
   "execution_count": 47,
   "outputs": [],
   "source": [
    "df = pd.read_csv(os.path.join(\"..\", \"..\", \"Data\", \"2_Extracted\", \"Crude_Oil_5.csv\"), index_col=0)\n",
    "\n",
    "flag_K = [\"K\" in str(i) for i in df[\"Volume\"]]\n",
    "df[\"Volume\"] = df[\"Volume\"].apply(lambda x: float(str(x).replace(\"K\", \"\")))\n",
    "df[\"Volume\"][flag_K] *= 1000\n"
   ],
   "metadata": {
    "collapsed": false
   }
  },
  {
   "cell_type": "code",
   "execution_count": 49,
   "outputs": [
    {
     "data": {
      "text/plain": "O         94\nH         94\nL         94\nC         94\nVolume    94\ndtype: int64"
     },
     "execution_count": 49,
     "metadata": {},
     "output_type": "execute_result"
    }
   ],
   "source": [
    "df.isna().sum()"
   ],
   "metadata": {
    "collapsed": false
   }
  },
  {
   "cell_type": "code",
   "execution_count": null,
   "outputs": [],
   "source": [],
   "metadata": {
    "collapsed": false
   }
  },
  {
   "cell_type": "code",
   "execution_count": 50,
   "outputs": [],
   "source": [
    "df_2 = pd.read_csv(os.path.join(\"..\", \"..\", \"Data\", \"2_Extracted\", \"Crude_Oil_5.csv\"), index_col=0)"
   ],
   "metadata": {
    "collapsed": false
   }
  },
  {
   "cell_type": "code",
   "execution_count": 112,
   "outputs": [
    {
     "data": {
      "text/plain": "      Volume        \n        self   other\n92    2002.0  2002.0\n141   4028.0  4028.0\n357   1023.0  1023.0\n1197  4063.0  4063.0\n1499  1023.0  1023.0\n1522  1003.0  1003.0\n1748  1013.0  1013.0\n2022  2030.0  2030.0\n2034  2031.0  2031.0\n2354  2007.0  2007.0\n2608  4060.0  4060.0\n2625  1015.0  1015.0\n2895  4078.0  4078.0\n2922  1011.0  1011.0\n3110  1005.0  1005.0\n3326  1009.0  1009.0\n3651  2022.0  2022.0\n3690  2042.0  2042.0\n3972  2006.0  2006.0\n4059  1013.0  1013.0\n4144  1013.0  1013.0\n4171  1011.0  1011.0\n4269  4070.0  4070.0\n4306  1013.0  1013.0\n4552  1013.0  1013.0\n4558  1019.0  1019.0\n4564  1001.0  1001.0\n5002  2038.0  2038.0\n5003  2019.0  2019.0\n5046  4052.0  4052.0\n5261  2014.0  2014.0\n5463  1011.0  1011.0\n5540  2030.0  2030.0\n5841  4081.0  4081.0",
      "text/html": "<div>\n<style scoped>\n    .dataframe tbody tr th:only-of-type {\n        vertical-align: middle;\n    }\n\n    .dataframe tbody tr th {\n        vertical-align: top;\n    }\n\n    .dataframe thead tr th {\n        text-align: left;\n    }\n</style>\n<table border=\"1\" class=\"dataframe\">\n  <thead>\n    <tr>\n      <th></th>\n      <th colspan=\"2\" halign=\"left\">Volume</th>\n    </tr>\n    <tr>\n      <th></th>\n      <th>self</th>\n      <th>other</th>\n    </tr>\n  </thead>\n  <tbody>\n    <tr>\n      <th>92</th>\n      <td>2002.0</td>\n      <td>2002.0</td>\n    </tr>\n    <tr>\n      <th>141</th>\n      <td>4028.0</td>\n      <td>4028.0</td>\n    </tr>\n    <tr>\n      <th>357</th>\n      <td>1023.0</td>\n      <td>1023.0</td>\n    </tr>\n    <tr>\n      <th>1197</th>\n      <td>4063.0</td>\n      <td>4063.0</td>\n    </tr>\n    <tr>\n      <th>1499</th>\n      <td>1023.0</td>\n      <td>1023.0</td>\n    </tr>\n    <tr>\n      <th>1522</th>\n      <td>1003.0</td>\n      <td>1003.0</td>\n    </tr>\n    <tr>\n      <th>1748</th>\n      <td>1013.0</td>\n      <td>1013.0</td>\n    </tr>\n    <tr>\n      <th>2022</th>\n      <td>2030.0</td>\n      <td>2030.0</td>\n    </tr>\n    <tr>\n      <th>2034</th>\n      <td>2031.0</td>\n      <td>2031.0</td>\n    </tr>\n    <tr>\n      <th>2354</th>\n      <td>2007.0</td>\n      <td>2007.0</td>\n    </tr>\n    <tr>\n      <th>2608</th>\n      <td>4060.0</td>\n      <td>4060.0</td>\n    </tr>\n    <tr>\n      <th>2625</th>\n      <td>1015.0</td>\n      <td>1015.0</td>\n    </tr>\n    <tr>\n      <th>2895</th>\n      <td>4078.0</td>\n      <td>4078.0</td>\n    </tr>\n    <tr>\n      <th>2922</th>\n      <td>1011.0</td>\n      <td>1011.0</td>\n    </tr>\n    <tr>\n      <th>3110</th>\n      <td>1005.0</td>\n      <td>1005.0</td>\n    </tr>\n    <tr>\n      <th>3326</th>\n      <td>1009.0</td>\n      <td>1009.0</td>\n    </tr>\n    <tr>\n      <th>3651</th>\n      <td>2022.0</td>\n      <td>2022.0</td>\n    </tr>\n    <tr>\n      <th>3690</th>\n      <td>2042.0</td>\n      <td>2042.0</td>\n    </tr>\n    <tr>\n      <th>3972</th>\n      <td>2006.0</td>\n      <td>2006.0</td>\n    </tr>\n    <tr>\n      <th>4059</th>\n      <td>1013.0</td>\n      <td>1013.0</td>\n    </tr>\n    <tr>\n      <th>4144</th>\n      <td>1013.0</td>\n      <td>1013.0</td>\n    </tr>\n    <tr>\n      <th>4171</th>\n      <td>1011.0</td>\n      <td>1011.0</td>\n    </tr>\n    <tr>\n      <th>4269</th>\n      <td>4070.0</td>\n      <td>4070.0</td>\n    </tr>\n    <tr>\n      <th>4306</th>\n      <td>1013.0</td>\n      <td>1013.0</td>\n    </tr>\n    <tr>\n      <th>4552</th>\n      <td>1013.0</td>\n      <td>1013.0</td>\n    </tr>\n    <tr>\n      <th>4558</th>\n      <td>1019.0</td>\n      <td>1019.0</td>\n    </tr>\n    <tr>\n      <th>4564</th>\n      <td>1001.0</td>\n      <td>1001.0</td>\n    </tr>\n    <tr>\n      <th>5002</th>\n      <td>2038.0</td>\n      <td>2038.0</td>\n    </tr>\n    <tr>\n      <th>5003</th>\n      <td>2019.0</td>\n      <td>2019.0</td>\n    </tr>\n    <tr>\n      <th>5046</th>\n      <td>4052.0</td>\n      <td>4052.0</td>\n    </tr>\n    <tr>\n      <th>5261</th>\n      <td>2014.0</td>\n      <td>2014.0</td>\n    </tr>\n    <tr>\n      <th>5463</th>\n      <td>1011.0</td>\n      <td>1011.0</td>\n    </tr>\n    <tr>\n      <th>5540</th>\n      <td>2030.0</td>\n      <td>2030.0</td>\n    </tr>\n    <tr>\n      <th>5841</th>\n      <td>4081.0</td>\n      <td>4081.0</td>\n    </tr>\n  </tbody>\n</table>\n</div>"
     },
     "execution_count": 112,
     "metadata": {},
     "output_type": "execute_result"
    }
   ],
   "source": [
    "df.dropna().reset_index(drop=True).compare(df_2.reset_index(drop=True))"
   ],
   "metadata": {
    "collapsed": false
   }
  },
  {
   "cell_type": "code",
   "execution_count": 105,
   "outputs": [
    {
     "data": {
      "text/plain": "O         float64\nH         float64\nL         float64\nC         float64\nVolume    float64\ndtype: object"
     },
     "execution_count": 105,
     "metadata": {},
     "output_type": "execute_result"
    }
   ],
   "source": [
    "df.dtypes"
   ],
   "metadata": {
    "collapsed": false
   }
  },
  {
   "cell_type": "code",
   "execution_count": 55,
   "outputs": [
    {
     "data": {
      "text/plain": "          O      H      L      C  Volume\n92    88.23  88.38  88.14  88.20  2002.0\n141   86.81  86.97  86.69  86.75  4028.0\n357   87.57  87.62  87.52  87.61  1023.0\n1197  88.50  88.60  88.47  88.59  4063.0\n1499  92.48  92.58  92.44  92.52  1023.0\n...     ...    ...    ...    ...     ...\n5046  73.19  73.19  73.09  73.10  4052.0\n5261  73.95  74.05  73.89  73.99  2014.0\n5463  73.19  73.27  73.15  73.22  1011.0\n5540  73.66  73.66  73.44  73.47  2030.0\n5841  75.27  75.33  75.22  75.30  4081.0\n\n[68 rows x 5 columns]",
      "text/html": "<div>\n<style scoped>\n    .dataframe tbody tr th:only-of-type {\n        vertical-align: middle;\n    }\n\n    .dataframe tbody tr th {\n        vertical-align: top;\n    }\n\n    .dataframe thead th {\n        text-align: right;\n    }\n</style>\n<table border=\"1\" class=\"dataframe\">\n  <thead>\n    <tr style=\"text-align: right;\">\n      <th></th>\n      <th>O</th>\n      <th>H</th>\n      <th>L</th>\n      <th>C</th>\n      <th>Volume</th>\n    </tr>\n  </thead>\n  <tbody>\n    <tr>\n      <th>92</th>\n      <td>88.23</td>\n      <td>88.38</td>\n      <td>88.14</td>\n      <td>88.20</td>\n      <td>2002.0</td>\n    </tr>\n    <tr>\n      <th>141</th>\n      <td>86.81</td>\n      <td>86.97</td>\n      <td>86.69</td>\n      <td>86.75</td>\n      <td>4028.0</td>\n    </tr>\n    <tr>\n      <th>357</th>\n      <td>87.57</td>\n      <td>87.62</td>\n      <td>87.52</td>\n      <td>87.61</td>\n      <td>1023.0</td>\n    </tr>\n    <tr>\n      <th>1197</th>\n      <td>88.50</td>\n      <td>88.60</td>\n      <td>88.47</td>\n      <td>88.59</td>\n      <td>4063.0</td>\n    </tr>\n    <tr>\n      <th>1499</th>\n      <td>92.48</td>\n      <td>92.58</td>\n      <td>92.44</td>\n      <td>92.52</td>\n      <td>1023.0</td>\n    </tr>\n    <tr>\n      <th>...</th>\n      <td>...</td>\n      <td>...</td>\n      <td>...</td>\n      <td>...</td>\n      <td>...</td>\n    </tr>\n    <tr>\n      <th>5046</th>\n      <td>73.19</td>\n      <td>73.19</td>\n      <td>73.09</td>\n      <td>73.10</td>\n      <td>4052.0</td>\n    </tr>\n    <tr>\n      <th>5261</th>\n      <td>73.95</td>\n      <td>74.05</td>\n      <td>73.89</td>\n      <td>73.99</td>\n      <td>2014.0</td>\n    </tr>\n    <tr>\n      <th>5463</th>\n      <td>73.19</td>\n      <td>73.27</td>\n      <td>73.15</td>\n      <td>73.22</td>\n      <td>1011.0</td>\n    </tr>\n    <tr>\n      <th>5540</th>\n      <td>73.66</td>\n      <td>73.66</td>\n      <td>73.44</td>\n      <td>73.47</td>\n      <td>2030.0</td>\n    </tr>\n    <tr>\n      <th>5841</th>\n      <td>75.27</td>\n      <td>75.33</td>\n      <td>75.22</td>\n      <td>75.30</td>\n      <td>4081.0</td>\n    </tr>\n  </tbody>\n</table>\n<p>68 rows × 5 columns</p>\n</div>"
     },
     "execution_count": 55,
     "metadata": {},
     "output_type": "execute_result"
    }
   ],
   "source": [
    "pd.concat([df.dropna(),df_2]).drop_duplicates(keep=False)\n"
   ],
   "metadata": {
    "collapsed": false
   }
  },
  {
   "cell_type": "code",
   "execution_count": 127,
   "outputs": [
    {
     "data": {
      "text/plain": "2001.9999999999998"
     },
     "execution_count": 127,
     "metadata": {},
     "output_type": "execute_result"
    }
   ],
   "source": [
    "df.iloc[92, -1]"
   ],
   "metadata": {
    "collapsed": false
   }
  },
  {
   "cell_type": "code",
   "execution_count": 159,
   "outputs": [],
   "source": [
    "import seaborn as sns\n",
    "import matplotlib.pyplot as plt\n",
    "import numpy as np\n"
   ],
   "metadata": {
    "collapsed": false
   }
  },
  {
   "cell_type": "code",
   "execution_count": 143,
   "outputs": [
    {
     "data": {
      "text/plain": "<Axes: >"
     },
     "execution_count": 143,
     "metadata": {},
     "output_type": "execute_result"
    },
    {
     "data": {
      "text/plain": "<Figure size 1000x1000 with 1 Axes>",
      "image/png": "[encoded data removed]"
     },
     "metadata": {},
     "output_type": "display_data"
    }
   ],
   "source": [
    "fig, ax = plt.subplots(figsize=(10,10))\n",
    "\n",
    "# sns.lineplot(data=df_2, x=df_2.index, y=[\"O\", \"H\"], ax=ax)\n",
    "sns.lineplot(data=df_2.iloc[-3700:-3000, :-1], ax=ax)\n",
    "\n"
   ],
   "metadata": {
    "collapsed": false
   }
  },
  {
   "cell_type": "code",
   "execution_count": 144,
   "outputs": [
    {
     "data": {
      "text/plain": "9636"
     },
     "execution_count": 144,
     "metadata": {},
     "output_type": "execute_result"
    }
   ],
   "source": [
    "len(df_2.index)"
   ],
   "metadata": {
    "collapsed": false
   }
  },
  {
   "cell_type": "code",
   "execution_count": null,
   "outputs": [],
   "source": [],
   "metadata": {
    "collapsed": false
   }
  },
  {
   "cell_type": "code",
   "execution_count": 175,
   "outputs": [
    {
     "data": {
      "text/plain": "5905"
     },
     "execution_count": 175,
     "metadata": {},
     "output_type": "execute_result"
    }
   ],
   "source": [
    "df_2[\n",
    "    (\n",
    "            (df_2.diff() == [0, 0, 0, 0, 0]) &\n",
    "            (df_2.diff(2) == [0, 0, 0, 0, 0]) &\n",
    "            (df_2.diff(3) == [0, 0, 0, 0, 0]) &\n",
    "            (df_2.diff(4) == [0, 0, 0, 0, 0]) &\n",
    "            (df_2.diff(5) == [0, 0, 0, 0, 0]) &\n",
    "            (df_2.diff(6) == [0, 0, 0, 0, 0]) &\n",
    "            (df_2.diff(7) == [0, 0, 0, 0, 0]) &\n",
    "            (df_2.diff(8) == [0, 0, 0, 0, 0]) &\n",
    "            (df_2.diff(9) == [0, 0, 0, 0, 0]) &\n",
    "            (df_2.diff(10) == [0, 0, 0, 0, 0])\n",
    "    ).iloc[:,0]\n",
    "].index[0]\n",
    "\n"
   ],
   "metadata": {
    "collapsed": false
   }
  },
  {
   "cell_type": "code",
   "execution_count": 176,
   "outputs": [
    {
     "data": {
      "text/plain": "        O    H    L    C  Volume\n0     NaN  NaN  NaN  NaN     NaN\n1     NaN  NaN  NaN  NaN     NaN\n2     NaN  NaN  NaN  NaN     NaN\n3     NaN  NaN  NaN  NaN     NaN\n4     NaN  NaN  NaN  NaN     NaN\n...   ...  ...  ...  ...     ...\n9631  0.0  0.0  0.0  0.0     0.0\n9632  0.0  0.0  0.0  0.0     0.0\n9633  0.0  0.0  0.0  0.0     0.0\n9634  0.0  0.0  0.0  0.0     0.0\n9635  0.0  0.0  0.0  0.0     0.0\n\n[9636 rows x 5 columns]",
      "text/html": "<div>\n<style scoped>\n    .dataframe tbody tr th:only-of-type {\n        vertical-align: middle;\n    }\n\n    .dataframe tbody tr th {\n        vertical-align: top;\n    }\n\n    .dataframe thead th {\n        text-align: right;\n    }\n</style>\n<table border=\"1\" class=\"dataframe\">\n  <thead>\n    <tr style=\"text-align: right;\">\n      <th></th>\n      <th>O</th>\n      <th>H</th>\n      <th>L</th>\n      <th>C</th>\n      <th>Volume</th>\n    </tr>\n  </thead>\n  <tbody>\n    <tr>\n      <th>0</th>\n      <td>NaN</td>\n      <td>NaN</td>\n      <td>NaN</td>\n      <td>NaN</td>\n      <td>NaN</td>\n    </tr>\n    <tr>\n      <th>1</th>\n      <td>NaN</td>\n      <td>NaN</td>\n      <td>NaN</td>\n      <td>NaN</td>\n      <td>NaN</td>\n    </tr>\n    <tr>\n      <th>2</th>\n      <td>NaN</td>\n      <td>NaN</td>\n      <td>NaN</td>\n      <td>NaN</td>\n      <td>NaN</td>\n    </tr>\n    <tr>\n      <th>3</th>\n      <td>NaN</td>\n      <td>NaN</td>\n      <td>NaN</td>\n      <td>NaN</td>\n      <td>NaN</td>\n    </tr>\n    <tr>\n      <th>4</th>\n      <td>NaN</td>\n      <td>NaN</td>\n      <td>NaN</td>\n      <td>NaN</td>\n      <td>NaN</td>\n    </tr>\n    <tr>\n      <th>...</th>\n      <td>...</td>\n      <td>...</td>\n      <td>...</td>\n      <td>...</td>\n      <td>...</td>\n    </tr>\n    <tr>\n      <th>9631</th>\n      <td>0.0</td>\n      <td>0.0</td>\n      <td>0.0</td>\n      <td>0.0</td>\n      <td>0.0</td>\n    </tr>\n    <tr>\n      <th>9632</th>\n      <td>0.0</td>\n      <td>0.0</td>\n      <td>0.0</td>\n      <td>0.0</td>\n      <td>0.0</td>\n    </tr>\n    <tr>\n      <th>9633</th>\n      <td>0.0</td>\n      <td>0.0</td>\n      <td>0.0</td>\n      <td>0.0</td>\n      <td>0.0</td>\n    </tr>\n    <tr>\n      <th>9634</th>\n      <td>0.0</td>\n      <td>0.0</td>\n      <td>0.0</td>\n      <td>0.0</td>\n      <td>0.0</td>\n    </tr>\n    <tr>\n      <th>9635</th>\n      <td>0.0</td>\n      <td>0.0</td>\n      <td>0.0</td>\n      <td>0.0</td>\n      <td>0.0</td>\n    </tr>\n  </tbody>\n</table>\n<p>9636 rows × 5 columns</p>\n</div>"
     },
     "execution_count": 176,
     "metadata": {},
     "output_type": "execute_result"
    }
   ],
   "source": [
    "df_2.diff(10)"
   ],
   "metadata": {
    "collapsed": false
   }
  },
  {
   "cell_type": "code",
   "execution_count": 153,
   "outputs": [
    {
     "data": {
      "text/plain": "          O      H      L      C  Volume\n5905  75.55  75.56  75.53  75.54   140.0\n5906  75.55  75.56  75.53  75.54   140.0\n5907  75.55  75.56  75.53  75.54   140.0\n5908  75.55  75.56  75.53  75.54   140.0\n5909  75.55  75.56  75.53  75.54   140.0\n...     ...    ...    ...    ...     ...\n9631  75.69  75.70  75.69  75.70   922.0\n9632  75.69  75.70  75.69  75.70   922.0\n9633  75.69  75.70  75.69  75.70   922.0\n9634  75.69  75.70  75.69  75.70   922.0\n9635  75.69  75.70  75.69  75.70   922.0\n\n[3721 rows x 5 columns]",
      "text/html": "<div>\n<style scoped>\n    .dataframe tbody tr th:only-of-type {\n        vertical-align: middle;\n    }\n\n    .dataframe tbody tr th {\n        vertical-align: top;\n    }\n\n    .dataframe thead th {\n        text-align: right;\n    }\n</style>\n<table border=\"1\" class=\"dataframe\">\n  <thead>\n    <tr style=\"text-align: right;\">\n      <th></th>\n      <th>O</th>\n      <th>H</th>\n      <th>L</th>\n      <th>C</th>\n      <th>Volume</th>\n    </tr>\n  </thead>\n  <tbody>\n    <tr>\n      <th>5905</th>\n      <td>75.55</td>\n      <td>75.56</td>\n      <td>75.53</td>\n      <td>75.54</td>\n      <td>140.0</td>\n    </tr>\n    <tr>\n      <th>5906</th>\n      <td>75.55</td>\n      <td>75.56</td>\n      <td>75.53</td>\n      <td>75.54</td>\n      <td>140.0</td>\n    </tr>\n    <tr>\n      <th>5907</th>\n      <td>75.55</td>\n      <td>75.56</td>\n      <td>75.53</td>\n      <td>75.54</td>\n      <td>140.0</td>\n    </tr>\n    <tr>\n      <th>5908</th>\n      <td>75.55</td>\n      <td>75.56</td>\n      <td>75.53</td>\n      <td>75.54</td>\n      <td>140.0</td>\n    </tr>\n    <tr>\n      <th>5909</th>\n      <td>75.55</td>\n      <td>75.56</td>\n      <td>75.53</td>\n      <td>75.54</td>\n      <td>140.0</td>\n    </tr>\n    <tr>\n      <th>...</th>\n      <td>...</td>\n      <td>...</td>\n      <td>...</td>\n      <td>...</td>\n      <td>...</td>\n    </tr>\n    <tr>\n      <th>9631</th>\n      <td>75.69</td>\n      <td>75.70</td>\n      <td>75.69</td>\n      <td>75.70</td>\n      <td>922.0</td>\n    </tr>\n    <tr>\n      <th>9632</th>\n      <td>75.69</td>\n      <td>75.70</td>\n      <td>75.69</td>\n      <td>75.70</td>\n      <td>922.0</td>\n    </tr>\n    <tr>\n      <th>9633</th>\n      <td>75.69</td>\n      <td>75.70</td>\n      <td>75.69</td>\n      <td>75.70</td>\n      <td>922.0</td>\n    </tr>\n    <tr>\n      <th>9634</th>\n      <td>75.69</td>\n      <td>75.70</td>\n      <td>75.69</td>\n      <td>75.70</td>\n      <td>922.0</td>\n    </tr>\n    <tr>\n      <th>9635</th>\n      <td>75.69</td>\n      <td>75.70</td>\n      <td>75.69</td>\n      <td>75.70</td>\n      <td>922.0</td>\n    </tr>\n  </tbody>\n</table>\n<p>3721 rows × 5 columns</p>\n</div>"
     },
     "execution_count": 153,
     "metadata": {},
     "output_type": "execute_result"
    }
   ],
   "source": [
    "df_debug"
   ],
   "metadata": {
    "collapsed": false
   }
  },
  {
   "cell_type": "code",
   "execution_count": 154,
   "outputs": [
    {
     "data": {
      "text/plain": "3721"
     },
     "execution_count": 154,
     "metadata": {},
     "output_type": "execute_result"
    }
   ],
   "source": [
    "len(df_debug.index)"
   ],
   "metadata": {
    "collapsed": false
   }
  },
  {
   "cell_type": "code",
   "execution_count": 168,
   "outputs": [
    {
     "data": {
      "text/plain": "array([False, False, False, ..., False, False, False])"
     },
     "execution_count": 168,
     "metadata": {},
     "output_type": "execute_result"
    }
   ],
   "source": [
    "np.diff(df_debug.index.to_numpy()) != 1"
   ],
   "metadata": {
    "collapsed": false
   }
  },
  {
   "cell_type": "code",
   "execution_count": 172,
   "outputs": [
    {
     "data": {
      "text/plain": "          O      H      L      C  Volume\n0     87.16  87.19  87.12  87.18    40.0\n1     87.17  87.29  87.17  87.27   123.0\n2     87.28  87.38  87.25  87.36   177.0\n3     87.36  87.44  87.33  87.41   233.0\n4     87.39  87.43  87.36  87.38   183.0\n...     ...    ...    ...    ...     ...\n5957  75.69  75.70  75.69  75.70   922.0\n5958  75.69  75.70  75.69  75.70   922.0\n5959  75.69  75.70  75.69  75.70   922.0\n5960  75.69  75.70  75.69  75.70   922.0\n5961  75.69  75.70  75.69  75.70   922.0\n\n[5915 rows x 5 columns]",
      "text/html": "<div>\n<style scoped>\n    .dataframe tbody tr th:only-of-type {\n        vertical-align: middle;\n    }\n\n    .dataframe tbody tr th {\n        vertical-align: top;\n    }\n\n    .dataframe thead th {\n        text-align: right;\n    }\n</style>\n<table border=\"1\" class=\"dataframe\">\n  <thead>\n    <tr style=\"text-align: right;\">\n      <th></th>\n      <th>O</th>\n      <th>H</th>\n      <th>L</th>\n      <th>C</th>\n      <th>Volume</th>\n    </tr>\n  </thead>\n  <tbody>\n    <tr>\n      <th>0</th>\n      <td>87.16</td>\n      <td>87.19</td>\n      <td>87.12</td>\n      <td>87.18</td>\n      <td>40.0</td>\n    </tr>\n    <tr>\n      <th>1</th>\n      <td>87.17</td>\n      <td>87.29</td>\n      <td>87.17</td>\n      <td>87.27</td>\n      <td>123.0</td>\n    </tr>\n    <tr>\n      <th>2</th>\n      <td>87.28</td>\n      <td>87.38</td>\n      <td>87.25</td>\n      <td>87.36</td>\n      <td>177.0</td>\n    </tr>\n    <tr>\n      <th>3</th>\n      <td>87.36</td>\n      <td>87.44</td>\n      <td>87.33</td>\n      <td>87.41</td>\n      <td>233.0</td>\n    </tr>\n    <tr>\n      <th>4</th>\n      <td>87.39</td>\n      <td>87.43</td>\n      <td>87.36</td>\n      <td>87.38</td>\n      <td>183.0</td>\n    </tr>\n    <tr>\n      <th>...</th>\n      <td>...</td>\n      <td>...</td>\n      <td>...</td>\n      <td>...</td>\n      <td>...</td>\n    </tr>\n    <tr>\n      <th>5957</th>\n      <td>75.69</td>\n      <td>75.70</td>\n      <td>75.69</td>\n      <td>75.70</td>\n      <td>922.0</td>\n    </tr>\n    <tr>\n      <th>5958</th>\n      <td>75.69</td>\n      <td>75.70</td>\n      <td>75.69</td>\n      <td>75.70</td>\n      <td>922.0</td>\n    </tr>\n    <tr>\n      <th>5959</th>\n      <td>75.69</td>\n      <td>75.70</td>\n      <td>75.69</td>\n      <td>75.70</td>\n      <td>922.0</td>\n    </tr>\n    <tr>\n      <th>5960</th>\n      <td>75.69</td>\n      <td>75.70</td>\n      <td>75.69</td>\n      <td>75.70</td>\n      <td>922.0</td>\n    </tr>\n    <tr>\n      <th>5961</th>\n      <td>75.69</td>\n      <td>75.70</td>\n      <td>75.69</td>\n      <td>75.70</td>\n      <td>922.0</td>\n    </tr>\n  </tbody>\n</table>\n<p>5915 rows × 5 columns</p>\n</div>"
     },
     "execution_count": 172,
     "metadata": {},
     "output_type": "execute_result"
    }
   ],
   "source": [
    "df_2.drop(df_debug.index.to_list())"
   ],
   "metadata": {
    "collapsed": false
   }
  },
  {
   "cell_type": "code",
   "execution_count": 173,
   "outputs": [
    {
     "data": {
      "text/plain": "9683"
     },
     "execution_count": 173,
     "metadata": {},
     "output_type": "execute_result"
    }
   ],
   "source": [
    "5962+3721"
   ],
   "metadata": {
    "collapsed": false
   }
  },
  {
   "cell_type": "code",
   "execution_count": null,
   "outputs": [],
   "source": [],
   "metadata": {
    "collapsed": false
   }
  },
  {
   "cell_type": "code",
   "execution_count": 177,
   "outputs": [],
   "source": [
    "df_3 = pd.read_csv(os.path.join(\"..\", \"..\", \"Data\", \"2_Extracted\", \"Crude_Oil_5.csv\"), index_col=0)"
   ],
   "metadata": {
    "collapsed": false
   }
  },
  {
   "cell_type": "code",
   "execution_count": 179,
   "outputs": [
    {
     "data": {
      "text/plain": "          O      H      L      C  Volume\n5892  75.55  75.59  75.55  75.58   298.0\n5893  75.56  75.59  75.56  75.58   198.0\n5894  75.56  75.58  75.56  75.57   129.0\n5895  75.55  75.56  75.53  75.54   140.0\n5896  75.55  75.56  75.53  75.54   140.0",
      "text/html": "<div>\n<style scoped>\n    .dataframe tbody tr th:only-of-type {\n        vertical-align: middle;\n    }\n\n    .dataframe tbody tr th {\n        vertical-align: top;\n    }\n\n    .dataframe thead th {\n        text-align: right;\n    }\n</style>\n<table border=\"1\" class=\"dataframe\">\n  <thead>\n    <tr style=\"text-align: right;\">\n      <th></th>\n      <th>O</th>\n      <th>H</th>\n      <th>L</th>\n      <th>C</th>\n      <th>Volume</th>\n    </tr>\n  </thead>\n  <tbody>\n    <tr>\n      <th>5892</th>\n      <td>75.55</td>\n      <td>75.59</td>\n      <td>75.55</td>\n      <td>75.58</td>\n      <td>298.0</td>\n    </tr>\n    <tr>\n      <th>5893</th>\n      <td>75.56</td>\n      <td>75.59</td>\n      <td>75.56</td>\n      <td>75.58</td>\n      <td>198.0</td>\n    </tr>\n    <tr>\n      <th>5894</th>\n      <td>75.56</td>\n      <td>75.58</td>\n      <td>75.56</td>\n      <td>75.57</td>\n      <td>129.0</td>\n    </tr>\n    <tr>\n      <th>5895</th>\n      <td>75.55</td>\n      <td>75.56</td>\n      <td>75.53</td>\n      <td>75.54</td>\n      <td>140.0</td>\n    </tr>\n    <tr>\n      <th>5896</th>\n      <td>75.55</td>\n      <td>75.56</td>\n      <td>75.53</td>\n      <td>75.54</td>\n      <td>140.0</td>\n    </tr>\n  </tbody>\n</table>\n</div>"
     },
     "execution_count": 179,
     "metadata": {},
     "output_type": "execute_result"
    }
   ],
   "source": [
    "df_3.tail()"
   ],
   "metadata": {
    "collapsed": false
   }
  }
 ],
 "metadata": {
  "kernelspec": {
   "name": "inzynierka",
   "language": "python",
   "display_name": "inzynierka"
  },
  "language_info": {
   "codemirror_mode": {
    "name": "ipython",
    "version": 2
   },
   "file_extension": ".py",
   "mimetype": "text/x-python",
   "name": "python",
   "nbconvert_exporter": "python",
   "pygments_lexer": "ipython2",
   "version": "2.7.6"
  }
 },
 "nbformat": 4,
 "nbformat_minor": 0
}

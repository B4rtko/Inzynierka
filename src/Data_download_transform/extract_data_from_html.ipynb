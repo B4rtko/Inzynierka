{
 "cells": [
  {
   "cell_type": "code",
   "execution_count": 1,
   "metadata": {},
   "outputs": [],
   "source": [
    "import os\n",
    "import json\n",
    "from bs4 import BeautifulSoup\n",
    "import pandas as pd\n"
   ]
  },
  {
   "cell_type": "code",
   "execution_count": 2,
   "metadata": {},
   "outputs": [],
   "source": [
    "with open('../../Data/Raw/Crude_Oil_5.json', 'r', encoding='utf-8') as f:\n",
    "    data_raw_dict = json.load(f)\n",
    "    data_raw_list = list(data_raw_dict.values())\n"
   ]
  },
  {
   "cell_type": "code",
   "execution_count": 5,
   "metadata": {},
   "outputs": [],
   "source": [
    "item_container_div_class = \"pane-legend-item-value-container\"\n",
    "item_title_span_class = \"pane-legend-item-value-title pane-legend-line pane-legend-item-value-title__main\"\n",
    "item_value_span_class = \"pane-legend-item-value pane-legend-line pane-legend-item-value__main\"\n",
    "item_value_volume_span_class = \"pane-legend-item-value pane-legend-line\"\n"
   ]
  },
  {
   "cell_type": "code",
   "execution_count": 11,
   "metadata": {},
   "outputs": [],
   "source": [
    "def _extract_item_title(item_container_soup):\n",
    "    return [item.text for item in item_container_soup\\\n",
    "        .find_all(\"div\", class_=item_container_div_class)[0]\\\n",
    "        .find_all(\"span\", class_=item_title_span_class)\n",
    "    ]\n",
    "\n",
    "def _extract_item_value(item_container_soup):\n",
    "    return [item.text for item in item_container_soup\\\n",
    "        .find_all(\"div\", class_=item_container_div_class)[0]\\\n",
    "        .find_all(\"span\", class_=item_value_span_class)\n",
    "    ]\n",
    "\n",
    "def _extract_item_value_volume(item_container_soup):\n",
    "    return item_container_soup\\\n",
    "        .find_all(\"div\", class_=item_container_div_class)[1]\\\n",
    "        .find_all(\"span\", class_=item_value_volume_span_class)[0].text\n",
    "\n",
    "def extract_data_to_dataframe(raw_list):\n",
    "    raw_soup_list = [BeautifulSoup(i) for i in raw_list]\n",
    "    \n",
    "    columns = _extract_item_title(raw_soup_list[0]) + [\"Volume\"]\n",
    "    records = []\n",
    "    \n",
    "    for i in raw_soup_list:\n",
    "        try:\n",
    "            records.append(_extract_item_value(i) + [_extract_item_value_volume(i)])\n",
    "        except:\n",
    "            records.append([None for _ in range(len(columns))])\n",
    "\n",
    "    return pd.DataFrame(records, columns=columns)\n"
   ]
  },
  {
   "cell_type": "code",
   "execution_count": 12,
   "metadata": {},
   "outputs": [],
   "source": [
    "df = extract_data_to_dataframe(data_raw_list)"
   ]
  },
  {
   "cell_type": "code",
   "execution_count": null,
   "metadata": {},
   "outputs": [],
   "source": []
  },
  {
   "cell_type": "code",
   "execution_count": 16,
   "metadata": {},
   "outputs": [
    {
     "data": {
      "text/plain": [
       "9730"
      ]
     },
     "execution_count": 16,
     "metadata": {},
     "output_type": "execute_result"
    }
   ],
   "source": [
    "len(df.index)"
   ]
  },
  {
   "cell_type": "code",
   "execution_count": 13,
   "metadata": {},
   "outputs": [
    {
     "data": {
      "text/plain": [
       "O         94\n",
       "H         94\n",
       "L         94\n",
       "C         94\n",
       "Volume    94\n",
       "dtype: int64"
      ]
     },
     "execution_count": 13,
     "metadata": {},
     "output_type": "execute_result"
    }
   ],
   "source": [
    "df.isna().sum()"
   ]
  },
  {
   "cell_type": "code",
   "execution_count": 31,
   "metadata": {},
   "outputs": [
    {
     "data": {
      "text/plain": [
       "array([9636, 9637, 9638, 9639, 9640, 9641, 9642, 9643, 9644, 9645, 9646,\n",
       "       9647, 9648, 9649, 9650, 9651, 9652, 9653, 9654, 9655, 9656, 9657,\n",
       "       9658, 9659, 9660, 9661, 9662, 9663, 9664, 9665, 9666, 9667, 9668,\n",
       "       9669, 9670, 9671, 9672, 9673, 9674, 9675, 9676, 9677, 9678, 9679,\n",
       "       9680, 9681, 9682, 9683, 9684, 9685, 9686, 9687, 9688, 9689, 9690,\n",
       "       9691, 9692, 9693, 9694, 9695, 9696, 9697, 9698, 9699, 9700, 9701,\n",
       "       9702, 9703, 9704, 9705, 9706, 9707, 9708, 9709, 9710, 9711, 9712,\n",
       "       9713, 9714, 9715, 9716, 9717, 9718, 9719, 9720, 9721, 9722, 9723,\n",
       "       9724, 9725, 9726, 9727, 9728, 9729])"
      ]
     },
     "execution_count": 31,
     "metadata": {},
     "output_type": "execute_result"
    }
   ],
   "source": [
    "nan_values_index = df.index[df.isna().iloc[:,0]].to_numpy()\n",
    "nan_values_index"
   ]
  },
  {
   "cell_type": "code",
   "execution_count": 33,
   "metadata": {},
   "outputs": [
    {
     "data": {
      "text/plain": [
       "array([ True,  True,  True,  True,  True,  True,  True,  True,  True,\n",
       "        True,  True,  True,  True,  True,  True,  True,  True,  True,\n",
       "        True,  True,  True,  True,  True,  True,  True,  True,  True,\n",
       "        True,  True,  True,  True,  True,  True,  True,  True,  True,\n",
       "        True,  True,  True,  True,  True,  True,  True,  True,  True,\n",
       "        True,  True,  True,  True,  True,  True,  True,  True,  True,\n",
       "        True,  True,  True,  True,  True,  True,  True,  True,  True,\n",
       "        True,  True,  True,  True,  True,  True,  True,  True,  True,\n",
       "        True,  True,  True,  True,  True,  True,  True,  True,  True,\n",
       "        True,  True,  True,  True,  True,  True,  True,  True,  True,\n",
       "        True,  True,  True])"
      ]
     },
     "execution_count": 33,
     "metadata": {},
     "output_type": "execute_result"
    }
   ],
   "source": [
    "nan_values_index[1:] - 1 == nan_values_index[:-1]"
   ]
  },
  {
   "cell_type": "code",
   "execution_count": 28,
   "metadata": {},
   "outputs": [
    {
     "data": {
      "text/plain": [
       "0       False\n",
       "1       False\n",
       "2       False\n",
       "3       False\n",
       "4       False\n",
       "        ...  \n",
       "9725     True\n",
       "9726     True\n",
       "9727     True\n",
       "9728     True\n",
       "9729     True\n",
       "Name: O, Length: 9730, dtype: bool"
      ]
     },
     "execution_count": 28,
     "metadata": {},
     "output_type": "execute_result"
    }
   ],
   "source": [
    "df.isna().iloc[:,0]"
   ]
  },
  {
   "cell_type": "code",
   "execution_count": null,
   "metadata": {},
   "outputs": [],
   "source": []
  },
  {
   "cell_type": "code",
   "execution_count": 34,
   "metadata": {},
   "outputs": [],
   "source": [
    "df_ = df.dropna()"
   ]
  },
  {
   "cell_type": "code",
   "execution_count": 38,
   "metadata": {},
   "outputs": [
    {
     "data": {
      "text/plain": [
       "9636"
      ]
     },
     "execution_count": 38,
     "metadata": {},
     "output_type": "execute_result"
    }
   ],
   "source": [
    "len(df_.index)"
   ]
  },
  {
   "cell_type": "code",
   "execution_count": null,
   "metadata": {},
   "outputs": [],
   "source": []
  },
  {
   "cell_type": "code",
   "execution_count": null,
   "metadata": {},
   "outputs": [],
   "source": []
  },
  {
   "cell_type": "code",
   "execution_count": null,
   "metadata": {},
   "outputs": [],
   "source": []
  },
  {
   "cell_type": "code",
   "execution_count": null,
   "metadata": {},
   "outputs": [],
   "source": []
  },
  {
   "cell_type": "code",
   "execution_count": null,
   "metadata": {},
   "outputs": [],
   "source": []
  },
  {
   "cell_type": "code",
   "execution_count": null,
   "metadata": {},
   "outputs": [],
   "source": []
  },
  {
   "cell_type": "code",
   "execution_count": null,
   "metadata": {},
   "outputs": [],
   "source": []
  },
  {
   "cell_type": "code",
   "execution_count": null,
   "metadata": {},
   "outputs": [],
   "source": []
  },
  {
   "cell_type": "code",
   "execution_count": null,
   "metadata": {},
   "outputs": [],
   "source": []
  },
  {
   "cell_type": "code",
   "execution_count": null,
   "metadata": {},
   "outputs": [],
   "source": []
  },
  {
   "cell_type": "code",
   "execution_count": null,
   "metadata": {},
   "outputs": [],
   "source": []
  },
  {
   "cell_type": "code",
   "execution_count": null,
   "metadata": {},
   "outputs": [],
   "source": []
  },
  {
   "cell_type": "code",
   "execution_count": 1,
   "outputs": [],
   "source": [],
   "metadata": {
    "collapsed": false
   }
  }
 ],
 "metadata": {
  "kernelspec": {
   "display_name": "inzynierka",
   "language": "python",
   "name": "inzynierka"
  },
  "language_info": {
   "codemirror_mode": {
    "name": "ipython",
    "version": 3
   },
   "file_extension": ".py",
   "mimetype": "text/x-python",
   "name": "python",
   "nbconvert_exporter": "python",
   "pygments_lexer": "ipython3",
   "version": "3.10.10"
  }
 },
 "nbformat": 4,
 "nbformat_minor": 1
}

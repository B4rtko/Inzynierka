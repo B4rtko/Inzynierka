{
 "cells": [
  {
   "cell_type": "code",
   "execution_count": 1,
   "outputs": [],
   "source": [
    "import pyautogui as pag\n",
    "import time\n",
    "import pyperclip\n",
    "from pynput import keyboard\n"
   ],
   "metadata": {
    "collapsed": false
   }
  },
  {
   "cell_type": "code",
   "execution_count": 2,
   "outputs": [],
   "source": [
    "def _scrap_investing_com_step():\n",
    "    pag.hotkey(\"win\", \"down\")\n",
    "    time.sleep(.001)\n",
    "    pag.hotkey(\"ctrl\", \"c\")\n",
    "    time.sleep(.01)\n",
    "    pag.hotkey(\"win\", \"up\")\n",
    "    time.sleep(.001)\n",
    "    return pyperclip.paste()\n",
    "\n",
    "def scrap_investing_com(steps, _data_list):\n",
    "    for i in range(steps):\n",
    "        _data_list.append(_scrap_investing_com_step())\n",
    "        pag.press(\"right\")\n",
    "    return _data_list"
   ],
   "metadata": {
    "collapsed": false
   }
  },
  {
   "cell_type": "code",
   "execution_count": 3,
   "outputs": [
    {
     "name": "stderr",
     "output_type": "stream",
     "text": [
      "\n",
      "KeyboardInterrupt\n",
      "\n"
     ]
    }
   ],
   "source": [
    "data_container = []\n",
    "flag = 0\n",
    "with keyboard.Events() as events:\n",
    "    while True:\n",
    "        for event in events:\n",
    "            if event.key == keyboard.Key.shift_r:\n",
    "                flag = 1\n",
    "                time.sleep(1)\n",
    "                scrap_investing_com(30_000, data_container)\n",
    "        if flag == 1:\n",
    "            break\n",
    "\n",
    "\n"
   ],
   "metadata": {
    "collapsed": false
   }
  },
  {
   "cell_type": "code",
   "execution_count": 18,
   "outputs": [
    {
     "data": {
      "text/plain": "'pane-legend-item-value-container\"><span class=\"pane-legend-item-value-wrap\"><span class=\"pane-legend-item-value-title pane-legend-line pane-legend-item-value-title__main\">O</span><span class=\"pane-legend-item-value pane-legend-line pane-legend-item-value__main\" style=\"color: rgb(34, 84, 55);\">87.16</span></span><span class=\"pane-legend-item-value-wrap\"><span class=\"pane-legend-item-value-title pane-legend-line pane-legend-item-value-title__main\">H</span><span class=\"pane-legend-item-value pane-legend-line pane-legend-item-value__main\" style=\"color: rgb(34, 84, 55);\">87.19</span></span><span class=\"pane-legend-item-value-wrap\"><span class=\"pane-legend-item-value-title pane-legend-line pane-legend-item-value-title__main\">L</span><span class=\"pane-legend-item-value pane-legend-line pane-legend-item-value__main\" style=\"color: rgb(34, 84, 55);\">87.12</span></span><span class=\"pane-legend-item-value-wrap\"><span class=\"pane-legend-item-value-title pane-legend-line pane-legend-item-value-title__main\">C</span><span class=\"pane-legend-item-value pane-legend-line pane-legend-item-value__main\" style=\"color: rgb(34, 84, 55);\">87.18</span></span><span class=\"pane-legend-item-additional pane-legend-line\"></span></div></div><div class=\"pane-legend-line pane-legend-wrap study\"><span class=\"pane-legend-line apply-overflow-tooltip\" style=\"font-weight: normal; font-size: 12px; color: rgb(85, 85, 85); border-color: rgb(85, 85, 85);\">Volume (20) </span><span class=\"pane-legend-icon-container\"><a class=\"pane-legend-icon apply-common-tooltip icon-hide\" title=\"Show/Hide\"><svg xmlns=\"http://www.w3.org/2000/svg\" viewBox=\"0 0 14 14\" width=\"14\" height=\"14\"><path d=\"M0 0v14h14V0zm7 2.69c3.018 0 5.172 3.232 5.172 4.31 0 1.077-2.154 4.31-5.172 4.31S1.828 8.08 1.828 7c0-1.077 2.154-4.31 5.172-4.31zm0 1.508C5.49 4.198 4.198 5.49 4.198 7S5.49 9.802 7 9.802 9.802 8.51 9.802 7 8.51 4.198 7 4.198zm0 1.68c.646 0 1.12.476 1.12 1.122 0 .646-.473 1.12-1.12 1.12-.646 0-1.12-.473-1.12-1.12 0-.646.473-1.12 1.12-1.12z\"></path></svg></a><a class=\"pane-legend-icon apply-common-tooltip format\" title=\"Format\"><svg xmlns=\"http://www.w3.org/2000/svg\" viewBox=\"-2.4 120.9 14 14\" width=\"14\" height=\"14\" enable-background=\"new -2.4 120.9 600 600\"><path d=\"M-2.4 120.9v14h14v-14zm6.086 1.803H5.52v1.332c.416.1.805.258 1.166.48l.944-.935 1.297 1.297-.943.943c.215.35.38.748.48 1.164H9.8v1.837H8.463c-.1.417-.257.806-.48 1.167l.935.944-1.296 1.298-.944-.943c-.35.215-.747.38-1.164.48v1.332H3.677v-1.33c-.415-.102-.804-.258-1.165-.482l-.943.936-1.298-1.296.94-.945c-.216-.35-.38-.748-.482-1.165H-.597v-1.835H.737c.1-.416.257-.805.48-1.166l-.935-.944 1.296-1.297.944.943c.35-.215.747-.38 1.164-.48zm.912 3.053c-1.188 0-2.143.963-2.143 2.143 0 1.187.963 2.143 2.143 2.143 1.18 0 2.14-.963 2.145-2.145 0-1.188-.966-2.144-2.145-2.144z\"></path></svg></a><a class=\"pane-legend-icon apply-common-tooltip delete\" title=\"Delete\"><svg xmlns=\"http://www.w3.org/2000/svg\" viewBox=\"-2.4 120.9 14 14\" width=\"14\" height=\"14\" enable-background=\"new -2.4 120.9 600 600\"><path d=\"M-2.4 120.9v14h14v-14zm3.34 2.123l3.66 3.66 3.66-3.66 1.217 1.22-3.66 3.658 3.66 3.66-1.22 1.22-3.658-3.66-3.66 3.66-1.22-1.22 3.66-3.66-3.66-3.66z\"></path></svg></a></span><div class=\"pane-legend-item-value-container\"><span class=\"pane-legend-item-value-wrap\"><span class=\"pane-legend-item-value pane-legend-line\" style=\"color: rgb(0, 202, 115);\">40</span></span><span class=\"pane-legend-item-value-wrap\"><span class=\"pane-legend-item-value pane-legend-line\" style=\"color: rgb(0, 0, 0);\">n/a</span></span><span class=\"pane-legend-item-additional pane-legend-line\"></span></div></div></div>'"
     },
     "execution_count": 18,
     "metadata": {},
     "output_type": "execute_result"
    }
   ],
   "source": [
    "data_container[0][data_container[0].find(s):]"
   ],
   "metadata": {
    "collapsed": false
   }
  },
  {
   "cell_type": "code",
   "execution_count": 4,
   "outputs": [
    {
     "data": {
      "text/plain": "9730"
     },
     "execution_count": 4,
     "metadata": {},
     "output_type": "execute_result"
    }
   ],
   "source": [
    "len(data_container)"
   ],
   "metadata": {
    "collapsed": false
   }
  },
  {
   "cell_type": "code",
   "execution_count": null,
   "outputs": [],
   "source": [
    "data_container"
   ],
   "metadata": {
    "collapsed": false
   }
  },
  {
   "cell_type": "code",
   "execution_count": 5,
   "outputs": [],
   "source": [
    "a = {k: v for (k,v) in enumerate(data_container)}"
   ],
   "metadata": {
    "collapsed": false
   }
  },
  {
   "cell_type": "code",
   "execution_count": 1,
   "outputs": [],
   "source": [
    "import json"
   ],
   "metadata": {
    "collapsed": false
   }
  },
  {
   "cell_type": "code",
   "execution_count": 8,
   "outputs": [],
   "source": [
    "with open('data.json', 'w', encoding='utf-8') as f:\n",
    "    json.dump(a, f, ensure_ascii=False, indent=4)\n"
   ],
   "metadata": {
    "collapsed": false
   }
  },
  {
   "cell_type": "code",
   "execution_count": null,
   "outputs": [],
   "source": [
    "with open('../../Data/Raw/Crude_Oil_5.json', 'r', encoding='utf-8') as f:\n",
    "    b = json.load(f)\n"
   ],
   "metadata": {
    "collapsed": false,
    "pycharm": {
     "is_executing": true
    }
   }
  },
  {
   "cell_type": "code",
   "execution_count": 4,
   "outputs": [
    {
     "name": "stdout",
     "output_type": "stream",
     "text": [
      "9730\n"
     ]
    }
   ],
   "source": [
    "print(len(b.keys()))"
   ],
   "metadata": {
    "collapsed": false
   }
  },
  {
   "cell_type": "code",
   "execution_count": 5,
   "outputs": [
    {
     "ename": "NameError",
     "evalue": "name 'a' is not defined",
     "output_type": "error",
     "traceback": [
      "\u001B[0;31m---------------------------------------------------------------------------\u001B[0m",
      "\u001B[0;31mNameError\u001B[0m                                 Traceback (most recent call last)",
      "Cell \u001B[0;32mIn[5], line 1\u001B[0m\n\u001B[0;32m----> 1\u001B[0m \u001B[43ma\u001B[49m\u001B[38;5;241m.\u001B[39mitems() \u001B[38;5;241m==\u001B[39m b\u001B[38;5;241m.\u001B[39mitems()\n",
      "\u001B[0;31mNameError\u001B[0m: name 'a' is not defined"
     ]
    }
   ],
   "source": [
    "a.items() == b.items()"
   ],
   "metadata": {
    "collapsed": false
   }
  },
  {
   "cell_type": "code",
   "execution_count": 26,
   "outputs": [
    {
     "data": {
      "text/plain": "True"
     },
     "execution_count": 26,
     "metadata": {},
     "output_type": "execute_result"
    }
   ],
   "source": [
    "all([a[i] == b[str(i)] for i in range(0, 9730)])"
   ],
   "metadata": {
    "collapsed": false
   }
  },
  {
   "cell_type": "code",
   "execution_count": 11,
   "outputs": [],
   "source": [
    "b.keys()"
   ],
   "metadata": {
    "collapsed": false
   }
  },
  {
   "cell_type": "code",
   "execution_count": 12,
   "outputs": [],
   "source": [
    "b"
   ],
   "metadata": {
    "collapsed": false
   }
  },
  {
   "cell_type": "code",
   "execution_count": 13,
   "outputs": [],
   "source": [
    "b"
   ],
   "metadata": {
    "collapsed": false
   }
  },
  {
   "cell_type": "code",
   "execution_count": null,
   "outputs": [],
   "source": [],
   "metadata": {
    "collapsed": false
   }
  },
  {
   "cell_type": "code",
   "execution_count": null,
   "outputs": [],
   "source": [],
   "metadata": {
    "collapsed": false
   }
  },
  {
   "cell_type": "code",
   "execution_count": null,
   "outputs": [],
   "source": [],
   "metadata": {
    "collapsed": false
   }
  },
  {
   "cell_type": "code",
   "execution_count": null,
   "outputs": [],
   "source": [],
   "metadata": {
    "collapsed": false
   }
  },
  {
   "cell_type": "code",
   "execution_count": 1,
   "outputs": [],
   "source": [],
   "metadata": {
    "collapsed": false
   }
  }
 ],
 "metadata": {
  "kernelspec": {
   "name": "inzynierka",
   "language": "python",
   "display_name": "inzynierka"
  },
  "language_info": {
   "codemirror_mode": {
    "name": "ipython",
    "version": 2
   },
   "file_extension": ".py",
   "mimetype": "text/x-python",
   "name": "python",
   "nbconvert_exporter": "python",
   "pygments_lexer": "ipython2",
   "version": "2.7.6"
  }
 },
 "nbformat": 4,
 "nbformat_minor": 0
}
